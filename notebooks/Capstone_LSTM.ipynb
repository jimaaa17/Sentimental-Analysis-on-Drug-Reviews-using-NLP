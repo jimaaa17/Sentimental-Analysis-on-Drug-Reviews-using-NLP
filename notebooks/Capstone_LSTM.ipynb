{
 "cells": [
  {
   "cell_type": "code",
   "execution_count": 62,
   "metadata": {},
   "outputs": [],
   "source": [
    "# Statistical Packages\n",
    "import numpy as np \n",
    "import pandas as pd \n",
    "\n",
    "# Text Blob and nltk\n",
    "from textblob import TextBlob\n",
    "import nltk\n",
    "from nltk.tokenize import word_tokenize\n",
    "from nltk.stem import WordNetLemmatizer\n",
    "from bs4 import BeautifulSoup\n",
    "import re\n",
    "\n",
    "# Packages required for Neural Networks \n",
    "from keras.utils import to_categorical\n",
    "import random\n",
    "from sklearn.model_selection import train_test_split\n",
    "from keras.preprocessing import sequence\n",
    "from keras.preprocessing.text import Tokenizer\n",
    "from keras.layers import Dense,Dropout,Embedding,LSTM\n",
    "from keras.callbacks import EarlyStopping\n",
    "from keras.layers import Dense, Flatten, LSTM, Conv1D, MaxPooling1D, Dropout, Activation\n",
    "from keras.losses import categorical_crossentropy\n",
    "from keras.optimizers import Adam\n",
    "from keras.models import Sequential\n",
    "from tqdm import tqdm\n",
    "import warnings\n",
    "from keras.preprocessing.sequence import pad_sequences\n",
    "warnings.filterwarnings(\"ignore\", category=UserWarning, module='bs4')\n",
    "lemmatizer = WordNetLemmatizer()\n",
    "\n",
    "# Packages Required for Logistic Regression \n",
    "from sklearn.feature_extraction.text import TfidfVectorizer, CountVectorizer\n",
    "from sklearn.metrics import roc_curve, confusion_matrix, accuracy_score\n",
    "from sklearn.metrics import accuracy_score, roc_auc_score , f1_score\n",
    "from nltk.tokenize import word_tokenize\n",
    "from nltk.stem.snowball import SnowballStemmer\n",
    "import string\n",
    "from sklearn.linear_model import LogisticRegression\n",
    "\n",
    "import matplotlib.pyplot as plt\n",
    "\n",
    "#set random seed for the session and also for tensorflow that runs in background for keras\n",
    "# set_random_seed(123)\n",
    "# random.seed(123)\n"
   ]
  },
  {
   "cell_type": "code",
   "execution_count": 2,
   "metadata": {},
   "outputs": [],
   "source": [
    "df_train = pd.read_csv(\"C:/MITA Spring 19/Turkoz/Capstone/Drug_Dataset/train_raw/train_csv.csv\")\n",
    "df_test = pd.read_csv(\"C:/MITA Spring 19/Turkoz/Capstone/Drug_Dataset/test_raw/test_raw.csv\")"
   ]
  },
  {
   "cell_type": "code",
   "execution_count": 3,
   "metadata": {},
   "outputs": [
    {
     "name": "stdout",
     "output_type": "stream",
     "text": [
      "Shape of the training data-  (161297, 7)\n",
      "Shape of the testing data-  (53766, 7)\n"
     ]
    }
   ],
   "source": [
    "print(\"Shape of the training data- \",df_train.shape)\n",
    "print(\"Shape of the testing data- \",df_test.shape)"
   ]
  },
  {
   "cell_type": "code",
   "execution_count": 4,
   "metadata": {},
   "outputs": [
    {
     "data": {
      "text/plain": [
       "Index(['uniqueID', 'drugName', 'condition', 'review', 'rating', 'date',\n",
       "       'usefulCount'],\n",
       "      dtype='object')"
      ]
     },
     "execution_count": 4,
     "metadata": {},
     "output_type": "execute_result"
    }
   ],
   "source": [
    "##### Columns present in the testing dataset\n",
    "df_train.columns"
   ]
  },
  {
   "cell_type": "code",
   "execution_count": 5,
   "metadata": {},
   "outputs": [
    {
     "data": {
      "text/plain": [
       "0    \"It has no side effect, I take it in combinati...\n",
       "1    \"My son is halfway through his fourth week of ...\n",
       "2    \"I used to take another oral contraceptive, wh...\n",
       "3    \"This is my first time using any form of birth...\n",
       "4    \"Suboxone has completely turned my life around...\n",
       "Name: review, dtype: object"
      ]
     },
     "execution_count": 5,
     "metadata": {},
     "output_type": "execute_result"
    }
   ],
   "source": [
    "\n",
    "######### Displaying how the reviews look like\n",
    "df_train['review'].head(5)"
   ]
  },
  {
   "cell_type": "code",
   "execution_count": 6,
   "metadata": {},
   "outputs": [],
   "source": [
    "df_train['sentiment'] = df_train['rating'].apply(lambda x: 1 if x>5 else 0)\n",
    "df_test['sentiment'] = df_test['rating'].apply(lambda x: 1 if x>5 else 0)"
   ]
  },
  {
   "cell_type": "code",
   "execution_count": 7,
   "metadata": {},
   "outputs": [
    {
     "name": "stderr",
     "output_type": "stream",
     "text": [
      "100%|██████████| 161297/161297 [02:19<00:00, 1159.41it/s]\n"
     ]
    }
   ],
   "source": [
    "reviews = df_train['review']\n",
    "sentiments = []\n",
    "for review in tqdm(reviews):\n",
    "    blob = TextBlob(review)\n",
    "    sentiments += [blob.sentiment.polarity]"
   ]
  },
  {
   "cell_type": "code",
   "execution_count": 8,
   "metadata": {},
   "outputs": [
    {
     "data": {
      "text/html": [
       "<div>\n",
       "<style scoped>\n",
       "    .dataframe tbody tr th:only-of-type {\n",
       "        vertical-align: middle;\n",
       "    }\n",
       "\n",
       "    .dataframe tbody tr th {\n",
       "        vertical-align: top;\n",
       "    }\n",
       "\n",
       "    .dataframe thead th {\n",
       "        text-align: right;\n",
       "    }\n",
       "</style>\n",
       "<table border=\"1\" class=\"dataframe\">\n",
       "  <thead>\n",
       "    <tr style=\"text-align: right;\">\n",
       "      <th></th>\n",
       "      <th>uniqueID</th>\n",
       "      <th>drugName</th>\n",
       "      <th>condition</th>\n",
       "      <th>review</th>\n",
       "      <th>rating</th>\n",
       "      <th>date</th>\n",
       "      <th>usefulCount</th>\n",
       "      <th>sentiment</th>\n",
       "    </tr>\n",
       "  </thead>\n",
       "  <tbody>\n",
       "    <tr>\n",
       "      <td>0</td>\n",
       "      <td>206461</td>\n",
       "      <td>Valsartan</td>\n",
       "      <td>Left Ventricular Dysfunction</td>\n",
       "      <td>\"It has no side effect, I take it in combinati...</td>\n",
       "      <td>9</td>\n",
       "      <td>20-May-12</td>\n",
       "      <td>27</td>\n",
       "      <td>0.000000</td>\n",
       "    </tr>\n",
       "    <tr>\n",
       "      <td>1</td>\n",
       "      <td>95260</td>\n",
       "      <td>Guanfacine</td>\n",
       "      <td>ADHD</td>\n",
       "      <td>\"My son is halfway through his fourth week of ...</td>\n",
       "      <td>8</td>\n",
       "      <td>27-Apr-10</td>\n",
       "      <td>192</td>\n",
       "      <td>0.168333</td>\n",
       "    </tr>\n",
       "    <tr>\n",
       "      <td>2</td>\n",
       "      <td>92703</td>\n",
       "      <td>Lybrel</td>\n",
       "      <td>Birth Control</td>\n",
       "      <td>\"I used to take another oral contraceptive, wh...</td>\n",
       "      <td>5</td>\n",
       "      <td>14-Dec-09</td>\n",
       "      <td>17</td>\n",
       "      <td>0.067210</td>\n",
       "    </tr>\n",
       "    <tr>\n",
       "      <td>3</td>\n",
       "      <td>138000</td>\n",
       "      <td>Ortho Evra</td>\n",
       "      <td>Birth Control</td>\n",
       "      <td>\"This is my first time using any form of birth...</td>\n",
       "      <td>8</td>\n",
       "      <td>3-Nov-15</td>\n",
       "      <td>10</td>\n",
       "      <td>0.179545</td>\n",
       "    </tr>\n",
       "    <tr>\n",
       "      <td>4</td>\n",
       "      <td>35696</td>\n",
       "      <td>Buprenorphine / naloxone</td>\n",
       "      <td>Opiate Dependence</td>\n",
       "      <td>\"Suboxone has completely turned my life around...</td>\n",
       "      <td>9</td>\n",
       "      <td>27-Nov-16</td>\n",
       "      <td>37</td>\n",
       "      <td>0.194444</td>\n",
       "    </tr>\n",
       "  </tbody>\n",
       "</table>\n",
       "</div>"
      ],
      "text/plain": [
       "   uniqueID                  drugName                     condition  \\\n",
       "0    206461                 Valsartan  Left Ventricular Dysfunction   \n",
       "1     95260                Guanfacine                          ADHD   \n",
       "2     92703                    Lybrel                 Birth Control   \n",
       "3    138000                Ortho Evra                 Birth Control   \n",
       "4     35696  Buprenorphine / naloxone             Opiate Dependence   \n",
       "\n",
       "                                              review  rating       date  \\\n",
       "0  \"It has no side effect, I take it in combinati...       9  20-May-12   \n",
       "1  \"My son is halfway through his fourth week of ...       8  27-Apr-10   \n",
       "2  \"I used to take another oral contraceptive, wh...       5  14-Dec-09   \n",
       "3  \"This is my first time using any form of birth...       8   3-Nov-15   \n",
       "4  \"Suboxone has completely turned my life around...       9  27-Nov-16   \n",
       "\n",
       "   usefulCount  sentiment  \n",
       "0           27   0.000000  \n",
       "1          192   0.168333  \n",
       "2           17   0.067210  \n",
       "3           10   0.179545  \n",
       "4           37   0.194444  "
      ]
     },
     "execution_count": 8,
     "metadata": {},
     "output_type": "execute_result"
    }
   ],
   "source": [
    "df_train[\"sentiment\"] = sentiments\n",
    "df_train.head(5)"
   ]
  },
  {
   "cell_type": "code",
   "execution_count": 9,
   "metadata": {},
   "outputs": [],
   "source": [
    "row_indexes1=df_train[df_train['rating']>=5.0].index\n",
    "df_train.loc[row_indexes1,'rating_new']=\"1\"\n",
    "row_indexes0=df_train[df_train['rating']<5.0].index\n",
    "df_train.loc[row_indexes0,'rating_new']=\"0\""
   ]
  },
  {
   "cell_type": "code",
   "execution_count": 10,
   "metadata": {},
   "outputs": [],
   "source": [
    "row_indexes1=df_test[df_test['rating']>=5.0].index\n",
    "df_test.loc[row_indexes1,'rating_new']=\"1\"\n",
    "row_indexes0=df_test[df_test['rating']<5.0].index\n",
    "df_test.loc[row_indexes0,'rating_new']=\"0\""
   ]
  },
  {
   "cell_type": "code",
   "execution_count": 11,
   "metadata": {},
   "outputs": [],
   "source": [
    "df_train['sentiment'] = df_train['rating'].apply(lambda i:1 if i>=5 else 0)\n",
    "df_test['sentiment'] = df_test['rating'].apply(lambda i:1 if i>=5 else 0)"
   ]
  },
  {
   "cell_type": "code",
   "execution_count": 12,
   "metadata": {},
   "outputs": [
    {
     "data": {
      "text/html": [
       "<div>\n",
       "<style scoped>\n",
       "    .dataframe tbody tr th:only-of-type {\n",
       "        vertical-align: middle;\n",
       "    }\n",
       "\n",
       "    .dataframe tbody tr th {\n",
       "        vertical-align: top;\n",
       "    }\n",
       "\n",
       "    .dataframe thead th {\n",
       "        text-align: right;\n",
       "    }\n",
       "</style>\n",
       "<table border=\"1\" class=\"dataframe\">\n",
       "  <thead>\n",
       "    <tr style=\"text-align: right;\">\n",
       "      <th></th>\n",
       "      <th>uniqueID</th>\n",
       "      <th>drugName</th>\n",
       "      <th>condition</th>\n",
       "      <th>review</th>\n",
       "      <th>rating</th>\n",
       "      <th>date</th>\n",
       "      <th>usefulCount</th>\n",
       "      <th>sentiment</th>\n",
       "      <th>rating_new</th>\n",
       "    </tr>\n",
       "  </thead>\n",
       "  <tbody>\n",
       "    <tr>\n",
       "      <td>0</td>\n",
       "      <td>206461</td>\n",
       "      <td>Valsartan</td>\n",
       "      <td>Left Ventricular Dysfunction</td>\n",
       "      <td>\"It has no side effect, I take it in combinati...</td>\n",
       "      <td>9</td>\n",
       "      <td>20-May-12</td>\n",
       "      <td>27</td>\n",
       "      <td>1</td>\n",
       "      <td>1</td>\n",
       "    </tr>\n",
       "    <tr>\n",
       "      <td>1</td>\n",
       "      <td>95260</td>\n",
       "      <td>Guanfacine</td>\n",
       "      <td>ADHD</td>\n",
       "      <td>\"My son is halfway through his fourth week of ...</td>\n",
       "      <td>8</td>\n",
       "      <td>27-Apr-10</td>\n",
       "      <td>192</td>\n",
       "      <td>1</td>\n",
       "      <td>1</td>\n",
       "    </tr>\n",
       "    <tr>\n",
       "      <td>2</td>\n",
       "      <td>92703</td>\n",
       "      <td>Lybrel</td>\n",
       "      <td>Birth Control</td>\n",
       "      <td>\"I used to take another oral contraceptive, wh...</td>\n",
       "      <td>5</td>\n",
       "      <td>14-Dec-09</td>\n",
       "      <td>17</td>\n",
       "      <td>1</td>\n",
       "      <td>1</td>\n",
       "    </tr>\n",
       "    <tr>\n",
       "      <td>3</td>\n",
       "      <td>138000</td>\n",
       "      <td>Ortho Evra</td>\n",
       "      <td>Birth Control</td>\n",
       "      <td>\"This is my first time using any form of birth...</td>\n",
       "      <td>8</td>\n",
       "      <td>3-Nov-15</td>\n",
       "      <td>10</td>\n",
       "      <td>1</td>\n",
       "      <td>1</td>\n",
       "    </tr>\n",
       "    <tr>\n",
       "      <td>4</td>\n",
       "      <td>35696</td>\n",
       "      <td>Buprenorphine / naloxone</td>\n",
       "      <td>Opiate Dependence</td>\n",
       "      <td>\"Suboxone has completely turned my life around...</td>\n",
       "      <td>9</td>\n",
       "      <td>27-Nov-16</td>\n",
       "      <td>37</td>\n",
       "      <td>1</td>\n",
       "      <td>1</td>\n",
       "    </tr>\n",
       "  </tbody>\n",
       "</table>\n",
       "</div>"
      ],
      "text/plain": [
       "   uniqueID                  drugName                     condition  \\\n",
       "0    206461                 Valsartan  Left Ventricular Dysfunction   \n",
       "1     95260                Guanfacine                          ADHD   \n",
       "2     92703                    Lybrel                 Birth Control   \n",
       "3    138000                Ortho Evra                 Birth Control   \n",
       "4     35696  Buprenorphine / naloxone             Opiate Dependence   \n",
       "\n",
       "                                              review  rating       date  \\\n",
       "0  \"It has no side effect, I take it in combinati...       9  20-May-12   \n",
       "1  \"My son is halfway through his fourth week of ...       8  27-Apr-10   \n",
       "2  \"I used to take another oral contraceptive, wh...       5  14-Dec-09   \n",
       "3  \"This is my first time using any form of birth...       8   3-Nov-15   \n",
       "4  \"Suboxone has completely turned my life around...       9  27-Nov-16   \n",
       "\n",
       "   usefulCount  sentiment rating_new  \n",
       "0           27          1          1  \n",
       "1          192          1          1  \n",
       "2           17          1          1  \n",
       "3           10          1          1  \n",
       "4           37          1          1  "
      ]
     },
     "execution_count": 12,
     "metadata": {},
     "output_type": "execute_result"
    }
   ],
   "source": [
    "df_train.head(5)"
   ]
  },
  {
   "cell_type": "code",
   "execution_count": 13,
   "metadata": {},
   "outputs": [
    {
     "data": {
      "text/html": [
       "<div>\n",
       "<style scoped>\n",
       "    .dataframe tbody tr th:only-of-type {\n",
       "        vertical-align: middle;\n",
       "    }\n",
       "\n",
       "    .dataframe tbody tr th {\n",
       "        vertical-align: top;\n",
       "    }\n",
       "\n",
       "    .dataframe thead th {\n",
       "        text-align: right;\n",
       "    }\n",
       "</style>\n",
       "<table border=\"1\" class=\"dataframe\">\n",
       "  <thead>\n",
       "    <tr style=\"text-align: right;\">\n",
       "      <th></th>\n",
       "      <th>uniqueID</th>\n",
       "      <th>drugName</th>\n",
       "      <th>condition</th>\n",
       "      <th>review</th>\n",
       "      <th>rating</th>\n",
       "      <th>date</th>\n",
       "      <th>usefulCount</th>\n",
       "      <th>sentiment</th>\n",
       "      <th>rating_new</th>\n",
       "    </tr>\n",
       "  </thead>\n",
       "  <tbody>\n",
       "    <tr>\n",
       "      <td>0</td>\n",
       "      <td>163740</td>\n",
       "      <td>Mirtazapine</td>\n",
       "      <td>Depression</td>\n",
       "      <td>\"I&amp;#039;ve tried a few antidepressants over th...</td>\n",
       "      <td>10</td>\n",
       "      <td>28-Feb-12</td>\n",
       "      <td>22</td>\n",
       "      <td>1</td>\n",
       "      <td>1</td>\n",
       "    </tr>\n",
       "    <tr>\n",
       "      <td>1</td>\n",
       "      <td>206473</td>\n",
       "      <td>Mesalamine</td>\n",
       "      <td>Crohn's Disease, Maintenance</td>\n",
       "      <td>\"My son has Crohn&amp;#039;s disease and has done ...</td>\n",
       "      <td>8</td>\n",
       "      <td>17-May-09</td>\n",
       "      <td>17</td>\n",
       "      <td>1</td>\n",
       "      <td>1</td>\n",
       "    </tr>\n",
       "    <tr>\n",
       "      <td>2</td>\n",
       "      <td>159672</td>\n",
       "      <td>Bactrim</td>\n",
       "      <td>Urinary Tract Infection</td>\n",
       "      <td>\"Quick reduction of symptoms\"</td>\n",
       "      <td>9</td>\n",
       "      <td>29-Sep-17</td>\n",
       "      <td>3</td>\n",
       "      <td>1</td>\n",
       "      <td>1</td>\n",
       "    </tr>\n",
       "    <tr>\n",
       "      <td>3</td>\n",
       "      <td>39293</td>\n",
       "      <td>Contrave</td>\n",
       "      <td>Weight Loss</td>\n",
       "      <td>\"Contrave combines drugs that were used for al...</td>\n",
       "      <td>9</td>\n",
       "      <td>5-Mar-17</td>\n",
       "      <td>35</td>\n",
       "      <td>1</td>\n",
       "      <td>1</td>\n",
       "    </tr>\n",
       "    <tr>\n",
       "      <td>4</td>\n",
       "      <td>97768</td>\n",
       "      <td>Cyclafem 1 / 35</td>\n",
       "      <td>Birth Control</td>\n",
       "      <td>\"I have been on this birth control for one cyc...</td>\n",
       "      <td>9</td>\n",
       "      <td>22-Oct-15</td>\n",
       "      <td>4</td>\n",
       "      <td>1</td>\n",
       "      <td>1</td>\n",
       "    </tr>\n",
       "  </tbody>\n",
       "</table>\n",
       "</div>"
      ],
      "text/plain": [
       "   uniqueID         drugName                     condition  \\\n",
       "0    163740      Mirtazapine                    Depression   \n",
       "1    206473       Mesalamine  Crohn's Disease, Maintenance   \n",
       "2    159672          Bactrim       Urinary Tract Infection   \n",
       "3     39293         Contrave                   Weight Loss   \n",
       "4     97768  Cyclafem 1 / 35                 Birth Control   \n",
       "\n",
       "                                              review  rating       date  \\\n",
       "0  \"I&#039;ve tried a few antidepressants over th...      10  28-Feb-12   \n",
       "1  \"My son has Crohn&#039;s disease and has done ...       8  17-May-09   \n",
       "2                      \"Quick reduction of symptoms\"       9  29-Sep-17   \n",
       "3  \"Contrave combines drugs that were used for al...       9   5-Mar-17   \n",
       "4  \"I have been on this birth control for one cyc...       9  22-Oct-15   \n",
       "\n",
       "   usefulCount  sentiment rating_new  \n",
       "0           22          1          1  \n",
       "1           17          1          1  \n",
       "2            3          1          1  \n",
       "3           35          1          1  \n",
       "4            4          1          1  "
      ]
     },
     "execution_count": 13,
     "metadata": {},
     "output_type": "execute_result"
    }
   ],
   "source": [
    "df_test.head(5)"
   ]
  },
  {
   "cell_type": "code",
   "execution_count": 14,
   "metadata": {},
   "outputs": [],
   "source": [
    "from tqdm import tqdm\n",
    "\n",
    "def clean_sentences(df):\n",
    "    reviews = []\n",
    "\n",
    "    for sent in tqdm(df['review']):\n",
    "        \n",
    "        #remove html content\n",
    "        review_text = BeautifulSoup(sent).get_text()\n",
    "            \n",
    "        #remove non-alphabetic characters\n",
    "        review_text = re.sub(\"[^a-zA-Z]\",\" \", review_text)\n",
    "    \n",
    "        #tokenize the sentences\n",
    "        words = word_tokenize(review_text.lower())\n",
    "    \n",
    "        #lemmatize each word to its lemma\n",
    "        lemma_words = [lemmatizer.lemmatize(i) for i in words]\n",
    "    \n",
    "        reviews.append(lemma_words)\n",
    "\n",
    "    return(reviews)"
   ]
  },
  {
   "cell_type": "code",
   "execution_count": 15,
   "metadata": {},
   "outputs": [
    {
     "name": "stderr",
     "output_type": "stream",
     "text": [
      "100%|██████████| 161297/161297 [03:06<00:00, 863.09it/s] \n",
      "100%|██████████| 53766/53766 [01:02<00:00, 856.23it/s] \n"
     ]
    }
   ],
   "source": [
    "\n",
    "df_train['tokens'] = clean_sentences(df_train)\n",
    "df_test['tokens'] = clean_sentences(df_test)"
   ]
  },
  {
   "cell_type": "code",
   "execution_count": 16,
   "metadata": {},
   "outputs": [],
   "source": [
    "\n",
    "from nltk.corpus import stopwords\n",
    "stopword = stopwords.words('english')\n",
    "negated_words = ['don',\"don't\",'ain','aren',\"aren't\",'couldn',\"couldn't\",\n",
    "                 'didn',\"didn't\",'doesn',\"doesn't\",'hadn',\"hadn't\",'hasn',\"hasn't\",'haven',\"haven't\",'isn',\"isn't\",\n",
    "                'against','no','not','no','mightn',\"mightn't\",'mustn',\"mustn't\",'needn',\"needn't\",'shan',\"shan't\",'shouldn',\n",
    "                 \"shouldn't\",'wasn',\"wasn't\",'weren',\"weren't\",'won',\"won't\",'wouldn',\"wouldn't\"]\n",
    "stop = []\n",
    "for w in stopword:\n",
    "    if w not in negated_words:\n",
    "        stop.append(w)"
   ]
  },
  {
   "cell_type": "code",
   "execution_count": 17,
   "metadata": {},
   "outputs": [],
   "source": [
    "def clean(sen):\n",
    "    return [word for word in sen if word not in stop]"
   ]
  },
  {
   "cell_type": "code",
   "execution_count": 18,
   "metadata": {},
   "outputs": [],
   "source": [
    "\n",
    "df_train['cleaned']= df_train['tokens'].apply(clean)\n",
    "df_test['cleaned'] = df_test['tokens'].apply(clean)"
   ]
  },
  {
   "cell_type": "code",
   "execution_count": 19,
   "metadata": {},
   "outputs": [
    {
     "data": {
      "text/html": [
       "<div>\n",
       "<style scoped>\n",
       "    .dataframe tbody tr th:only-of-type {\n",
       "        vertical-align: middle;\n",
       "    }\n",
       "\n",
       "    .dataframe tbody tr th {\n",
       "        vertical-align: top;\n",
       "    }\n",
       "\n",
       "    .dataframe thead th {\n",
       "        text-align: right;\n",
       "    }\n",
       "</style>\n",
       "<table border=\"1\" class=\"dataframe\">\n",
       "  <thead>\n",
       "    <tr style=\"text-align: right;\">\n",
       "      <th></th>\n",
       "      <th>uniqueID</th>\n",
       "      <th>drugName</th>\n",
       "      <th>condition</th>\n",
       "      <th>review</th>\n",
       "      <th>rating</th>\n",
       "      <th>date</th>\n",
       "      <th>usefulCount</th>\n",
       "      <th>sentiment</th>\n",
       "      <th>rating_new</th>\n",
       "      <th>tokens</th>\n",
       "      <th>cleaned</th>\n",
       "    </tr>\n",
       "  </thead>\n",
       "  <tbody>\n",
       "    <tr>\n",
       "      <td>0</td>\n",
       "      <td>206461</td>\n",
       "      <td>Valsartan</td>\n",
       "      <td>Left Ventricular Dysfunction</td>\n",
       "      <td>\"It has no side effect, I take it in combinati...</td>\n",
       "      <td>9</td>\n",
       "      <td>20-May-12</td>\n",
       "      <td>27</td>\n",
       "      <td>1</td>\n",
       "      <td>1</td>\n",
       "      <td>[it, ha, no, side, effect, i, take, it, in, co...</td>\n",
       "      <td>[ha, no, side, effect, take, combination, byst...</td>\n",
       "    </tr>\n",
       "    <tr>\n",
       "      <td>1</td>\n",
       "      <td>95260</td>\n",
       "      <td>Guanfacine</td>\n",
       "      <td>ADHD</td>\n",
       "      <td>\"My son is halfway through his fourth week of ...</td>\n",
       "      <td>8</td>\n",
       "      <td>27-Apr-10</td>\n",
       "      <td>192</td>\n",
       "      <td>1</td>\n",
       "      <td>1</td>\n",
       "      <td>[my, son, is, halfway, through, his, fourth, w...</td>\n",
       "      <td>[son, halfway, fourth, week, intuniv, became, ...</td>\n",
       "    </tr>\n",
       "    <tr>\n",
       "      <td>2</td>\n",
       "      <td>92703</td>\n",
       "      <td>Lybrel</td>\n",
       "      <td>Birth Control</td>\n",
       "      <td>\"I used to take another oral contraceptive, wh...</td>\n",
       "      <td>5</td>\n",
       "      <td>14-Dec-09</td>\n",
       "      <td>17</td>\n",
       "      <td>1</td>\n",
       "      <td>1</td>\n",
       "      <td>[i, used, to, take, another, oral, contracepti...</td>\n",
       "      <td>[used, take, another, oral, contraceptive, pil...</td>\n",
       "    </tr>\n",
       "    <tr>\n",
       "      <td>3</td>\n",
       "      <td>138000</td>\n",
       "      <td>Ortho Evra</td>\n",
       "      <td>Birth Control</td>\n",
       "      <td>\"This is my first time using any form of birth...</td>\n",
       "      <td>8</td>\n",
       "      <td>3-Nov-15</td>\n",
       "      <td>10</td>\n",
       "      <td>1</td>\n",
       "      <td>1</td>\n",
       "      <td>[this, is, my, first, time, using, any, form, ...</td>\n",
       "      <td>[first, time, using, form, birth, control, gla...</td>\n",
       "    </tr>\n",
       "    <tr>\n",
       "      <td>4</td>\n",
       "      <td>35696</td>\n",
       "      <td>Buprenorphine / naloxone</td>\n",
       "      <td>Opiate Dependence</td>\n",
       "      <td>\"Suboxone has completely turned my life around...</td>\n",
       "      <td>9</td>\n",
       "      <td>27-Nov-16</td>\n",
       "      <td>37</td>\n",
       "      <td>1</td>\n",
       "      <td>1</td>\n",
       "      <td>[suboxone, ha, completely, turned, my, life, a...</td>\n",
       "      <td>[suboxone, ha, completely, turned, life, aroun...</td>\n",
       "    </tr>\n",
       "  </tbody>\n",
       "</table>\n",
       "</div>"
      ],
      "text/plain": [
       "   uniqueID                  drugName                     condition  \\\n",
       "0    206461                 Valsartan  Left Ventricular Dysfunction   \n",
       "1     95260                Guanfacine                          ADHD   \n",
       "2     92703                    Lybrel                 Birth Control   \n",
       "3    138000                Ortho Evra                 Birth Control   \n",
       "4     35696  Buprenorphine / naloxone             Opiate Dependence   \n",
       "\n",
       "                                              review  rating       date  \\\n",
       "0  \"It has no side effect, I take it in combinati...       9  20-May-12   \n",
       "1  \"My son is halfway through his fourth week of ...       8  27-Apr-10   \n",
       "2  \"I used to take another oral contraceptive, wh...       5  14-Dec-09   \n",
       "3  \"This is my first time using any form of birth...       8   3-Nov-15   \n",
       "4  \"Suboxone has completely turned my life around...       9  27-Nov-16   \n",
       "\n",
       "   usefulCount  sentiment rating_new  \\\n",
       "0           27          1          1   \n",
       "1          192          1          1   \n",
       "2           17          1          1   \n",
       "3           10          1          1   \n",
       "4           37          1          1   \n",
       "\n",
       "                                              tokens  \\\n",
       "0  [it, ha, no, side, effect, i, take, it, in, co...   \n",
       "1  [my, son, is, halfway, through, his, fourth, w...   \n",
       "2  [i, used, to, take, another, oral, contracepti...   \n",
       "3  [this, is, my, first, time, using, any, form, ...   \n",
       "4  [suboxone, ha, completely, turned, my, life, a...   \n",
       "\n",
       "                                             cleaned  \n",
       "0  [ha, no, side, effect, take, combination, byst...  \n",
       "1  [son, halfway, fourth, week, intuniv, became, ...  \n",
       "2  [used, take, another, oral, contraceptive, pil...  \n",
       "3  [first, time, using, form, birth, control, gla...  \n",
       "4  [suboxone, ha, completely, turned, life, aroun...  "
      ]
     },
     "execution_count": 19,
     "metadata": {},
     "output_type": "execute_result"
    }
   ],
   "source": [
    "\n",
    "df_train.head(5)"
   ]
  },
  {
   "cell_type": "markdown",
   "metadata": {},
   "source": [
    "## LSTM With CNN"
   ]
  },
  {
   "cell_type": "code",
   "execution_count": 20,
   "metadata": {},
   "outputs": [
    {
     "name": "stdout",
     "output_type": "stream",
     "text": [
      "6946645 words total, with a vocabulary size of 41914\n",
      "Max sentence length is 973\n"
     ]
    }
   ],
   "source": [
    "############### FOR TRAINING #################\n",
    "all_training_words = [word for tokens in df_train[\"cleaned\"] for word in tokens]\n",
    "training_sentence_lengths = [len(tokens) for tokens in df_train[\"cleaned\"]]\n",
    "TRAINING_VOCAB = sorted(list(set(all_training_words)))\n",
    "print(\"%s words total, with a vocabulary size of %s\" % (len(all_training_words), len(TRAINING_VOCAB)))\n",
    "print(\"Max sentence length is %s\" % max(training_sentence_lengths))"
   ]
  },
  {
   "cell_type": "code",
   "execution_count": 21,
   "metadata": {},
   "outputs": [
    {
     "name": "stdout",
     "output_type": "stream",
     "text": [
      "2311711 words total, with a vocabulary size of 28119\n",
      "Max sentence length is 577\n"
     ]
    }
   ],
   "source": [
    "############### FOR TESTING ##################\n",
    "all_testing_words = [word for tokens in df_test[\"cleaned\"] for word in tokens]\n",
    "testing_sentence_lengths = [len(tokens) for tokens in df_test[\"cleaned\"]]\n",
    "TESTING_VOCAB = sorted(list(set(all_testing_words)))\n",
    "print(\"%s words total, with a vocabulary size of %s\" % (len(all_testing_words), len(TESTING_VOCAB)))\n",
    "print(\"Max sentence length is %s\" % max(testing_sentence_lengths))"
   ]
  },
  {
   "cell_type": "code",
   "execution_count": 22,
   "metadata": {},
   "outputs": [],
   "source": [
    "############### FOR TRAINING #################\n",
    "cleaned_2 = []\n",
    "for i in df_train[\"cleaned\"]:\n",
    "    text = \" \".join(i)\n",
    "    cleaned_2.append(text)\n",
    "df_train[\"cleaned_new\"] = cleaned_2"
   ]
  },
  {
   "cell_type": "code",
   "execution_count": 23,
   "metadata": {},
   "outputs": [
    {
     "name": "stdout",
     "output_type": "stream",
     "text": [
      "53766\n"
     ]
    }
   ],
   "source": [
    "\n",
    "############## FOR TESTING ##################\n",
    "cleaned_2_test = []\n",
    "for i in df_test[\"cleaned\"]:\n",
    "    text = \" \".join(i)\n",
    "    cleaned_2_test.append(text)\n",
    "df_test[\"cleaned_new\"] = cleaned_2_test\n",
    "print(len(cleaned_2_test))"
   ]
  },
  {
   "cell_type": "code",
   "execution_count": 24,
   "metadata": {},
   "outputs": [
    {
     "data": {
      "text/html": [
       "<div>\n",
       "<style scoped>\n",
       "    .dataframe tbody tr th:only-of-type {\n",
       "        vertical-align: middle;\n",
       "    }\n",
       "\n",
       "    .dataframe tbody tr th {\n",
       "        vertical-align: top;\n",
       "    }\n",
       "\n",
       "    .dataframe thead th {\n",
       "        text-align: right;\n",
       "    }\n",
       "</style>\n",
       "<table border=\"1\" class=\"dataframe\">\n",
       "  <thead>\n",
       "    <tr style=\"text-align: right;\">\n",
       "      <th></th>\n",
       "      <th>uniqueID</th>\n",
       "      <th>drugName</th>\n",
       "      <th>condition</th>\n",
       "      <th>review</th>\n",
       "      <th>rating</th>\n",
       "      <th>date</th>\n",
       "      <th>usefulCount</th>\n",
       "      <th>sentiment</th>\n",
       "      <th>rating_new</th>\n",
       "      <th>tokens</th>\n",
       "      <th>cleaned</th>\n",
       "      <th>cleaned_new</th>\n",
       "    </tr>\n",
       "  </thead>\n",
       "  <tbody>\n",
       "    <tr>\n",
       "      <td>0</td>\n",
       "      <td>163740</td>\n",
       "      <td>Mirtazapine</td>\n",
       "      <td>Depression</td>\n",
       "      <td>\"I&amp;#039;ve tried a few antidepressants over th...</td>\n",
       "      <td>10</td>\n",
       "      <td>28-Feb-12</td>\n",
       "      <td>22</td>\n",
       "      <td>1</td>\n",
       "      <td>1</td>\n",
       "      <td>[i, ve, tried, a, few, antidepressant, over, t...</td>\n",
       "      <td>[tried, antidepressant, year, citalopram, fluo...</td>\n",
       "      <td>tried antidepressant year citalopram fluoxetin...</td>\n",
       "    </tr>\n",
       "    <tr>\n",
       "      <td>1</td>\n",
       "      <td>206473</td>\n",
       "      <td>Mesalamine</td>\n",
       "      <td>Crohn's Disease, Maintenance</td>\n",
       "      <td>\"My son has Crohn&amp;#039;s disease and has done ...</td>\n",
       "      <td>8</td>\n",
       "      <td>17-May-09</td>\n",
       "      <td>17</td>\n",
       "      <td>1</td>\n",
       "      <td>1</td>\n",
       "      <td>[my, son, ha, crohn, s, disease, and, ha, done...</td>\n",
       "      <td>[son, ha, crohn, disease, ha, done, well, asac...</td>\n",
       "      <td>son ha crohn disease ha done well asacol ha no...</td>\n",
       "    </tr>\n",
       "    <tr>\n",
       "      <td>2</td>\n",
       "      <td>159672</td>\n",
       "      <td>Bactrim</td>\n",
       "      <td>Urinary Tract Infection</td>\n",
       "      <td>\"Quick reduction of symptoms\"</td>\n",
       "      <td>9</td>\n",
       "      <td>29-Sep-17</td>\n",
       "      <td>3</td>\n",
       "      <td>1</td>\n",
       "      <td>1</td>\n",
       "      <td>[quick, reduction, of, symptom]</td>\n",
       "      <td>[quick, reduction, symptom]</td>\n",
       "      <td>quick reduction symptom</td>\n",
       "    </tr>\n",
       "    <tr>\n",
       "      <td>3</td>\n",
       "      <td>39293</td>\n",
       "      <td>Contrave</td>\n",
       "      <td>Weight Loss</td>\n",
       "      <td>\"Contrave combines drugs that were used for al...</td>\n",
       "      <td>9</td>\n",
       "      <td>5-Mar-17</td>\n",
       "      <td>35</td>\n",
       "      <td>1</td>\n",
       "      <td>1</td>\n",
       "      <td>[contrave, combine, drug, that, were, used, fo...</td>\n",
       "      <td>[contrave, combine, drug, used, alcohol, smoki...</td>\n",
       "      <td>contrave combine drug used alcohol smoking opi...</td>\n",
       "    </tr>\n",
       "    <tr>\n",
       "      <td>4</td>\n",
       "      <td>97768</td>\n",
       "      <td>Cyclafem 1 / 35</td>\n",
       "      <td>Birth Control</td>\n",
       "      <td>\"I have been on this birth control for one cyc...</td>\n",
       "      <td>9</td>\n",
       "      <td>22-Oct-15</td>\n",
       "      <td>4</td>\n",
       "      <td>1</td>\n",
       "      <td>1</td>\n",
       "      <td>[i, have, been, on, this, birth, control, for,...</td>\n",
       "      <td>[birth, control, one, cycle, reading, review, ...</td>\n",
       "      <td>birth control one cycle reading review type si...</td>\n",
       "    </tr>\n",
       "  </tbody>\n",
       "</table>\n",
       "</div>"
      ],
      "text/plain": [
       "   uniqueID         drugName                     condition  \\\n",
       "0    163740      Mirtazapine                    Depression   \n",
       "1    206473       Mesalamine  Crohn's Disease, Maintenance   \n",
       "2    159672          Bactrim       Urinary Tract Infection   \n",
       "3     39293         Contrave                   Weight Loss   \n",
       "4     97768  Cyclafem 1 / 35                 Birth Control   \n",
       "\n",
       "                                              review  rating       date  \\\n",
       "0  \"I&#039;ve tried a few antidepressants over th...      10  28-Feb-12   \n",
       "1  \"My son has Crohn&#039;s disease and has done ...       8  17-May-09   \n",
       "2                      \"Quick reduction of symptoms\"       9  29-Sep-17   \n",
       "3  \"Contrave combines drugs that were used for al...       9   5-Mar-17   \n",
       "4  \"I have been on this birth control for one cyc...       9  22-Oct-15   \n",
       "\n",
       "   usefulCount  sentiment rating_new  \\\n",
       "0           22          1          1   \n",
       "1           17          1          1   \n",
       "2            3          1          1   \n",
       "3           35          1          1   \n",
       "4            4          1          1   \n",
       "\n",
       "                                              tokens  \\\n",
       "0  [i, ve, tried, a, few, antidepressant, over, t...   \n",
       "1  [my, son, ha, crohn, s, disease, and, ha, done...   \n",
       "2                    [quick, reduction, of, symptom]   \n",
       "3  [contrave, combine, drug, that, were, used, fo...   \n",
       "4  [i, have, been, on, this, birth, control, for,...   \n",
       "\n",
       "                                             cleaned  \\\n",
       "0  [tried, antidepressant, year, citalopram, fluo...   \n",
       "1  [son, ha, crohn, disease, ha, done, well, asac...   \n",
       "2                        [quick, reduction, symptom]   \n",
       "3  [contrave, combine, drug, used, alcohol, smoki...   \n",
       "4  [birth, control, one, cycle, reading, review, ...   \n",
       "\n",
       "                                         cleaned_new  \n",
       "0  tried antidepressant year citalopram fluoxetin...  \n",
       "1  son ha crohn disease ha done well asacol ha no...  \n",
       "2                            quick reduction symptom  \n",
       "3  contrave combine drug used alcohol smoking opi...  \n",
       "4  birth control one cycle reading review type si...  "
      ]
     },
     "execution_count": 24,
     "metadata": {},
     "output_type": "execute_result"
    }
   ],
   "source": [
    "df_test.head(5)"
   ]
  },
  {
   "cell_type": "code",
   "execution_count": 25,
   "metadata": {},
   "outputs": [],
   "source": [
    "tokenizer_train = Tokenizer(num_words= len(TRAINING_VOCAB), lower=True, char_level=False)\n",
    "tokenizer_train.fit_on_texts(df_train['cleaned_new'].tolist())\n",
    "\n",
    "sequences_train = tokenizer_train.texts_to_sequences(df_train['cleaned_new'].tolist())\n",
    "data_train = pad_sequences(sequences_train, maxlen=max(training_sentence_lengths))\n",
    "\n",
    "tokenizer_test = Tokenizer(num_words= len(TESTING_VOCAB), lower=True, char_level=False)\n",
    "tokenizer_test.fit_on_texts(df_test['cleaned_new'].tolist())\n",
    "\n",
    "sequences_test = tokenizer_test.texts_to_sequences(df_test['cleaned_new'].tolist())\n",
    "data_test = pad_sequences(sequences_test, maxlen=max(training_sentence_lengths))\n",
    "\n"
   ]
  },
  {
   "cell_type": "code",
   "execution_count": 26,
   "metadata": {},
   "outputs": [
    {
     "name": "stdout",
     "output_type": "stream",
     "text": [
      "Found 41914 unique tokens in the traing data set.\n",
      "Found 28119 unique tokens in the testing data set.\n"
     ]
    }
   ],
   "source": [
    "train_word_index = tokenizer_train.word_index\n",
    "test_word_index = tokenizer_test.word_index\n",
    "print('Found %s unique tokens in the traing data set.' % len(train_word_index))\n",
    "print('Found %s unique tokens in the testing data set.' % len(test_word_index))\n",
    "total_words = len(train_word_index)+1"
   ]
  },
  {
   "cell_type": "code",
   "execution_count": 27,
   "metadata": {},
   "outputs": [
    {
     "name": "stdout",
     "output_type": "stream",
     "text": [
      "Shape of training data (161297, 973)\n",
      "Shape of testing data (53766, 973)\n"
     ]
    }
   ],
   "source": [
    "print(\"Shape of training data\",data_train.shape)\n",
    "print(\"Shape of testing data\",data_test.shape)"
   ]
  },
  {
   "cell_type": "code",
   "execution_count": 33,
   "metadata": {},
   "outputs": [
    {
     "name": "stdout",
     "output_type": "stream",
     "text": [
      "_________________________________________________________________\n",
      "Layer (type)                 Output Shape              Param #   \n",
      "=================================================================\n",
      "embedding_4 (Embedding)      (None, 973, 100)          4191400   \n",
      "_________________________________________________________________\n",
      "lstm_4 (LSTM)                (None, 100)               80400     \n",
      "_________________________________________________________________\n",
      "dense_4 (Dense)              (None, 1)                 101       \n",
      "=================================================================\n",
      "Total params: 4,271,901\n",
      "Trainable params: 4,271,901\n",
      "Non-trainable params: 0\n",
      "_________________________________________________________________\n",
      "None\n"
     ]
    }
   ],
   "source": [
    "# LSTM Model Architecture\n",
    "model_lstm = Sequential()\n",
    "model_lstm.add(Embedding(41914, 100, input_length=973))\n",
    "model_lstm.add(LSTM(100, dropout=0.2, recurrent_dropout=0.2))\n",
    "model_lstm.add(Dense(1, activation='sigmoid'))\n",
    "model_lstm.compile(loss='binary_crossentropy', optimizer='adam', metrics=['accuracy'])\n",
    "print(model_lstm.summary())"
   ]
  },
  {
   "cell_type": "code",
   "execution_count": 34,
   "metadata": {},
   "outputs": [],
   "source": [
    "train_labels = df_train[\"sentiment\"]"
   ]
  },
  {
   "cell_type": "code",
   "execution_count": 35,
   "metadata": {},
   "outputs": [],
   "source": [
    "def create_conv_model():\n",
    "    model_conv = Sequential()\n",
    "    model_conv.add(Embedding(41914, 100, input_length=973))\n",
    "    model_conv.add(Dropout(0.2))\n",
    "    model_conv.add(Conv1D(64, 5, activation='relu'))\n",
    "    model_conv.add(MaxPooling1D(pool_size=4))\n",
    "    model_conv.add(LSTM(100))\n",
    "    model_conv.add(Dense(1, activation='sigmoid'))\n",
    "    model_conv.compile(loss='binary_crossentropy', optimizer='adam', metrics=['accuracy'])\n",
    "    return model_conv"
   ]
  },
  {
   "cell_type": "code",
   "execution_count": 36,
   "metadata": {},
   "outputs": [
    {
     "name": "stdout",
     "output_type": "stream",
     "text": [
      "WARNING:tensorflow:From C:\\Users\\jimaa\\Anaconda3\\lib\\site-packages\\keras\\backend\\tensorflow_backend.py:3976: The name tf.nn.max_pool is deprecated. Please use tf.nn.max_pool2d instead.\n",
      "\n"
     ]
    }
   ],
   "source": [
    "model_conv = create_conv_model()"
   ]
  },
  {
   "cell_type": "code",
   "execution_count": 37,
   "metadata": {},
   "outputs": [
    {
     "name": "stdout",
     "output_type": "stream",
     "text": [
      "WARNING:tensorflow:From C:\\Users\\jimaa\\Anaconda3\\lib\\site-packages\\keras\\backend\\tensorflow_backend.py:986: The name tf.assign_add is deprecated. Please use tf.compat.v1.assign_add instead.\n",
      "\n",
      "WARNING:tensorflow:From C:\\Users\\jimaa\\Anaconda3\\lib\\site-packages\\keras\\backend\\tensorflow_backend.py:973: The name tf.assign is deprecated. Please use tf.compat.v1.assign instead.\n",
      "\n",
      "WARNING:tensorflow:From C:\\Users\\jimaa\\Anaconda3\\lib\\site-packages\\keras\\backend\\tensorflow_backend.py:2741: The name tf.Session is deprecated. Please use tf.compat.v1.Session instead.\n",
      "\n",
      "Train on 112907 samples, validate on 48390 samples\n",
      "Epoch 1/3\n",
      "WARNING:tensorflow:From C:\\Users\\jimaa\\Anaconda3\\lib\\site-packages\\keras\\backend\\tensorflow_backend.py:174: The name tf.get_default_session is deprecated. Please use tf.compat.v1.get_default_session instead.\n",
      "\n",
      "WARNING:tensorflow:From C:\\Users\\jimaa\\Anaconda3\\lib\\site-packages\\keras\\backend\\tensorflow_backend.py:181: The name tf.ConfigProto is deprecated. Please use tf.compat.v1.ConfigProto instead.\n",
      "\n",
      "WARNING:tensorflow:From C:\\Users\\jimaa\\Anaconda3\\lib\\site-packages\\keras\\backend\\tensorflow_backend.py:190: The name tf.global_variables is deprecated. Please use tf.compat.v1.global_variables instead.\n",
      "\n",
      "WARNING:tensorflow:From C:\\Users\\jimaa\\Anaconda3\\lib\\site-packages\\keras\\backend\\tensorflow_backend.py:199: The name tf.is_variable_initialized is deprecated. Please use tf.compat.v1.is_variable_initialized instead.\n",
      "\n",
      "WARNING:tensorflow:From C:\\Users\\jimaa\\Anaconda3\\lib\\site-packages\\keras\\backend\\tensorflow_backend.py:206: The name tf.variables_initializer is deprecated. Please use tf.compat.v1.variables_initializer instead.\n",
      "\n",
      " 20400/112907 [====>.........................] - ETA: 1:10:07 - loss: 0.6994 - acc: 0.27 - ETA: 42:53 - loss: 0.6923 - acc: 0.5000 - ETA: 33:33 - loss: 0.6851 - acc: 0.58 - ETA: 29:23 - loss: 0.6782 - acc: 0.62 - ETA: 26:54 - loss: 0.6687 - acc: 0.65 - ETA: 24:58 - loss: 0.6623 - acc: 0.66 - ETA: 23:34 - loss: 0.6529 - acc: 0.68 - ETA: 22:29 - loss: 0.6499 - acc: 0.68 - ETA: 23:28 - loss: 0.6420 - acc: 0.69 - ETA: 23:30 - loss: 0.6398 - acc: 0.69 - ETA: 22:46 - loss: 0.6284 - acc: 0.70 - ETA: 22:16 - loss: 0.6139 - acc: 0.71 - ETA: 21:41 - loss: 0.6136 - acc: 0.71 - ETA: 21:09 - loss: 0.6075 - acc: 0.71 - ETA: 20:47 - loss: 0.6067 - acc: 0.71 - ETA: 20:26 - loss: 0.6037 - acc: 0.72 - ETA: 20:07 - loss: 0.5971 - acc: 0.72 - ETA: 19:52 - loss: 0.5957 - acc: 0.72 - ETA: 19:36 - loss: 0.5913 - acc: 0.73 - ETA: 19:23 - loss: 0.5882 - acc: 0.73 - ETA: 19:10 - loss: 0.5898 - acc: 0.73 - ETA: 19:02 - loss: 0.5871 - acc: 0.73 - ETA: 18:50 - loss: 0.5844 - acc: 0.73 - ETA: 18:38 - loss: 0.5833 - acc: 0.73 - ETA: 18:29 - loss: 0.5834 - acc: 0.73 - ETA: 18:20 - loss: 0.5810 - acc: 0.73 - ETA: 18:44 - loss: 0.5812 - acc: 0.73 - ETA: 19:01 - loss: 0.5791 - acc: 0.73 - ETA: 18:54 - loss: 0.5792 - acc: 0.73 - ETA: 18:45 - loss: 0.5791 - acc: 0.73 - ETA: 18:38 - loss: 0.5789 - acc: 0.73 - ETA: 18:29 - loss: 0.5748 - acc: 0.74 - ETA: 18:21 - loss: 0.5742 - acc: 0.74 - ETA: 18:16 - loss: 0.5727 - acc: 0.74 - ETA: 18:14 - loss: 0.5706 - acc: 0.74 - ETA: 18:07 - loss: 0.5718 - acc: 0.74 - ETA: 18:02 - loss: 0.5699 - acc: 0.74 - ETA: 17:57 - loss: 0.5717 - acc: 0.74 - ETA: 17:51 - loss: 0.5716 - acc: 0.74 - ETA: 17:49 - loss: 0.5697 - acc: 0.74 - ETA: 17:47 - loss: 0.5685 - acc: 0.74 - ETA: 17:43 - loss: 0.5669 - acc: 0.74 - ETA: 17:47 - loss: 0.5644 - acc: 0.74 - ETA: 18:24 - loss: 0.5626 - acc: 0.74 - ETA: 18:24 - loss: 0.5620 - acc: 0.74 - ETA: 18:20 - loss: 0.5603 - acc: 0.74 - ETA: 18:18 - loss: 0.5609 - acc: 0.74 - ETA: 18:12 - loss: 0.5592 - acc: 0.74 - ETA: 18:07 - loss: 0.5582 - acc: 0.74 - ETA: 18:02 - loss: 0.5560 - acc: 0.74 - ETA: 18:10 - loss: 0.5572 - acc: 0.74 - ETA: 18:04 - loss: 0.5544 - acc: 0.74 - ETA: 18:00 - loss: 0.5548 - acc: 0.74 - ETA: 17:57 - loss: 0.5532 - acc: 0.74 - ETA: 17:52 - loss: 0.5532 - acc: 0.74 - ETA: 17:51 - loss: 0.5530 - acc: 0.74 - ETA: 17:46 - loss: 0.5520 - acc: 0.74 - ETA: 17:42 - loss: 0.5507 - acc: 0.75 - ETA: 17:46 - loss: 0.5506 - acc: 0.74 - ETA: 17:51 - loss: 0.5496 - acc: 0.74 - ETA: 17:48 - loss: 0.5493 - acc: 0.74 - ETA: 17:45 - loss: 0.5491 - acc: 0.74 - ETA: 17:42 - loss: 0.5479 - acc: 0.74 - ETA: 17:37 - loss: 0.5485 - acc: 0.74 - ETA: 17:33 - loss: 0.5473 - acc: 0.74 - ETA: 17:29 - loss: 0.5470 - acc: 0.74 - ETA: 17:26 - loss: 0.5455 - acc: 0.74 - ETA: 17:22 - loss: 0.5444 - acc: 0.74 - ETA: 17:18 - loss: 0.5433 - acc: 0.74 - ETA: 17:15 - loss: 0.5423 - acc: 0.74 - ETA: 17:12 - loss: 0.5418 - acc: 0.74 - ETA: 17:10 - loss: 0.5410 - acc: 0.74 - ETA: 17:06 - loss: 0.5403 - acc: 0.74 - ETA: 17:03 - loss: 0.5389 - acc: 0.74 - ETA: 16:59 - loss: 0.5373 - acc: 0.74 - ETA: 16:57 - loss: 0.5363 - acc: 0.74 - ETA: 16:55 - loss: 0.5348 - acc: 0.75 - ETA: 16:58 - loss: 0.5339 - acc: 0.75 - ETA: 17:00 - loss: 0.5322 - acc: 0.75 - ETA: 16:58 - loss: 0.5316 - acc: 0.75 - ETA: 16:56 - loss: 0.5306 - acc: 0.75 - ETA: 16:53 - loss: 0.5304 - acc: 0.75 - ETA: 16:50 - loss: 0.5285 - acc: 0.75 - ETA: 16:47 - loss: 0.5273 - acc: 0.75 - ETA: 16:45 - loss: 0.5265 - acc: 0.75 - ETA: 16:42 - loss: 0.5265 - acc: 0.75 - ETA: 16:39 - loss: 0.5261 - acc: 0.75 - ETA: 16:37 - loss: 0.5239 - acc: 0.75 - ETA: 16:34 - loss: 0.5229 - acc: 0.75 - ETA: 16:32 - loss: 0.5217 - acc: 0.75 - ETA: 16:31 - loss: 0.5222 - acc: 0.75 - ETA: 16:28 - loss: 0.5210 - acc: 0.75 - ETA: 16:25 - loss: 0.5199 - acc: 0.75 - ETA: 16:24 - loss: 0.5192 - acc: 0.75 - ETA: 16:22 - loss: 0.5169 - acc: 0.75 - ETA: 16:26 - loss: 0.5169 - acc: 0.75 - ETA: 16:26 - loss: 0.5160 - acc: 0.75 - ETA: 16:24 - loss: 0.5153 - acc: 0.76 - ETA: 16:22 - loss: 0.5152 - acc: 0.75 - ETA: 16:20 - loss: 0.5150 - acc: 0.75 - ETA: 16:18 - loss: 0.5139 - acc: 0.76 - ETA: 16:15 - loss: 0.5135 - acc: 0.76 - ETA: 16:13 - loss: 0.5125 - acc: 0.76 - ETA: 16:11 - loss: 0.5109 - acc: 0.76 - ETA: 16:09 - loss: 0.5099 - acc: 0.76 - ETA: 16:12 - loss: 0.5099 - acc: 0.76 - ETA: 16:10 - loss: 0.5088 - acc: 0.76 - ETA: 16:07 - loss: 0.5087 - acc: 0.76 - ETA: 16:05 - loss: 0.5079 - acc: 0.76 - ETA: 16:03 - loss: 0.5073 - acc: 0.76 - ETA: 16:01 - loss: 0.5068 - acc: 0.76 - ETA: 15:59 - loss: 0.5059 - acc: 0.76 - ETA: 16:04 - loss: 0.5055 - acc: 0.76 - ETA: 16:09 - loss: 0.5047 - acc: 0.76 - ETA: 16:09 - loss: 0.5044 - acc: 0.76 - ETA: 16:07 - loss: 0.5038 - acc: 0.76 - ETA: 16:09 - loss: 0.5034 - acc: 0.76 - ETA: 16:10 - loss: 0.5029 - acc: 0.76 - ETA: 16:07 - loss: 0.5018 - acc: 0.76 - ETA: 16:05 - loss: 0.5010 - acc: 0.76 - ETA: 16:03 - loss: 0.5013 - acc: 0.76 - ETA: 16:01 - loss: 0.5009 - acc: 0.76 - ETA: 15:59 - loss: 0.5006 - acc: 0.76 - ETA: 16:00 - loss: 0.5004 - acc: 0.76 - ETA: 16:02 - loss: 0.5001 - acc: 0.76 - ETA: 16:00 - loss: 0.4995 - acc: 0.76 - ETA: 15:58 - loss: 0.4984 - acc: 0.76 - ETA: 16:00 - loss: 0.4979 - acc: 0.76 - ETA: 16:03 - loss: 0.4978 - acc: 0.76 - ETA: 16:04 - loss: 0.4971 - acc: 0.76 - ETA: 16:06 - loss: 0.4974 - acc: 0.76 - ETA: 16:05 - loss: 0.4962 - acc: 0.76 - ETA: 16:03 - loss: 0.4952 - acc: 0.76 - ETA: 16:01 - loss: 0.4948 - acc: 0.77 - ETA: 15:59 - loss: 0.4946 - acc: 0.76 - ETA: 15:57 - loss: 0.4939 - acc: 0.77 - ETA: 15:55 - loss: 0.4935 - acc: 0.77 - ETA: 15:53 - loss: 0.4931 - acc: 0.77 - ETA: 15:51 - loss: 0.4927 - acc: 0.77 - ETA: 15:49 - loss: 0.4912 - acc: 0.77 - ETA: 15:47 - loss: 0.4901 - acc: 0.77 - ETA: 15:45 - loss: 0.4894 - acc: 0.77 - ETA: 15:43 - loss: 0.4891 - acc: 0.77 - ETA: 15:41 - loss: 0.4885 - acc: 0.77 - ETA: 15:46 - loss: 0.4881 - acc: 0.77 - ETA: 15:47 - loss: 0.4879 - acc: 0.77 - ETA: 15:45 - loss: 0.4873 - acc: 0.77 - ETA: 15:43 - loss: 0.4865 - acc: 0.77 - ETA: 15:41 - loss: 0.4861 - acc: 0.77 - ETA: 15:39 - loss: 0.4853 - acc: 0.77 - ETA: 15:37 - loss: 0.4853 - acc: 0.77 - ETA: 15:35 - loss: 0.4845 - acc: 0.77 - ETA: 15:33 - loss: 0.4840 - acc: 0.77 - ETA: 15:32 - loss: 0.4835 - acc: 0.77 - ETA: 15:31 - loss: 0.4830 - acc: 0.77 - ETA: 15:29 - loss: 0.4826 - acc: 0.77 - ETA: 15:28 - loss: 0.4828 - acc: 0.77 - ETA: 15:30 - loss: 0.4823 - acc: 0.77 - ETA: 15:28 - loss: 0.4822 - acc: 0.77 - ETA: 15:26 - loss: 0.4819 - acc: 0.77 - ETA: 15:24 - loss: 0.4817 - acc: 0.77 - ETA: 15:28 - loss: 0.4816 - acc: 0.77 - ETA: 15:29 - loss: 0.4810 - acc: 0.77 - ETA: 15:27 - loss: 0.4802 - acc: 0.77 - ETA: 15:26 - loss: 0.4794 - acc: 0.77 - ETA: 15:24 - loss: 0.4788 - acc: 0.77 - ETA: 15:23 - loss: 0.4788 - acc: 0.77 - ETA: 15:21 - loss: 0.4779 - acc: 0.77 - ETA: 15:20 - loss: 0.4774 - acc: 0.77 - ETA: 15:28 - loss: 0.4769 - acc: 0.77 - ETA: 15:30 - loss: 0.4766 - acc: 0.77 - ETA: 15:28 - loss: 0.4762 - acc: 0.77 - ETA: 15:26 - loss: 0.4759 - acc: 0.77 - ETA: 15:33 - loss: 0.4759 - acc: 0.77 - ETA: 15:38 - loss: 0.4758 - acc: 0.77 - ETA: 15:38 - loss: 0.4757 - acc: 0.77 - ETA: 15:38 - loss: 0.4758 - acc: 0.77 - ETA: 15:36 - loss: 0.4752 - acc: 0.77 - ETA: 15:34 - loss: 0.4747 - acc: 0.77 - ETA: 15:33 - loss: 0.4742 - acc: 0.78 - ETA: 15:33 - loss: 0.4738 - acc: 0.78 - ETA: 15:33 - loss: 0.4734 - acc: 0.78 - ETA: 15:34 - loss: 0.4729 - acc: 0.78 - ETA: 15:33 - loss: 0.4728 - acc: 0.78 - ETA: 15:32 - loss: 0.4719 - acc: 0.78 - ETA: 15:30 - loss: 0.4712 - acc: 0.78 - ETA: 15:28 - loss: 0.4707 - acc: 0.78 - ETA: 15:29 - loss: 0.4703 - acc: 0.78 - ETA: 15:30 - loss: 0.4699 - acc: 0.78 - ETA: 15:31 - loss: 0.4690 - acc: 0.78 - ETA: 15:29 - loss: 0.4689 - acc: 0.78 - ETA: 15:28 - loss: 0.4689 - acc: 0.78 - ETA: 15:26 - loss: 0.4684 - acc: 0.78 - ETA: 15:25 - loss: 0.4678 - acc: 0.78 - ETA: 15:23 - loss: 0.4675 - acc: 0.78 - ETA: 15:21 - loss: 0.4667 - acc: 0.78 - ETA: 15:20 - loss: 0.4660 - acc: 0.78 - ETA: 15:18 - loss: 0.4656 - acc: 0.78 - ETA: 15:16 - loss: 0.4648 - acc: 0.78 - ETA: 15:14 - loss: 0.4648 - acc: 0.78 - ETA: 15:13 - loss: 0.4645 - acc: 0.78 - ETA: 15:11 - loss: 0.4647 - acc: 0.78 - ETA: 15:09 - loss: 0.4647 - acc: 0.78 - ETA: 15:08 - loss: 0.4640 - acc: 0.7865 40800/112907 [=========>....................] - ETA: 15:06 - loss: 0.4638 - acc: 0.78 - ETA: 15:04 - loss: 0.4635 - acc: 0.78 - ETA: 15:06 - loss: 0.4630 - acc: 0.78 - ETA: 15:07 - loss: 0.4630 - acc: 0.78 - ETA: 15:05 - loss: 0.4623 - acc: 0.78 - ETA: 15:03 - loss: 0.4619 - acc: 0.78 - ETA: 15:02 - loss: 0.4615 - acc: 0.78 - ETA: 15:01 - loss: 0.4615 - acc: 0.78 - ETA: 14:59 - loss: 0.4609 - acc: 0.78 - ETA: 14:58 - loss: 0.4604 - acc: 0.78 - ETA: 14:56 - loss: 0.4597 - acc: 0.78 - ETA: 14:55 - loss: 0.4596 - acc: 0.78 - ETA: 14:53 - loss: 0.4595 - acc: 0.78 - ETA: 14:53 - loss: 0.4589 - acc: 0.78 - ETA: 14:52 - loss: 0.4586 - acc: 0.78 - ETA: 14:50 - loss: 0.4583 - acc: 0.78 - ETA: 14:54 - loss: 0.4580 - acc: 0.78 - ETA: 15:03 - loss: 0.4574 - acc: 0.78 - ETA: 15:03 - loss: 0.4572 - acc: 0.78 - ETA: 15:01 - loss: 0.4574 - acc: 0.78 - ETA: 14:59 - loss: 0.4570 - acc: 0.78 - ETA: 14:58 - loss: 0.4569 - acc: 0.78 - ETA: 14:57 - loss: 0.4565 - acc: 0.78 - ETA: 14:56 - loss: 0.4560 - acc: 0.79 - ETA: 14:59 - loss: 0.4557 - acc: 0.79 - ETA: 14:57 - loss: 0.4554 - acc: 0.79 - ETA: 14:56 - loss: 0.4553 - acc: 0.79 - ETA: 14:54 - loss: 0.4554 - acc: 0.79 - ETA: 14:53 - loss: 0.4547 - acc: 0.79 - ETA: 14:54 - loss: 0.4547 - acc: 0.79 - ETA: 14:55 - loss: 0.4546 - acc: 0.79 - ETA: 14:55 - loss: 0.4540 - acc: 0.79 - ETA: 14:59 - loss: 0.4537 - acc: 0.79 - ETA: 14:57 - loss: 0.4532 - acc: 0.79 - ETA: 14:56 - loss: 0.4530 - acc: 0.79 - ETA: 14:59 - loss: 0.4526 - acc: 0.79 - ETA: 14:57 - loss: 0.4524 - acc: 0.79 - ETA: 14:56 - loss: 0.4518 - acc: 0.79 - ETA: 14:55 - loss: 0.4513 - acc: 0.79 - ETA: 14:53 - loss: 0.4512 - acc: 0.79 - ETA: 14:55 - loss: 0.4510 - acc: 0.79 - ETA: 14:53 - loss: 0.4506 - acc: 0.79 - ETA: 14:52 - loss: 0.4502 - acc: 0.79 - ETA: 14:54 - loss: 0.4500 - acc: 0.79 - ETA: 14:53 - loss: 0.4498 - acc: 0.79 - ETA: 14:52 - loss: 0.4498 - acc: 0.79 - ETA: 14:51 - loss: 0.4495 - acc: 0.79 - ETA: 14:50 - loss: 0.4495 - acc: 0.79 - ETA: 14:53 - loss: 0.4495 - acc: 0.79 - ETA: 14:52 - loss: 0.4496 - acc: 0.79 - ETA: 14:52 - loss: 0.4492 - acc: 0.79 - ETA: 14:55 - loss: 0.4485 - acc: 0.79 - ETA: 14:53 - loss: 0.4486 - acc: 0.79 - ETA: 14:51 - loss: 0.4482 - acc: 0.79 - ETA: 14:50 - loss: 0.4483 - acc: 0.79 - ETA: 14:54 - loss: 0.4480 - acc: 0.79 - ETA: 14:53 - loss: 0.4475 - acc: 0.79 - ETA: 14:52 - loss: 0.4470 - acc: 0.79 - ETA: 14:51 - loss: 0.4468 - acc: 0.79 - ETA: 14:51 - loss: 0.4468 - acc: 0.79 - ETA: 14:50 - loss: 0.4465 - acc: 0.79 - ETA: 14:50 - loss: 0.4460 - acc: 0.79 - ETA: 14:48 - loss: 0.4455 - acc: 0.79 - ETA: 14:49 - loss: 0.4453 - acc: 0.79 - ETA: 14:49 - loss: 0.4454 - acc: 0.79 - ETA: 14:47 - loss: 0.4454 - acc: 0.79 - ETA: 14:48 - loss: 0.4448 - acc: 0.79 - ETA: 14:47 - loss: 0.4446 - acc: 0.79 - ETA: 14:49 - loss: 0.4442 - acc: 0.79 - ETA: 14:48 - loss: 0.4439 - acc: 0.79 - ETA: 14:47 - loss: 0.4436 - acc: 0.79 - ETA: 14:48 - loss: 0.4431 - acc: 0.79 - ETA: 14:50 - loss: 0.4430 - acc: 0.79 - ETA: 14:48 - loss: 0.4427 - acc: 0.79 - ETA: 14:47 - loss: 0.4424 - acc: 0.79 - ETA: 14:48 - loss: 0.4425 - acc: 0.79 - ETA: 14:46 - loss: 0.4422 - acc: 0.79 - ETA: 14:44 - loss: 0.4419 - acc: 0.79 - ETA: 14:47 - loss: 0.4414 - acc: 0.79 - ETA: 14:46 - loss: 0.4412 - acc: 0.79 - ETA: 14:47 - loss: 0.4408 - acc: 0.79 - ETA: 14:47 - loss: 0.4404 - acc: 0.79 - ETA: 14:45 - loss: 0.4402 - acc: 0.79 - ETA: 14:44 - loss: 0.4399 - acc: 0.79 - ETA: 14:42 - loss: 0.4400 - acc: 0.79 - ETA: 14:44 - loss: 0.4403 - acc: 0.79 - ETA: 14:43 - loss: 0.4401 - acc: 0.79 - ETA: 14:41 - loss: 0.4398 - acc: 0.79 - ETA: 14:41 - loss: 0.4394 - acc: 0.79 - ETA: 14:44 - loss: 0.4388 - acc: 0.79 - ETA: 14:43 - loss: 0.4387 - acc: 0.79 - ETA: 14:41 - loss: 0.4386 - acc: 0.79 - ETA: 14:40 - loss: 0.4385 - acc: 0.79 - ETA: 14:41 - loss: 0.4382 - acc: 0.79 - ETA: 14:41 - loss: 0.4380 - acc: 0.79 - ETA: 14:39 - loss: 0.4378 - acc: 0.79 - ETA: 14:38 - loss: 0.4379 - acc: 0.79 - ETA: 14:38 - loss: 0.4378 - acc: 0.79 - ETA: 14:37 - loss: 0.4376 - acc: 0.79 - ETA: 14:36 - loss: 0.4373 - acc: 0.79 - ETA: 14:34 - loss: 0.4371 - acc: 0.79 - ETA: 14:33 - loss: 0.4369 - acc: 0.79 - ETA: 14:33 - loss: 0.4368 - acc: 0.79 - ETA: 14:31 - loss: 0.4363 - acc: 0.79 - ETA: 14:30 - loss: 0.4359 - acc: 0.80 - ETA: 14:29 - loss: 0.4358 - acc: 0.80 - ETA: 14:28 - loss: 0.4356 - acc: 0.80 - ETA: 14:28 - loss: 0.4356 - acc: 0.80 - ETA: 14:27 - loss: 0.4354 - acc: 0.80 - ETA: 14:25 - loss: 0.4350 - acc: 0.80 - ETA: 14:25 - loss: 0.4346 - acc: 0.80 - ETA: 14:25 - loss: 0.4342 - acc: 0.80 - ETA: 14:23 - loss: 0.4342 - acc: 0.80 - ETA: 14:23 - loss: 0.4344 - acc: 0.80 - ETA: 14:22 - loss: 0.4340 - acc: 0.80 - ETA: 14:21 - loss: 0.4337 - acc: 0.80 - ETA: 14:20 - loss: 0.4338 - acc: 0.80 - ETA: 14:19 - loss: 0.4336 - acc: 0.80 - ETA: 14:18 - loss: 0.4335 - acc: 0.80 - ETA: 14:17 - loss: 0.4333 - acc: 0.80 - ETA: 14:18 - loss: 0.4330 - acc: 0.80 - ETA: 14:18 - loss: 0.4327 - acc: 0.80 - ETA: 14:17 - loss: 0.4328 - acc: 0.80 - ETA: 14:15 - loss: 0.4325 - acc: 0.80 - ETA: 14:16 - loss: 0.4325 - acc: 0.80 - ETA: 14:16 - loss: 0.4325 - acc: 0.80 - ETA: 14:14 - loss: 0.4323 - acc: 0.80 - ETA: 14:13 - loss: 0.4324 - acc: 0.80 - ETA: 14:11 - loss: 0.4321 - acc: 0.80 - ETA: 14:10 - loss: 0.4317 - acc: 0.80 - ETA: 14:12 - loss: 0.4316 - acc: 0.80 - ETA: 14:10 - loss: 0.4313 - acc: 0.80 - ETA: 14:09 - loss: 0.4310 - acc: 0.80 - ETA: 14:07 - loss: 0.4305 - acc: 0.80 - ETA: 14:07 - loss: 0.4304 - acc: 0.80 - ETA: 14:06 - loss: 0.4304 - acc: 0.80 - ETA: 14:05 - loss: 0.4299 - acc: 0.80 - ETA: 14:04 - loss: 0.4301 - acc: 0.80 - ETA: 14:03 - loss: 0.4297 - acc: 0.80 - ETA: 14:03 - loss: 0.4295 - acc: 0.80 - ETA: 14:02 - loss: 0.4293 - acc: 0.80 - ETA: 14:00 - loss: 0.4292 - acc: 0.80 - ETA: 13:59 - loss: 0.4290 - acc: 0.80 - ETA: 14:00 - loss: 0.4289 - acc: 0.80 - ETA: 13:58 - loss: 0.4288 - acc: 0.80 - ETA: 13:57 - loss: 0.4284 - acc: 0.80 - ETA: 13:55 - loss: 0.4282 - acc: 0.80 - ETA: 13:54 - loss: 0.4283 - acc: 0.80 - ETA: 13:54 - loss: 0.4280 - acc: 0.80 - ETA: 13:53 - loss: 0.4279 - acc: 0.80 - ETA: 13:52 - loss: 0.4275 - acc: 0.80 - ETA: 13:51 - loss: 0.4273 - acc: 0.80 - ETA: 13:50 - loss: 0.4272 - acc: 0.80 - ETA: 13:51 - loss: 0.4269 - acc: 0.80 - ETA: 13:52 - loss: 0.4265 - acc: 0.80 - ETA: 13:51 - loss: 0.4261 - acc: 0.80 - ETA: 13:49 - loss: 0.4257 - acc: 0.80 - ETA: 13:48 - loss: 0.4258 - acc: 0.80 - ETA: 13:46 - loss: 0.4258 - acc: 0.80 - ETA: 13:45 - loss: 0.4260 - acc: 0.80 - ETA: 13:43 - loss: 0.4260 - acc: 0.80 - ETA: 13:44 - loss: 0.4258 - acc: 0.80 - ETA: 13:44 - loss: 0.4258 - acc: 0.80 - ETA: 13:43 - loss: 0.4256 - acc: 0.80 - ETA: 13:41 - loss: 0.4254 - acc: 0.80 - ETA: 13:42 - loss: 0.4253 - acc: 0.80 - ETA: 13:41 - loss: 0.4252 - acc: 0.80 - ETA: 13:40 - loss: 0.4251 - acc: 0.80 - ETA: 13:38 - loss: 0.4250 - acc: 0.80 - ETA: 13:37 - loss: 0.4249 - acc: 0.80 - ETA: 13:35 - loss: 0.4248 - acc: 0.80 - ETA: 13:34 - loss: 0.4245 - acc: 0.80 - ETA: 13:32 - loss: 0.4242 - acc: 0.80 - ETA: 13:31 - loss: 0.4239 - acc: 0.80 - ETA: 13:30 - loss: 0.4236 - acc: 0.80 - ETA: 13:29 - loss: 0.4237 - acc: 0.80 - ETA: 13:28 - loss: 0.4236 - acc: 0.80 - ETA: 13:27 - loss: 0.4237 - acc: 0.80 - ETA: 13:25 - loss: 0.4235 - acc: 0.80 - ETA: 13:24 - loss: 0.4234 - acc: 0.80 - ETA: 13:22 - loss: 0.4232 - acc: 0.80 - ETA: 13:21 - loss: 0.4232 - acc: 0.80 - ETA: 13:19 - loss: 0.4228 - acc: 0.80 - ETA: 13:19 - loss: 0.4229 - acc: 0.80 - ETA: 13:18 - loss: 0.4228 - acc: 0.80 - ETA: 13:16 - loss: 0.4226 - acc: 0.80 - ETA: 13:15 - loss: 0.4223 - acc: 0.80 - ETA: 13:13 - loss: 0.4220 - acc: 0.80 - ETA: 13:12 - loss: 0.4220 - acc: 0.80 - ETA: 13:10 - loss: 0.4219 - acc: 0.80 - ETA: 13:09 - loss: 0.4219 - acc: 0.80 - ETA: 13:07 - loss: 0.4217 - acc: 0.80 - ETA: 13:07 - loss: 0.4215 - acc: 0.80 - ETA: 13:07 - loss: 0.4213 - acc: 0.80 - ETA: 13:06 - loss: 0.4212 - acc: 0.80 - ETA: 13:05 - loss: 0.4210 - acc: 0.80 - ETA: 13:03 - loss: 0.4207 - acc: 0.80 - ETA: 13:02 - loss: 0.4205 - acc: 0.80 - ETA: 13:00 - loss: 0.4204 - acc: 0.80 - ETA: 13:00 - loss: 0.4204 - acc: 0.80 - ETA: 12:59 - loss: 0.4204 - acc: 0.80 - ETA: 12:58 - loss: 0.4203 - acc: 0.80 - ETA: 12:59 - loss: 0.4200 - acc: 0.80 - ETA: 12:57 - loss: 0.4199 - acc: 0.8085 61200/112907 [===============>..............] - ETA: 12:56 - loss: 0.4198 - acc: 0.80 - ETA: 12:55 - loss: 0.4195 - acc: 0.80 - ETA: 12:54 - loss: 0.4194 - acc: 0.80 - ETA: 12:53 - loss: 0.4190 - acc: 0.80 - ETA: 12:53 - loss: 0.4189 - acc: 0.80 - ETA: 12:51 - loss: 0.4188 - acc: 0.80 - ETA: 12:53 - loss: 0.4184 - acc: 0.80 - ETA: 12:52 - loss: 0.4182 - acc: 0.80 - ETA: 12:50 - loss: 0.4180 - acc: 0.80 - ETA: 12:49 - loss: 0.4178 - acc: 0.80 - ETA: 12:48 - loss: 0.4181 - acc: 0.80 - ETA: 12:46 - loss: 0.4180 - acc: 0.80 - ETA: 12:45 - loss: 0.4180 - acc: 0.80 - ETA: 12:43 - loss: 0.4178 - acc: 0.80 - ETA: 12:43 - loss: 0.4178 - acc: 0.80 - ETA: 12:44 - loss: 0.4177 - acc: 0.80 - ETA: 12:43 - loss: 0.4175 - acc: 0.80 - ETA: 12:42 - loss: 0.4176 - acc: 0.80 - ETA: 12:40 - loss: 0.4174 - acc: 0.80 - ETA: 12:40 - loss: 0.4174 - acc: 0.80 - ETA: 12:39 - loss: 0.4171 - acc: 0.80 - ETA: 12:37 - loss: 0.4170 - acc: 0.80 - ETA: 12:36 - loss: 0.4168 - acc: 0.81 - ETA: 12:35 - loss: 0.4169 - acc: 0.81 - ETA: 12:34 - loss: 0.4168 - acc: 0.81 - ETA: 12:32 - loss: 0.4165 - acc: 0.81 - ETA: 12:31 - loss: 0.4164 - acc: 0.81 - ETA: 12:29 - loss: 0.4166 - acc: 0.81 - ETA: 12:30 - loss: 0.4164 - acc: 0.81 - ETA: 12:32 - loss: 0.4162 - acc: 0.81 - ETA: 12:30 - loss: 0.4159 - acc: 0.81 - ETA: 12:29 - loss: 0.4159 - acc: 0.81 - ETA: 12:28 - loss: 0.4158 - acc: 0.81 - ETA: 12:27 - loss: 0.4155 - acc: 0.81 - ETA: 12:27 - loss: 0.4155 - acc: 0.81 - ETA: 12:26 - loss: 0.4157 - acc: 0.81 - ETA: 12:26 - loss: 0.4157 - acc: 0.81 - ETA: 12:25 - loss: 0.4156 - acc: 0.81 - ETA: 12:24 - loss: 0.4156 - acc: 0.81 - ETA: 12:23 - loss: 0.4155 - acc: 0.81 - ETA: 12:22 - loss: 0.4151 - acc: 0.81 - ETA: 12:23 - loss: 0.4149 - acc: 0.81 - ETA: 12:22 - loss: 0.4148 - acc: 0.81 - ETA: 12:22 - loss: 0.4147 - acc: 0.81 - ETA: 12:20 - loss: 0.4144 - acc: 0.81 - ETA: 12:20 - loss: 0.4143 - acc: 0.81 - ETA: 12:19 - loss: 0.4143 - acc: 0.81 - ETA: 12:18 - loss: 0.4142 - acc: 0.81 - ETA: 12:17 - loss: 0.4142 - acc: 0.81 - ETA: 12:16 - loss: 0.4140 - acc: 0.81 - ETA: 12:14 - loss: 0.4139 - acc: 0.81 - ETA: 12:13 - loss: 0.4137 - acc: 0.81 - ETA: 12:12 - loss: 0.4135 - acc: 0.81 - ETA: 12:11 - loss: 0.4134 - acc: 0.81 - ETA: 12:10 - loss: 0.4133 - acc: 0.81 - ETA: 12:10 - loss: 0.4131 - acc: 0.81 - ETA: 12:08 - loss: 0.4128 - acc: 0.81 - ETA: 12:08 - loss: 0.4128 - acc: 0.81 - ETA: 12:08 - loss: 0.4128 - acc: 0.81 - ETA: 12:07 - loss: 0.4128 - acc: 0.81 - ETA: 12:05 - loss: 0.4127 - acc: 0.81 - ETA: 12:06 - loss: 0.4126 - acc: 0.81 - ETA: 12:04 - loss: 0.4124 - acc: 0.81 - ETA: 12:03 - loss: 0.4123 - acc: 0.81 - ETA: 12:03 - loss: 0.4122 - acc: 0.81 - ETA: 12:02 - loss: 0.4120 - acc: 0.81 - ETA: 12:01 - loss: 0.4120 - acc: 0.81 - ETA: 12:00 - loss: 0.4118 - acc: 0.81 - ETA: 11:59 - loss: 0.4117 - acc: 0.81 - ETA: 11:58 - loss: 0.4114 - acc: 0.81 - ETA: 11:56 - loss: 0.4114 - acc: 0.81 - ETA: 11:55 - loss: 0.4111 - acc: 0.81 - ETA: 11:54 - loss: 0.4109 - acc: 0.81 - ETA: 11:53 - loss: 0.4107 - acc: 0.81 - ETA: 11:53 - loss: 0.4107 - acc: 0.81 - ETA: 11:51 - loss: 0.4106 - acc: 0.81 - ETA: 11:50 - loss: 0.4102 - acc: 0.81 - ETA: 11:50 - loss: 0.4100 - acc: 0.81 - ETA: 11:51 - loss: 0.4098 - acc: 0.81 - ETA: 11:50 - loss: 0.4097 - acc: 0.81 - ETA: 11:49 - loss: 0.4095 - acc: 0.81 - ETA: 11:48 - loss: 0.4093 - acc: 0.81 - ETA: 11:49 - loss: 0.4093 - acc: 0.81 - ETA: 11:49 - loss: 0.4093 - acc: 0.81 - ETA: 11:47 - loss: 0.4092 - acc: 0.81 - ETA: 11:46 - loss: 0.4091 - acc: 0.81 - ETA: 11:45 - loss: 0.4089 - acc: 0.81 - ETA: 11:43 - loss: 0.4090 - acc: 0.81 - ETA: 11:42 - loss: 0.4089 - acc: 0.81 - ETA: 11:44 - loss: 0.4088 - acc: 0.81 - ETA: 11:43 - loss: 0.4089 - acc: 0.81 - ETA: 11:41 - loss: 0.4087 - acc: 0.81 - ETA: 11:40 - loss: 0.4087 - acc: 0.81 - ETA: 11:39 - loss: 0.4085 - acc: 0.81 - ETA: 11:38 - loss: 0.4082 - acc: 0.81 - ETA: 11:37 - loss: 0.4083 - acc: 0.81 - ETA: 11:36 - loss: 0.4082 - acc: 0.81 - ETA: 11:35 - loss: 0.4083 - acc: 0.81 - ETA: 11:34 - loss: 0.4082 - acc: 0.81 - ETA: 11:32 - loss: 0.4082 - acc: 0.81 - ETA: 11:31 - loss: 0.4081 - acc: 0.81 - ETA: 11:30 - loss: 0.4082 - acc: 0.81 - ETA: 11:28 - loss: 0.4081 - acc: 0.81 - ETA: 11:27 - loss: 0.4082 - acc: 0.81 - ETA: 11:26 - loss: 0.4081 - acc: 0.81 - ETA: 11:25 - loss: 0.4080 - acc: 0.81 - ETA: 11:23 - loss: 0.4078 - acc: 0.81 - ETA: 11:22 - loss: 0.4078 - acc: 0.81 - ETA: 11:21 - loss: 0.4077 - acc: 0.81 - ETA: 11:19 - loss: 0.4077 - acc: 0.81 - ETA: 11:18 - loss: 0.4079 - acc: 0.81 - ETA: 11:16 - loss: 0.4078 - acc: 0.81 - ETA: 11:15 - loss: 0.4078 - acc: 0.81 - ETA: 11:14 - loss: 0.4078 - acc: 0.81 - ETA: 11:13 - loss: 0.4077 - acc: 0.81 - ETA: 11:11 - loss: 0.4076 - acc: 0.81 - ETA: 11:11 - loss: 0.4076 - acc: 0.81 - ETA: 11:10 - loss: 0.4075 - acc: 0.81 - ETA: 11:09 - loss: 0.4073 - acc: 0.81 - ETA: 11:09 - loss: 0.4072 - acc: 0.81 - ETA: 11:07 - loss: 0.4069 - acc: 0.81 - ETA: 11:06 - loss: 0.4069 - acc: 0.81 - ETA: 11:05 - loss: 0.4069 - acc: 0.81 - ETA: 11:03 - loss: 0.4068 - acc: 0.81 - ETA: 11:02 - loss: 0.4070 - acc: 0.81 - ETA: 11:02 - loss: 0.4069 - acc: 0.81 - ETA: 11:00 - loss: 0.4068 - acc: 0.81 - ETA: 10:59 - loss: 0.4066 - acc: 0.81 - ETA: 10:58 - loss: 0.4065 - acc: 0.81 - ETA: 10:57 - loss: 0.4063 - acc: 0.81 - ETA: 10:55 - loss: 0.4062 - acc: 0.81 - ETA: 10:54 - loss: 0.4060 - acc: 0.81 - ETA: 10:53 - loss: 0.4059 - acc: 0.81 - ETA: 10:52 - loss: 0.4058 - acc: 0.81 - ETA: 10:51 - loss: 0.4058 - acc: 0.81 - ETA: 10:50 - loss: 0.4058 - acc: 0.81 - ETA: 10:48 - loss: 0.4059 - acc: 0.81 - ETA: 10:47 - loss: 0.4058 - acc: 0.81 - ETA: 10:46 - loss: 0.4057 - acc: 0.81 - ETA: 10:45 - loss: 0.4055 - acc: 0.81 - ETA: 10:44 - loss: 0.4054 - acc: 0.81 - ETA: 10:42 - loss: 0.4052 - acc: 0.81 - ETA: 10:41 - loss: 0.4051 - acc: 0.81 - ETA: 10:40 - loss: 0.4050 - acc: 0.81 - ETA: 10:38 - loss: 0.4048 - acc: 0.81 - ETA: 10:37 - loss: 0.4049 - acc: 0.81 - ETA: 10:36 - loss: 0.4049 - acc: 0.81 - ETA: 10:34 - loss: 0.4049 - acc: 0.81 - ETA: 10:33 - loss: 0.4048 - acc: 0.81 - ETA: 10:32 - loss: 0.4046 - acc: 0.81 - ETA: 10:31 - loss: 0.4045 - acc: 0.81 - ETA: 10:30 - loss: 0.4044 - acc: 0.81 - ETA: 10:29 - loss: 0.4043 - acc: 0.81 - ETA: 10:28 - loss: 0.4042 - acc: 0.81 - ETA: 10:26 - loss: 0.4040 - acc: 0.81 - ETA: 10:25 - loss: 0.4039 - acc: 0.81 - ETA: 10:24 - loss: 0.4039 - acc: 0.81 - ETA: 10:23 - loss: 0.4040 - acc: 0.81 - ETA: 10:21 - loss: 0.4039 - acc: 0.81 - ETA: 10:20 - loss: 0.4036 - acc: 0.81 - ETA: 10:19 - loss: 0.4036 - acc: 0.81 - ETA: 10:18 - loss: 0.4036 - acc: 0.81 - ETA: 10:16 - loss: 0.4035 - acc: 0.81 - ETA: 10:15 - loss: 0.4036 - acc: 0.81 - ETA: 10:14 - loss: 0.4033 - acc: 0.81 - ETA: 10:12 - loss: 0.4033 - acc: 0.81 - ETA: 10:12 - loss: 0.4033 - acc: 0.81 - ETA: 10:11 - loss: 0.4031 - acc: 0.81 - ETA: 10:10 - loss: 0.4030 - acc: 0.81 - ETA: 10:09 - loss: 0.4030 - acc: 0.81 - ETA: 10:07 - loss: 0.4029 - acc: 0.81 - ETA: 10:06 - loss: 0.4030 - acc: 0.81 - ETA: 10:05 - loss: 0.4032 - acc: 0.81 - ETA: 10:04 - loss: 0.4029 - acc: 0.81 - ETA: 10:02 - loss: 0.4028 - acc: 0.81 - ETA: 10:01 - loss: 0.4028 - acc: 0.81 - ETA: 10:00 - loss: 0.4028 - acc: 0.81 - ETA: 9:58 - loss: 0.4026 - acc: 0.8174 - ETA: 9:58 - loss: 0.4025 - acc: 0.817 - ETA: 9:57 - loss: 0.4024 - acc: 0.817 - ETA: 9:56 - loss: 0.4023 - acc: 0.817 - ETA: 9:55 - loss: 0.4023 - acc: 0.817 - ETA: 9:54 - loss: 0.4023 - acc: 0.817 - ETA: 9:53 - loss: 0.4022 - acc: 0.817 - ETA: 9:52 - loss: 0.4020 - acc: 0.817 - ETA: 9:50 - loss: 0.4018 - acc: 0.817 - ETA: 9:49 - loss: 0.4018 - acc: 0.817 - ETA: 9:48 - loss: 0.4019 - acc: 0.817 - ETA: 9:47 - loss: 0.4017 - acc: 0.817 - ETA: 9:47 - loss: 0.4016 - acc: 0.817 - ETA: 9:46 - loss: 0.4015 - acc: 0.817 - ETA: 9:46 - loss: 0.4016 - acc: 0.817 - ETA: 9:45 - loss: 0.4014 - acc: 0.818 - ETA: 9:44 - loss: 0.4015 - acc: 0.818 - ETA: 9:44 - loss: 0.4016 - acc: 0.817 - ETA: 9:44 - loss: 0.4016 - acc: 0.818 - ETA: 9:43 - loss: 0.4016 - acc: 0.817 - ETA: 9:41 - loss: 0.4015 - acc: 0.818 - ETA: 9:40 - loss: 0.4013 - acc: 0.818 - ETA: 9:39 - loss: 0.4011 - acc: 0.818 - ETA: 9:39 - loss: 0.4009 - acc: 0.818 - ETA: 9:38 - loss: 0.4007 - acc: 0.818 - ETA: 9:36 - loss: 0.4007 - acc: 0.818 - ETA: 9:35 - loss: 0.4006 - acc: 0.8183 81600/112907 [====================>.........] - ETA: 9:36 - loss: 0.4006 - acc: 0.818 - ETA: 9:35 - loss: 0.4006 - acc: 0.818 - ETA: 9:35 - loss: 0.4006 - acc: 0.818 - ETA: 9:35 - loss: 0.4004 - acc: 0.818 - ETA: 9:34 - loss: 0.4006 - acc: 0.818 - ETA: 9:33 - loss: 0.4005 - acc: 0.818 - ETA: 9:31 - loss: 0.4005 - acc: 0.818 - ETA: 9:30 - loss: 0.4005 - acc: 0.818 - ETA: 9:29 - loss: 0.4005 - acc: 0.818 - ETA: 9:28 - loss: 0.4004 - acc: 0.818 - ETA: 9:27 - loss: 0.4004 - acc: 0.818 - ETA: 9:27 - loss: 0.4004 - acc: 0.818 - ETA: 9:26 - loss: 0.4003 - acc: 0.818 - ETA: 9:25 - loss: 0.4002 - acc: 0.818 - ETA: 9:24 - loss: 0.4002 - acc: 0.818 - ETA: 9:22 - loss: 0.4001 - acc: 0.818 - ETA: 9:21 - loss: 0.3999 - acc: 0.818 - ETA: 9:20 - loss: 0.3997 - acc: 0.818 - ETA: 9:18 - loss: 0.3998 - acc: 0.818 - ETA: 9:17 - loss: 0.3997 - acc: 0.818 - ETA: 9:16 - loss: 0.3996 - acc: 0.818 - ETA: 9:15 - loss: 0.3996 - acc: 0.818 - ETA: 9:14 - loss: 0.3995 - acc: 0.819 - ETA: 9:13 - loss: 0.3996 - acc: 0.818 - ETA: 9:12 - loss: 0.3995 - acc: 0.818 - ETA: 9:11 - loss: 0.3994 - acc: 0.818 - ETA: 9:10 - loss: 0.3992 - acc: 0.819 - ETA: 9:09 - loss: 0.3992 - acc: 0.819 - ETA: 9:08 - loss: 0.3992 - acc: 0.819 - ETA: 9:07 - loss: 0.3991 - acc: 0.819 - ETA: 9:06 - loss: 0.3989 - acc: 0.819 - ETA: 9:05 - loss: 0.3987 - acc: 0.819 - ETA: 9:04 - loss: 0.3985 - acc: 0.819 - ETA: 9:02 - loss: 0.3984 - acc: 0.819 - ETA: 9:01 - loss: 0.3983 - acc: 0.819 - ETA: 9:00 - loss: 0.3981 - acc: 0.819 - ETA: 8:59 - loss: 0.3980 - acc: 0.819 - ETA: 8:57 - loss: 0.3979 - acc: 0.819 - ETA: 8:57 - loss: 0.3980 - acc: 0.819 - ETA: 8:55 - loss: 0.3978 - acc: 0.819 - ETA: 8:54 - loss: 0.3980 - acc: 0.819 - ETA: 8:53 - loss: 0.3980 - acc: 0.819 - ETA: 8:53 - loss: 0.3978 - acc: 0.820 - ETA: 8:52 - loss: 0.3978 - acc: 0.820 - ETA: 8:51 - loss: 0.3977 - acc: 0.820 - ETA: 8:51 - loss: 0.3975 - acc: 0.820 - ETA: 8:49 - loss: 0.3974 - acc: 0.820 - ETA: 8:48 - loss: 0.3973 - acc: 0.820 - ETA: 8:47 - loss: 0.3972 - acc: 0.820 - ETA: 8:46 - loss: 0.3971 - acc: 0.820 - ETA: 8:46 - loss: 0.3971 - acc: 0.820 - ETA: 8:45 - loss: 0.3969 - acc: 0.820 - ETA: 8:44 - loss: 0.3968 - acc: 0.820 - ETA: 8:43 - loss: 0.3966 - acc: 0.820 - ETA: 8:42 - loss: 0.3965 - acc: 0.820 - ETA: 8:41 - loss: 0.3963 - acc: 0.820 - ETA: 8:41 - loss: 0.3963 - acc: 0.820 - ETA: 8:39 - loss: 0.3963 - acc: 0.820 - ETA: 8:39 - loss: 0.3962 - acc: 0.820 - ETA: 8:38 - loss: 0.3962 - acc: 0.820 - ETA: 8:37 - loss: 0.3963 - acc: 0.820 - ETA: 8:36 - loss: 0.3962 - acc: 0.820 - ETA: 8:36 - loss: 0.3961 - acc: 0.820 - ETA: 8:35 - loss: 0.3959 - acc: 0.821 - ETA: 8:34 - loss: 0.3958 - acc: 0.821 - ETA: 8:32 - loss: 0.3957 - acc: 0.821 - ETA: 8:32 - loss: 0.3955 - acc: 0.821 - ETA: 8:31 - loss: 0.3955 - acc: 0.821 - ETA: 8:29 - loss: 0.3954 - acc: 0.821 - ETA: 8:29 - loss: 0.3954 - acc: 0.821 - ETA: 8:27 - loss: 0.3954 - acc: 0.821 - ETA: 8:27 - loss: 0.3953 - acc: 0.821 - ETA: 8:27 - loss: 0.3952 - acc: 0.821 - ETA: 8:26 - loss: 0.3951 - acc: 0.821 - ETA: 8:25 - loss: 0.3949 - acc: 0.821 - ETA: 8:24 - loss: 0.3949 - acc: 0.821 - ETA: 8:23 - loss: 0.3948 - acc: 0.821 - ETA: 8:22 - loss: 0.3947 - acc: 0.821 - ETA: 8:22 - loss: 0.3946 - acc: 0.821 - ETA: 8:21 - loss: 0.3945 - acc: 0.821 - ETA: 8:21 - loss: 0.3944 - acc: 0.821 - ETA: 8:21 - loss: 0.3942 - acc: 0.821 - ETA: 8:19 - loss: 0.3941 - acc: 0.822 - ETA: 8:19 - loss: 0.3940 - acc: 0.822 - ETA: 8:17 - loss: 0.3939 - acc: 0.822 - ETA: 8:16 - loss: 0.3939 - acc: 0.822 - ETA: 8:15 - loss: 0.3938 - acc: 0.822 - ETA: 8:14 - loss: 0.3938 - acc: 0.822 - ETA: 8:13 - loss: 0.3935 - acc: 0.822 - ETA: 8:13 - loss: 0.3935 - acc: 0.822 - ETA: 8:12 - loss: 0.3936 - acc: 0.822 - ETA: 8:12 - loss: 0.3935 - acc: 0.822 - ETA: 8:10 - loss: 0.3935 - acc: 0.822 - ETA: 8:09 - loss: 0.3934 - acc: 0.822 - ETA: 8:08 - loss: 0.3934 - acc: 0.822 - ETA: 8:07 - loss: 0.3934 - acc: 0.822 - ETA: 8:06 - loss: 0.3933 - acc: 0.822 - ETA: 8:05 - loss: 0.3932 - acc: 0.822 - ETA: 8:04 - loss: 0.3931 - acc: 0.822 - ETA: 8:03 - loss: 0.3930 - acc: 0.822 - ETA: 8:02 - loss: 0.3929 - acc: 0.822 - ETA: 8:01 - loss: 0.3927 - acc: 0.822 - ETA: 8:00 - loss: 0.3928 - acc: 0.822 - ETA: 7:59 - loss: 0.3927 - acc: 0.822 - ETA: 7:58 - loss: 0.3926 - acc: 0.822 - ETA: 7:57 - loss: 0.3925 - acc: 0.822 - ETA: 7:56 - loss: 0.3925 - acc: 0.822 - ETA: 7:55 - loss: 0.3924 - acc: 0.823 - ETA: 7:54 - loss: 0.3924 - acc: 0.823 - ETA: 7:53 - loss: 0.3923 - acc: 0.823 - ETA: 7:52 - loss: 0.3922 - acc: 0.823 - ETA: 7:51 - loss: 0.3923 - acc: 0.823 - ETA: 7:50 - loss: 0.3922 - acc: 0.823 - ETA: 7:49 - loss: 0.3921 - acc: 0.823 - ETA: 7:48 - loss: 0.3921 - acc: 0.823 - ETA: 7:47 - loss: 0.3921 - acc: 0.823 - ETA: 7:46 - loss: 0.3920 - acc: 0.823 - ETA: 7:45 - loss: 0.3920 - acc: 0.823 - ETA: 7:44 - loss: 0.3920 - acc: 0.823 - ETA: 7:43 - loss: 0.3919 - acc: 0.823 - ETA: 7:42 - loss: 0.3919 - acc: 0.823 - ETA: 7:41 - loss: 0.3918 - acc: 0.823 - ETA: 7:40 - loss: 0.3917 - acc: 0.823 - ETA: 7:39 - loss: 0.3916 - acc: 0.823 - ETA: 7:38 - loss: 0.3915 - acc: 0.823 - ETA: 7:37 - loss: 0.3914 - acc: 0.823 - ETA: 7:36 - loss: 0.3914 - acc: 0.823 - ETA: 7:35 - loss: 0.3913 - acc: 0.823 - ETA: 7:33 - loss: 0.3914 - acc: 0.823 - ETA: 7:32 - loss: 0.3914 - acc: 0.823 - ETA: 7:31 - loss: 0.3912 - acc: 0.823 - ETA: 7:30 - loss: 0.3910 - acc: 0.823 - ETA: 7:29 - loss: 0.3910 - acc: 0.823 - ETA: 7:28 - loss: 0.3909 - acc: 0.823 - ETA: 7:27 - loss: 0.3908 - acc: 0.823 - ETA: 7:26 - loss: 0.3908 - acc: 0.823 - ETA: 7:25 - loss: 0.3908 - acc: 0.823 - ETA: 7:24 - loss: 0.3906 - acc: 0.823 - ETA: 7:22 - loss: 0.3905 - acc: 0.823 - ETA: 7:21 - loss: 0.3905 - acc: 0.823 - ETA: 7:20 - loss: 0.3905 - acc: 0.823 - ETA: 7:20 - loss: 0.3905 - acc: 0.823 - ETA: 7:18 - loss: 0.3904 - acc: 0.823 - ETA: 7:17 - loss: 0.3903 - acc: 0.823 - ETA: 7:16 - loss: 0.3901 - acc: 0.824 - ETA: 7:15 - loss: 0.3902 - acc: 0.823 - ETA: 7:15 - loss: 0.3901 - acc: 0.823 - ETA: 7:14 - loss: 0.3900 - acc: 0.824 - ETA: 7:13 - loss: 0.3900 - acc: 0.824 - ETA: 7:12 - loss: 0.3898 - acc: 0.824 - ETA: 7:11 - loss: 0.3897 - acc: 0.824 - ETA: 7:10 - loss: 0.3895 - acc: 0.824 - ETA: 7:08 - loss: 0.3895 - acc: 0.824 - ETA: 7:07 - loss: 0.3895 - acc: 0.824 - ETA: 7:07 - loss: 0.3894 - acc: 0.824 - ETA: 7:05 - loss: 0.3894 - acc: 0.824 - ETA: 7:04 - loss: 0.3892 - acc: 0.824 - ETA: 7:04 - loss: 0.3891 - acc: 0.824 - ETA: 7:03 - loss: 0.3891 - acc: 0.824 - ETA: 7:01 - loss: 0.3890 - acc: 0.824 - ETA: 7:00 - loss: 0.3890 - acc: 0.824 - ETA: 6:59 - loss: 0.3890 - acc: 0.824 - ETA: 6:57 - loss: 0.3890 - acc: 0.824 - ETA: 6:56 - loss: 0.3889 - acc: 0.824 - ETA: 6:55 - loss: 0.3888 - acc: 0.824 - ETA: 6:54 - loss: 0.3886 - acc: 0.824 - ETA: 6:53 - loss: 0.3887 - acc: 0.824 - ETA: 6:52 - loss: 0.3886 - acc: 0.824 - ETA: 6:50 - loss: 0.3886 - acc: 0.824 - ETA: 6:50 - loss: 0.3885 - acc: 0.824 - ETA: 6:49 - loss: 0.3884 - acc: 0.824 - ETA: 6:48 - loss: 0.3883 - acc: 0.824 - ETA: 6:46 - loss: 0.3883 - acc: 0.824 - ETA: 6:45 - loss: 0.3881 - acc: 0.825 - ETA: 6:44 - loss: 0.3880 - acc: 0.825 - ETA: 6:43 - loss: 0.3879 - acc: 0.825 - ETA: 6:42 - loss: 0.3877 - acc: 0.825 - ETA: 6:40 - loss: 0.3876 - acc: 0.825 - ETA: 6:39 - loss: 0.3875 - acc: 0.825 - ETA: 6:38 - loss: 0.3874 - acc: 0.825 - ETA: 6:37 - loss: 0.3873 - acc: 0.825 - ETA: 6:36 - loss: 0.3872 - acc: 0.825 - ETA: 6:35 - loss: 0.3872 - acc: 0.825 - ETA: 6:34 - loss: 0.3871 - acc: 0.825 - ETA: 6:33 - loss: 0.3871 - acc: 0.825 - ETA: 6:32 - loss: 0.3870 - acc: 0.825 - ETA: 6:31 - loss: 0.3868 - acc: 0.825 - ETA: 6:29 - loss: 0.3868 - acc: 0.825 - ETA: 6:28 - loss: 0.3868 - acc: 0.825 - ETA: 6:27 - loss: 0.3866 - acc: 0.825 - ETA: 6:26 - loss: 0.3865 - acc: 0.825 - ETA: 6:25 - loss: 0.3865 - acc: 0.825 - ETA: 6:23 - loss: 0.3864 - acc: 0.826 - ETA: 6:23 - loss: 0.3863 - acc: 0.826 - ETA: 6:22 - loss: 0.3863 - acc: 0.826 - ETA: 6:21 - loss: 0.3861 - acc: 0.826 - ETA: 6:20 - loss: 0.3862 - acc: 0.826 - ETA: 6:19 - loss: 0.3861 - acc: 0.826 - ETA: 6:18 - loss: 0.3861 - acc: 0.826 - ETA: 6:16 - loss: 0.3859 - acc: 0.826 - ETA: 6:15 - loss: 0.3860 - acc: 0.826 - ETA: 6:14 - loss: 0.3859 - acc: 0.826 - ETA: 6:13 - loss: 0.3858 - acc: 0.826 - ETA: 6:12 - loss: 0.3857 - acc: 0.8265102000/112907 [==========================>...] - ETA: 6:11 - loss: 0.3857 - acc: 0.826 - ETA: 6:10 - loss: 0.3858 - acc: 0.826 - ETA: 6:09 - loss: 0.3858 - acc: 0.826 - ETA: 6:07 - loss: 0.3856 - acc: 0.826 - ETA: 6:06 - loss: 0.3856 - acc: 0.826 - ETA: 6:05 - loss: 0.3856 - acc: 0.826 - ETA: 6:04 - loss: 0.3855 - acc: 0.826 - ETA: 6:02 - loss: 0.3855 - acc: 0.826 - ETA: 6:01 - loss: 0.3853 - acc: 0.826 - ETA: 6:00 - loss: 0.3853 - acc: 0.826 - ETA: 5:59 - loss: 0.3853 - acc: 0.826 - ETA: 5:58 - loss: 0.3852 - acc: 0.826 - ETA: 5:56 - loss: 0.3850 - acc: 0.827 - ETA: 5:56 - loss: 0.3849 - acc: 0.827 - ETA: 5:54 - loss: 0.3847 - acc: 0.827 - ETA: 5:53 - loss: 0.3846 - acc: 0.827 - ETA: 5:52 - loss: 0.3847 - acc: 0.827 - ETA: 5:51 - loss: 0.3846 - acc: 0.827 - ETA: 5:49 - loss: 0.3846 - acc: 0.827 - ETA: 5:48 - loss: 0.3844 - acc: 0.827 - ETA: 5:47 - loss: 0.3844 - acc: 0.827 - ETA: 5:46 - loss: 0.3844 - acc: 0.827 - ETA: 5:44 - loss: 0.3843 - acc: 0.827 - ETA: 5:43 - loss: 0.3841 - acc: 0.827 - ETA: 5:42 - loss: 0.3842 - acc: 0.827 - ETA: 5:41 - loss: 0.3841 - acc: 0.827 - ETA: 5:40 - loss: 0.3840 - acc: 0.827 - ETA: 5:39 - loss: 0.3840 - acc: 0.827 - ETA: 5:38 - loss: 0.3839 - acc: 0.827 - ETA: 5:36 - loss: 0.3839 - acc: 0.827 - ETA: 5:35 - loss: 0.3837 - acc: 0.827 - ETA: 5:34 - loss: 0.3837 - acc: 0.827 - ETA: 5:33 - loss: 0.3837 - acc: 0.827 - ETA: 5:32 - loss: 0.3837 - acc: 0.827 - ETA: 5:31 - loss: 0.3836 - acc: 0.827 - ETA: 5:30 - loss: 0.3837 - acc: 0.827 - ETA: 5:28 - loss: 0.3837 - acc: 0.827 - ETA: 5:27 - loss: 0.3835 - acc: 0.827 - ETA: 5:26 - loss: 0.3833 - acc: 0.827 - ETA: 5:25 - loss: 0.3832 - acc: 0.827 - ETA: 5:24 - loss: 0.3833 - acc: 0.827 - ETA: 5:22 - loss: 0.3833 - acc: 0.827 - ETA: 5:21 - loss: 0.3833 - acc: 0.827 - ETA: 5:20 - loss: 0.3831 - acc: 0.828 - ETA: 5:19 - loss: 0.3831 - acc: 0.828 - ETA: 5:17 - loss: 0.3830 - acc: 0.828 - ETA: 5:16 - loss: 0.3828 - acc: 0.828 - ETA: 5:15 - loss: 0.3829 - acc: 0.828 - ETA: 5:14 - loss: 0.3828 - acc: 0.828 - ETA: 5:12 - loss: 0.3828 - acc: 0.828 - ETA: 5:11 - loss: 0.3827 - acc: 0.828 - ETA: 5:10 - loss: 0.3826 - acc: 0.828 - ETA: 5:09 - loss: 0.3825 - acc: 0.828 - ETA: 5:07 - loss: 0.3826 - acc: 0.828 - ETA: 5:06 - loss: 0.3826 - acc: 0.828 - ETA: 5:05 - loss: 0.3825 - acc: 0.828 - ETA: 5:04 - loss: 0.3825 - acc: 0.828 - ETA: 5:03 - loss: 0.3824 - acc: 0.828 - ETA: 5:02 - loss: 0.3823 - acc: 0.828 - ETA: 5:00 - loss: 0.3822 - acc: 0.828 - ETA: 4:59 - loss: 0.3822 - acc: 0.828 - ETA: 4:58 - loss: 0.3821 - acc: 0.828 - ETA: 4:57 - loss: 0.3820 - acc: 0.828 - ETA: 4:55 - loss: 0.3819 - acc: 0.828 - ETA: 4:54 - loss: 0.3819 - acc: 0.828 - ETA: 4:53 - loss: 0.3818 - acc: 0.828 - ETA: 4:52 - loss: 0.3818 - acc: 0.828 - ETA: 4:51 - loss: 0.3817 - acc: 0.828 - ETA: 4:50 - loss: 0.3816 - acc: 0.828 - ETA: 4:49 - loss: 0.3816 - acc: 0.828 - ETA: 4:48 - loss: 0.3816 - acc: 0.828 - ETA: 4:47 - loss: 0.3815 - acc: 0.828 - ETA: 4:46 - loss: 0.3815 - acc: 0.828 - ETA: 4:45 - loss: 0.3814 - acc: 0.828 - ETA: 4:44 - loss: 0.3813 - acc: 0.828 - ETA: 4:42 - loss: 0.3812 - acc: 0.828 - ETA: 4:41 - loss: 0.3810 - acc: 0.828 - ETA: 4:40 - loss: 0.3810 - acc: 0.828 - ETA: 4:39 - loss: 0.3810 - acc: 0.828 - ETA: 4:38 - loss: 0.3809 - acc: 0.829 - ETA: 4:36 - loss: 0.3807 - acc: 0.829 - ETA: 4:35 - loss: 0.3807 - acc: 0.829 - ETA: 4:34 - loss: 0.3807 - acc: 0.829 - ETA: 4:33 - loss: 0.3808 - acc: 0.829 - ETA: 4:31 - loss: 0.3807 - acc: 0.829 - ETA: 4:30 - loss: 0.3806 - acc: 0.829 - ETA: 4:29 - loss: 0.3807 - acc: 0.829 - ETA: 4:28 - loss: 0.3806 - acc: 0.829 - ETA: 4:26 - loss: 0.3807 - acc: 0.829 - ETA: 4:25 - loss: 0.3806 - acc: 0.829 - ETA: 4:24 - loss: 0.3805 - acc: 0.829 - ETA: 4:23 - loss: 0.3805 - acc: 0.829 - ETA: 4:22 - loss: 0.3805 - acc: 0.829 - ETA: 4:20 - loss: 0.3804 - acc: 0.829 - ETA: 4:19 - loss: 0.3803 - acc: 0.829 - ETA: 4:18 - loss: 0.3802 - acc: 0.829 - ETA: 4:17 - loss: 0.3803 - acc: 0.829 - ETA: 4:16 - loss: 0.3803 - acc: 0.829 - ETA: 4:15 - loss: 0.3802 - acc: 0.829 - ETA: 4:14 - loss: 0.3801 - acc: 0.829 - ETA: 4:13 - loss: 0.3801 - acc: 0.829 - ETA: 4:12 - loss: 0.3800 - acc: 0.829 - ETA: 4:11 - loss: 0.3799 - acc: 0.829 - ETA: 4:10 - loss: 0.3798 - acc: 0.829 - ETA: 4:09 - loss: 0.3797 - acc: 0.829 - ETA: 4:08 - loss: 0.3799 - acc: 0.829 - ETA: 4:06 - loss: 0.3797 - acc: 0.829 - ETA: 4:05 - loss: 0.3796 - acc: 0.829 - ETA: 4:04 - loss: 0.3795 - acc: 0.829 - ETA: 4:03 - loss: 0.3794 - acc: 0.829 - ETA: 4:01 - loss: 0.3794 - acc: 0.830 - ETA: 4:00 - loss: 0.3792 - acc: 0.830 - ETA: 3:59 - loss: 0.3791 - acc: 0.830 - ETA: 3:58 - loss: 0.3790 - acc: 0.830 - ETA: 3:57 - loss: 0.3789 - acc: 0.830 - ETA: 3:56 - loss: 0.3789 - acc: 0.830 - ETA: 3:54 - loss: 0.3789 - acc: 0.830 - ETA: 3:53 - loss: 0.3789 - acc: 0.830 - ETA: 3:52 - loss: 0.3789 - acc: 0.830 - ETA: 3:51 - loss: 0.3789 - acc: 0.830 - ETA: 3:50 - loss: 0.3789 - acc: 0.830 - ETA: 3:48 - loss: 0.3788 - acc: 0.830 - ETA: 3:47 - loss: 0.3788 - acc: 0.830 - ETA: 3:46 - loss: 0.3788 - acc: 0.830 - ETA: 3:45 - loss: 0.3787 - acc: 0.830 - ETA: 3:43 - loss: 0.3786 - acc: 0.830 - ETA: 3:42 - loss: 0.3786 - acc: 0.830 - ETA: 3:41 - loss: 0.3785 - acc: 0.830 - ETA: 3:40 - loss: 0.3785 - acc: 0.830 - ETA: 3:39 - loss: 0.3784 - acc: 0.830 - ETA: 3:38 - loss: 0.3784 - acc: 0.830 - ETA: 3:36 - loss: 0.3783 - acc: 0.830 - ETA: 3:35 - loss: 0.3782 - acc: 0.830 - ETA: 3:34 - loss: 0.3782 - acc: 0.830 - ETA: 3:33 - loss: 0.3781 - acc: 0.830 - ETA: 3:31 - loss: 0.3781 - acc: 0.830 - ETA: 3:30 - loss: 0.3780 - acc: 0.830 - ETA: 3:29 - loss: 0.3779 - acc: 0.830 - ETA: 3:28 - loss: 0.3779 - acc: 0.830 - ETA: 3:26 - loss: 0.3778 - acc: 0.830 - ETA: 3:25 - loss: 0.3777 - acc: 0.830 - ETA: 3:24 - loss: 0.3777 - acc: 0.830 - ETA: 3:23 - loss: 0.3777 - acc: 0.830 - ETA: 3:22 - loss: 0.3776 - acc: 0.830 - ETA: 3:21 - loss: 0.3775 - acc: 0.831 - ETA: 3:19 - loss: 0.3775 - acc: 0.831 - ETA: 3:18 - loss: 0.3774 - acc: 0.831 - ETA: 3:17 - loss: 0.3772 - acc: 0.831 - ETA: 3:16 - loss: 0.3771 - acc: 0.831 - ETA: 3:14 - loss: 0.3771 - acc: 0.831 - ETA: 3:13 - loss: 0.3770 - acc: 0.831 - ETA: 3:12 - loss: 0.3769 - acc: 0.831 - ETA: 3:11 - loss: 0.3770 - acc: 0.831 - ETA: 3:09 - loss: 0.3769 - acc: 0.831 - ETA: 3:08 - loss: 0.3768 - acc: 0.831 - ETA: 3:07 - loss: 0.3768 - acc: 0.831 - ETA: 3:06 - loss: 0.3768 - acc: 0.831 - ETA: 3:05 - loss: 0.3767 - acc: 0.831 - ETA: 3:04 - loss: 0.3766 - acc: 0.831 - ETA: 3:02 - loss: 0.3766 - acc: 0.831 - ETA: 3:01 - loss: 0.3765 - acc: 0.831 - ETA: 3:00 - loss: 0.3765 - acc: 0.831 - ETA: 2:59 - loss: 0.3764 - acc: 0.831 - ETA: 2:57 - loss: 0.3763 - acc: 0.831 - ETA: 2:56 - loss: 0.3761 - acc: 0.831 - ETA: 2:55 - loss: 0.3761 - acc: 0.831 - ETA: 2:54 - loss: 0.3762 - acc: 0.831 - ETA: 2:53 - loss: 0.3760 - acc: 0.831 - ETA: 2:51 - loss: 0.3760 - acc: 0.831 - ETA: 2:50 - loss: 0.3760 - acc: 0.831 - ETA: 2:49 - loss: 0.3759 - acc: 0.831 - ETA: 2:48 - loss: 0.3759 - acc: 0.831 - ETA: 2:47 - loss: 0.3758 - acc: 0.831 - ETA: 2:45 - loss: 0.3756 - acc: 0.831 - ETA: 2:44 - loss: 0.3755 - acc: 0.832 - ETA: 2:43 - loss: 0.3754 - acc: 0.832 - ETA: 2:42 - loss: 0.3753 - acc: 0.832 - ETA: 2:41 - loss: 0.3752 - acc: 0.832 - ETA: 2:39 - loss: 0.3751 - acc: 0.832 - ETA: 2:38 - loss: 0.3751 - acc: 0.832 - ETA: 2:37 - loss: 0.3752 - acc: 0.832 - ETA: 2:36 - loss: 0.3752 - acc: 0.832 - ETA: 2:34 - loss: 0.3752 - acc: 0.832 - ETA: 2:33 - loss: 0.3752 - acc: 0.832 - ETA: 2:32 - loss: 0.3753 - acc: 0.832 - ETA: 2:31 - loss: 0.3753 - acc: 0.832 - ETA: 2:30 - loss: 0.3752 - acc: 0.832 - ETA: 2:28 - loss: 0.3751 - acc: 0.832 - ETA: 2:27 - loss: 0.3751 - acc: 0.832 - ETA: 2:26 - loss: 0.3750 - acc: 0.832 - ETA: 2:25 - loss: 0.3750 - acc: 0.832 - ETA: 2:24 - loss: 0.3749 - acc: 0.832 - ETA: 2:22 - loss: 0.3748 - acc: 0.832 - ETA: 2:21 - loss: 0.3747 - acc: 0.832 - ETA: 2:20 - loss: 0.3746 - acc: 0.832 - ETA: 2:19 - loss: 0.3745 - acc: 0.832 - ETA: 2:18 - loss: 0.3745 - acc: 0.832 - ETA: 2:16 - loss: 0.3744 - acc: 0.832 - ETA: 2:15 - loss: 0.3744 - acc: 0.832 - ETA: 2:14 - loss: 0.3743 - acc: 0.832 - ETA: 2:13 - loss: 0.3743 - acc: 0.832 - ETA: 2:12 - loss: 0.3743 - acc: 0.832 - ETA: 2:10 - loss: 0.3744 - acc: 0.832 - ETA: 2:09 - loss: 0.3744 - acc: 0.8328112907/112907 [==============================] - ETA: 2:08 - loss: 0.3743 - acc: 0.832 - ETA: 2:07 - loss: 0.3742 - acc: 0.832 - ETA: 2:06 - loss: 0.3742 - acc: 0.832 - ETA: 2:04 - loss: 0.3741 - acc: 0.833 - ETA: 2:03 - loss: 0.3741 - acc: 0.833 - ETA: 2:02 - loss: 0.3742 - acc: 0.832 - ETA: 2:01 - loss: 0.3741 - acc: 0.833 - ETA: 2:00 - loss: 0.3741 - acc: 0.833 - ETA: 1:58 - loss: 0.3740 - acc: 0.833 - ETA: 1:57 - loss: 0.3739 - acc: 0.833 - ETA: 1:56 - loss: 0.3739 - acc: 0.833 - ETA: 1:55 - loss: 0.3739 - acc: 0.833 - ETA: 1:54 - loss: 0.3737 - acc: 0.833 - ETA: 1:52 - loss: 0.3737 - acc: 0.833 - ETA: 1:51 - loss: 0.3737 - acc: 0.833 - ETA: 1:50 - loss: 0.3735 - acc: 0.833 - ETA: 1:49 - loss: 0.3736 - acc: 0.833 - ETA: 1:48 - loss: 0.3734 - acc: 0.833 - ETA: 1:47 - loss: 0.3733 - acc: 0.833 - ETA: 1:45 - loss: 0.3733 - acc: 0.833 - ETA: 1:44 - loss: 0.3731 - acc: 0.833 - ETA: 1:43 - loss: 0.3731 - acc: 0.833 - ETA: 1:42 - loss: 0.3731 - acc: 0.833 - ETA: 1:41 - loss: 0.3732 - acc: 0.833 - ETA: 1:40 - loss: 0.3732 - acc: 0.833 - ETA: 1:38 - loss: 0.3731 - acc: 0.833 - ETA: 1:37 - loss: 0.3730 - acc: 0.833 - ETA: 1:36 - loss: 0.3729 - acc: 0.833 - ETA: 1:35 - loss: 0.3728 - acc: 0.833 - ETA: 1:34 - loss: 0.3728 - acc: 0.833 - ETA: 1:32 - loss: 0.3728 - acc: 0.833 - ETA: 1:31 - loss: 0.3728 - acc: 0.833 - ETA: 1:30 - loss: 0.3727 - acc: 0.833 - ETA: 1:29 - loss: 0.3728 - acc: 0.833 - ETA: 1:28 - loss: 0.3727 - acc: 0.833 - ETA: 1:27 - loss: 0.3726 - acc: 0.833 - ETA: 1:26 - loss: 0.3725 - acc: 0.833 - ETA: 1:24 - loss: 0.3725 - acc: 0.833 - ETA: 1:23 - loss: 0.3724 - acc: 0.833 - ETA: 1:22 - loss: 0.3724 - acc: 0.833 - ETA: 1:21 - loss: 0.3723 - acc: 0.833 - ETA: 1:20 - loss: 0.3724 - acc: 0.833 - ETA: 1:18 - loss: 0.3723 - acc: 0.834 - ETA: 1:17 - loss: 0.3722 - acc: 0.834 - ETA: 1:16 - loss: 0.3722 - acc: 0.834 - ETA: 1:15 - loss: 0.3722 - acc: 0.834 - ETA: 1:14 - loss: 0.3722 - acc: 0.834 - ETA: 1:13 - loss: 0.3721 - acc: 0.834 - ETA: 1:11 - loss: 0.3721 - acc: 0.834 - ETA: 1:10 - loss: 0.3720 - acc: 0.834 - ETA: 1:09 - loss: 0.3720 - acc: 0.834 - ETA: 1:08 - loss: 0.3719 - acc: 0.834 - ETA: 1:07 - loss: 0.3719 - acc: 0.834 - ETA: 1:05 - loss: 0.3718 - acc: 0.834 - ETA: 1:04 - loss: 0.3717 - acc: 0.834 - ETA: 1:03 - loss: 0.3717 - acc: 0.834 - ETA: 1:02 - loss: 0.3717 - acc: 0.834 - ETA: 1:01 - loss: 0.3717 - acc: 0.834 - ETA: 1:00 - loss: 0.3717 - acc: 0.834 - ETA: 58s - loss: 0.3717 - acc: 0.834 - ETA: 57s - loss: 0.3716 - acc: 0.83 - ETA: 56s - loss: 0.3716 - acc: 0.83 - ETA: 55s - loss: 0.3716 - acc: 0.83 - ETA: 54s - loss: 0.3716 - acc: 0.83 - ETA: 52s - loss: 0.3715 - acc: 0.83 - ETA: 51s - loss: 0.3715 - acc: 0.83 - ETA: 50s - loss: 0.3715 - acc: 0.83 - ETA: 49s - loss: 0.3715 - acc: 0.83 - ETA: 48s - loss: 0.3714 - acc: 0.83 - ETA: 46s - loss: 0.3714 - acc: 0.83 - ETA: 45s - loss: 0.3713 - acc: 0.83 - ETA: 44s - loss: 0.3713 - acc: 0.83 - ETA: 43s - loss: 0.3712 - acc: 0.83 - ETA: 42s - loss: 0.3711 - acc: 0.83 - ETA: 40s - loss: 0.3711 - acc: 0.83 - ETA: 39s - loss: 0.3710 - acc: 0.83 - ETA: 38s - loss: 0.3710 - acc: 0.83 - ETA: 37s - loss: 0.3709 - acc: 0.83 - ETA: 36s - loss: 0.3709 - acc: 0.83 - ETA: 34s - loss: 0.3709 - acc: 0.83 - ETA: 33s - loss: 0.3709 - acc: 0.83 - ETA: 32s - loss: 0.3708 - acc: 0.83 - ETA: 31s - loss: 0.3707 - acc: 0.83 - ETA: 30s - loss: 0.3706 - acc: 0.83 - ETA: 28s - loss: 0.3706 - acc: 0.83 - ETA: 27s - loss: 0.3706 - acc: 0.83 - ETA: 26s - loss: 0.3705 - acc: 0.83 - ETA: 25s - loss: 0.3705 - acc: 0.83 - ETA: 24s - loss: 0.3705 - acc: 0.83 - ETA: 22s - loss: 0.3706 - acc: 0.83 - ETA: 21s - loss: 0.3705 - acc: 0.83 - ETA: 20s - loss: 0.3705 - acc: 0.83 - ETA: 19s - loss: 0.3705 - acc: 0.83 - ETA: 18s - loss: 0.3704 - acc: 0.83 - ETA: 16s - loss: 0.3703 - acc: 0.83 - ETA: 15s - loss: 0.3703 - acc: 0.83 - ETA: 14s - loss: 0.3703 - acc: 0.83 - ETA: 13s - loss: 0.3703 - acc: 0.83 - ETA: 12s - loss: 0.3703 - acc: 0.83 - ETA: 10s - loss: 0.3703 - acc: 0.83 - ETA: 9s - loss: 0.3703 - acc: 0.8352 - ETA: 8s - loss: 0.3702 - acc: 0.835 - ETA: 7s - loss: 0.3701 - acc: 0.835 - ETA: 6s - loss: 0.3702 - acc: 0.835 - ETA: 4s - loss: 0.3702 - acc: 0.835 - ETA: 3s - loss: 0.3702 - acc: 0.835 - ETA: 2s - loss: 0.3702 - acc: 0.835 - ETA: 1s - loss: 0.3701 - acc: 0.835 - ETA: 0s - loss: 0.3700 - acc: 0.835 - 1571s 14ms/step - loss: 0.3700 - acc: 0.8354 - val_loss: 0.3160 - val_acc: 0.8634\n",
      "Epoch 2/3\n",
      " 20400/112907 [====>.........................] - ETA: 27:06 - loss: 0.2812 - acc: 0.90 - ETA: 24:44 - loss: 0.2739 - acc: 0.88 - ETA: 23:31 - loss: 0.2522 - acc: 0.89 - ETA: 23:24 - loss: 0.2429 - acc: 0.90 - ETA: 23:04 - loss: 0.2451 - acc: 0.89 - ETA: 22:52 - loss: 0.2453 - acc: 0.89 - ETA: 24:31 - loss: 0.2477 - acc: 0.89 - ETA: 24:10 - loss: 0.2437 - acc: 0.89 - ETA: 24:04 - loss: 0.2453 - acc: 0.89 - ETA: 23:54 - loss: 0.2449 - acc: 0.89 - ETA: 24:15 - loss: 0.2492 - acc: 0.89 - ETA: 24:33 - loss: 0.2492 - acc: 0.89 - ETA: 24:28 - loss: 0.2489 - acc: 0.89 - ETA: 24:43 - loss: 0.2570 - acc: 0.89 - ETA: 24:25 - loss: 0.2563 - acc: 0.88 - ETA: 24:26 - loss: 0.2590 - acc: 0.88 - ETA: 24:41 - loss: 0.2554 - acc: 0.89 - ETA: 25:03 - loss: 0.2553 - acc: 0.89 - ETA: 25:21 - loss: 0.2610 - acc: 0.89 - ETA: 25:03 - loss: 0.2654 - acc: 0.88 - ETA: 24:49 - loss: 0.2671 - acc: 0.88 - ETA: 24:36 - loss: 0.2647 - acc: 0.88 - ETA: 24:43 - loss: 0.2625 - acc: 0.88 - ETA: 24:46 - loss: 0.2610 - acc: 0.88 - ETA: 24:41 - loss: 0.2593 - acc: 0.88 - ETA: 24:30 - loss: 0.2604 - acc: 0.88 - ETA: 24:25 - loss: 0.2594 - acc: 0.88 - ETA: 24:21 - loss: 0.2572 - acc: 0.88 - ETA: 24:21 - loss: 0.2604 - acc: 0.88 - ETA: 24:39 - loss: 0.2619 - acc: 0.88 - ETA: 24:56 - loss: 0.2631 - acc: 0.88 - ETA: 24:47 - loss: 0.2650 - acc: 0.88 - ETA: 24:39 - loss: 0.2640 - acc: 0.88 - ETA: 24:35 - loss: 0.2641 - acc: 0.88 - ETA: 24:28 - loss: 0.2630 - acc: 0.88 - ETA: 24:23 - loss: 0.2614 - acc: 0.88 - ETA: 24:36 - loss: 0.2613 - acc: 0.88 - ETA: 24:29 - loss: 0.2611 - acc: 0.88 - ETA: 24:20 - loss: 0.2596 - acc: 0.88 - ETA: 24:39 - loss: 0.2592 - acc: 0.88 - ETA: 24:59 - loss: 0.2590 - acc: 0.88 - ETA: 25:07 - loss: 0.2602 - acc: 0.88 - ETA: 25:19 - loss: 0.2591 - acc: 0.88 - ETA: 25:11 - loss: 0.2609 - acc: 0.88 - ETA: 25:12 - loss: 0.2620 - acc: 0.88 - ETA: 25:13 - loss: 0.2614 - acc: 0.88 - ETA: 25:05 - loss: 0.2600 - acc: 0.88 - ETA: 25:01 - loss: 0.2595 - acc: 0.88 - ETA: 25:02 - loss: 0.2597 - acc: 0.88 - ETA: 24:56 - loss: 0.2606 - acc: 0.88 - ETA: 24:54 - loss: 0.2593 - acc: 0.88 - ETA: 25:02 - loss: 0.2586 - acc: 0.88 - ETA: 25:09 - loss: 0.2593 - acc: 0.88 - ETA: 25:07 - loss: 0.2598 - acc: 0.88 - ETA: 25:15 - loss: 0.2612 - acc: 0.88 - ETA: 25:09 - loss: 0.2615 - acc: 0.88 - ETA: 25:03 - loss: 0.2610 - acc: 0.88 - ETA: 25:00 - loss: 0.2625 - acc: 0.88 - ETA: 24:59 - loss: 0.2616 - acc: 0.88 - ETA: 24:56 - loss: 0.2605 - acc: 0.88 - ETA: 24:53 - loss: 0.2599 - acc: 0.88 - ETA: 24:50 - loss: 0.2608 - acc: 0.88 - ETA: 24:58 - loss: 0.2611 - acc: 0.88 - ETA: 25:05 - loss: 0.2608 - acc: 0.88 - ETA: 25:13 - loss: 0.2605 - acc: 0.88 - ETA: 25:07 - loss: 0.2597 - acc: 0.88 - ETA: 25:04 - loss: 0.2600 - acc: 0.88 - ETA: 25:00 - loss: 0.2620 - acc: 0.88 - ETA: 24:58 - loss: 0.2615 - acc: 0.88 - ETA: 24:54 - loss: 0.2617 - acc: 0.88 - ETA: 24:52 - loss: 0.2611 - acc: 0.88 - ETA: 24:47 - loss: 0.2597 - acc: 0.88 - ETA: 24:42 - loss: 0.2597 - acc: 0.88 - ETA: 24:42 - loss: 0.2596 - acc: 0.88 - ETA: 24:55 - loss: 0.2590 - acc: 0.88 - ETA: 24:51 - loss: 0.2603 - acc: 0.88 - ETA: 24:46 - loss: 0.2594 - acc: 0.88 - ETA: 24:42 - loss: 0.2597 - acc: 0.88 - ETA: 24:42 - loss: 0.2592 - acc: 0.88 - ETA: 24:39 - loss: 0.2585 - acc: 0.89 - ETA: 24:36 - loss: 0.2595 - acc: 0.88 - ETA: 24:39 - loss: 0.2591 - acc: 0.88 - ETA: 24:35 - loss: 0.2596 - acc: 0.88 - ETA: 24:32 - loss: 0.2609 - acc: 0.88 - ETA: 24:34 - loss: 0.2608 - acc: 0.88 - ETA: 24:40 - loss: 0.2603 - acc: 0.88 - ETA: 24:38 - loss: 0.2610 - acc: 0.88 - ETA: 24:40 - loss: 0.2612 - acc: 0.88 - ETA: 24:41 - loss: 0.2609 - acc: 0.88 - ETA: 24:36 - loss: 0.2614 - acc: 0.88 - ETA: 24:32 - loss: 0.2619 - acc: 0.88 - ETA: 24:27 - loss: 0.2610 - acc: 0.88 - ETA: 24:27 - loss: 0.2620 - acc: 0.88 - ETA: 24:25 - loss: 0.2622 - acc: 0.88 - ETA: 24:23 - loss: 0.2618 - acc: 0.88 - ETA: 24:36 - loss: 0.2613 - acc: 0.88 - ETA: 24:34 - loss: 0.2605 - acc: 0.88 - ETA: 24:29 - loss: 0.2600 - acc: 0.88 - ETA: 24:26 - loss: 0.2594 - acc: 0.88 - ETA: 24:23 - loss: 0.2584 - acc: 0.88 - ETA: 24:23 - loss: 0.2582 - acc: 0.88 - ETA: 24:27 - loss: 0.2584 - acc: 0.88 - ETA: 24:23 - loss: 0.2584 - acc: 0.89 - ETA: 24:21 - loss: 0.2581 - acc: 0.89 - ETA: 24:18 - loss: 0.2578 - acc: 0.89 - ETA: 24:15 - loss: 0.2575 - acc: 0.89 - ETA: 24:21 - loss: 0.2578 - acc: 0.89 - ETA: 24:19 - loss: 0.2573 - acc: 0.89 - ETA: 24:20 - loss: 0.2581 - acc: 0.89 - ETA: 24:16 - loss: 0.2580 - acc: 0.89 - ETA: 24:12 - loss: 0.2584 - acc: 0.89 - ETA: 24:10 - loss: 0.2578 - acc: 0.89 - ETA: 24:08 - loss: 0.2578 - acc: 0.89 - ETA: 24:04 - loss: 0.2576 - acc: 0.89 - ETA: 24:03 - loss: 0.2580 - acc: 0.89 - ETA: 24:13 - loss: 0.2581 - acc: 0.89 - ETA: 24:14 - loss: 0.2583 - acc: 0.89 - ETA: 24:15 - loss: 0.2576 - acc: 0.89 - ETA: 24:12 - loss: 0.2582 - acc: 0.89 - ETA: 24:09 - loss: 0.2577 - acc: 0.89 - ETA: 24:05 - loss: 0.2581 - acc: 0.89 - ETA: 24:03 - loss: 0.2594 - acc: 0.89 - ETA: 24:02 - loss: 0.2594 - acc: 0.89 - ETA: 24:00 - loss: 0.2589 - acc: 0.89 - ETA: 23:59 - loss: 0.2591 - acc: 0.89 - ETA: 24:00 - loss: 0.2596 - acc: 0.89 - ETA: 24:03 - loss: 0.2599 - acc: 0.89 - ETA: 24:08 - loss: 0.2597 - acc: 0.89 - ETA: 24:06 - loss: 0.2596 - acc: 0.89 - ETA: 24:05 - loss: 0.2595 - acc: 0.89 - ETA: 24:03 - loss: 0.2590 - acc: 0.89 - ETA: 24:14 - loss: 0.2596 - acc: 0.89 - ETA: 24:13 - loss: 0.2604 - acc: 0.89 - ETA: 24:19 - loss: 0.2601 - acc: 0.89 - ETA: 24:23 - loss: 0.2603 - acc: 0.89 - ETA: 24:30 - loss: 0.2600 - acc: 0.89 - ETA: 24:28 - loss: 0.2601 - acc: 0.89 - ETA: 24:26 - loss: 0.2599 - acc: 0.89 - ETA: 24:31 - loss: 0.2602 - acc: 0.89 - ETA: 24:28 - loss: 0.2601 - acc: 0.89 - ETA: 24:25 - loss: 0.2603 - acc: 0.89 - ETA: 24:22 - loss: 0.2600 - acc: 0.89 - ETA: 24:19 - loss: 0.2604 - acc: 0.89 - ETA: 24:16 - loss: 0.2603 - acc: 0.89 - ETA: 24:13 - loss: 0.2603 - acc: 0.89 - ETA: 24:18 - loss: 0.2605 - acc: 0.89 - ETA: 24:20 - loss: 0.2606 - acc: 0.89 - ETA: 24:19 - loss: 0.2602 - acc: 0.89 - ETA: 24:16 - loss: 0.2600 - acc: 0.89 - ETA: 24:13 - loss: 0.2597 - acc: 0.89 - ETA: 24:09 - loss: 0.2593 - acc: 0.89 - ETA: 24:06 - loss: 0.2592 - acc: 0.89 - ETA: 24:04 - loss: 0.2599 - acc: 0.89 - ETA: 24:02 - loss: 0.2605 - acc: 0.89 - ETA: 23:59 - loss: 0.2603 - acc: 0.89 - ETA: 23:55 - loss: 0.2601 - acc: 0.89 - ETA: 23:54 - loss: 0.2605 - acc: 0.89 - ETA: 23:55 - loss: 0.2606 - acc: 0.89 - ETA: 23:53 - loss: 0.2609 - acc: 0.89 - ETA: 23:51 - loss: 0.2605 - acc: 0.89 - ETA: 23:48 - loss: 0.2608 - acc: 0.89 - ETA: 23:47 - loss: 0.2608 - acc: 0.89 - ETA: 23:46 - loss: 0.2613 - acc: 0.89 - ETA: 23:44 - loss: 0.2612 - acc: 0.89 - ETA: 23:42 - loss: 0.2614 - acc: 0.89 - ETA: 23:40 - loss: 0.2612 - acc: 0.89 - ETA: 23:37 - loss: 0.2610 - acc: 0.89 - ETA: 23:37 - loss: 0.2614 - acc: 0.89 - ETA: 23:42 - loss: 0.2620 - acc: 0.89 - ETA: 23:39 - loss: 0.2618 - acc: 0.89 - ETA: 23:37 - loss: 0.2613 - acc: 0.89 - ETA: 23:35 - loss: 0.2612 - acc: 0.89 - ETA: 23:32 - loss: 0.2614 - acc: 0.89 - ETA: 23:28 - loss: 0.2617 - acc: 0.89 - ETA: 23:29 - loss: 0.2614 - acc: 0.89 - ETA: 23:27 - loss: 0.2616 - acc: 0.89 - ETA: 23:24 - loss: 0.2613 - acc: 0.89 - ETA: 23:21 - loss: 0.2608 - acc: 0.89 - ETA: 23:22 - loss: 0.2602 - acc: 0.89 - ETA: 23:22 - loss: 0.2603 - acc: 0.89 - ETA: 23:19 - loss: 0.2605 - acc: 0.89 - ETA: 23:18 - loss: 0.2606 - acc: 0.89 - ETA: 23:16 - loss: 0.2603 - acc: 0.89 - ETA: 23:13 - loss: 0.2606 - acc: 0.89 - ETA: 23:11 - loss: 0.2607 - acc: 0.89 - ETA: 23:11 - loss: 0.2605 - acc: 0.89 - ETA: 23:10 - loss: 0.2610 - acc: 0.89 - ETA: 23:10 - loss: 0.2610 - acc: 0.89 - ETA: 23:08 - loss: 0.2611 - acc: 0.89 - ETA: 23:11 - loss: 0.2611 - acc: 0.89 - ETA: 23:09 - loss: 0.2611 - acc: 0.89 - ETA: 23:09 - loss: 0.2610 - acc: 0.89 - ETA: 23:07 - loss: 0.2606 - acc: 0.89 - ETA: 23:05 - loss: 0.2610 - acc: 0.89 - ETA: 23:06 - loss: 0.2607 - acc: 0.89 - ETA: 23:03 - loss: 0.2607 - acc: 0.89 - ETA: 23:01 - loss: 0.2605 - acc: 0.89 - ETA: 22:59 - loss: 0.2606 - acc: 0.89 - ETA: 22:58 - loss: 0.2606 - acc: 0.89 - ETA: 23:01 - loss: 0.2605 - acc: 0.89 - ETA: 23:06 - loss: 0.2603 - acc: 0.89 - ETA: 23:06 - loss: 0.2604 - acc: 0.89 - ETA: 23:03 - loss: 0.2607 - acc: 0.89 - ETA: 23:01 - loss: 0.2604 - acc: 0.8909 40800/112907 [=========>....................] - ETA: 23:00 - loss: 0.2604 - acc: 0.89 - ETA: 22:58 - loss: 0.2603 - acc: 0.89 - ETA: 22:56 - loss: 0.2605 - acc: 0.89 - ETA: 22:53 - loss: 0.2608 - acc: 0.89 - ETA: 22:52 - loss: 0.2608 - acc: 0.89 - ETA: 22:52 - loss: 0.2607 - acc: 0.89 - ETA: 22:50 - loss: 0.2607 - acc: 0.89 - ETA: 22:48 - loss: 0.2604 - acc: 0.89 - ETA: 22:47 - loss: 0.2604 - acc: 0.89 - ETA: 22:45 - loss: 0.2604 - acc: 0.89 - ETA: 22:42 - loss: 0.2606 - acc: 0.89 - ETA: 22:40 - loss: 0.2609 - acc: 0.89 - ETA: 22:39 - loss: 0.2606 - acc: 0.89 - ETA: 22:36 - loss: 0.2609 - acc: 0.89 - ETA: 22:34 - loss: 0.2608 - acc: 0.89 - ETA: 22:32 - loss: 0.2608 - acc: 0.89 - ETA: 22:32 - loss: 0.2606 - acc: 0.89 - ETA: 22:30 - loss: 0.2607 - acc: 0.89 - ETA: 22:28 - loss: 0.2612 - acc: 0.89 - ETA: 22:27 - loss: 0.2614 - acc: 0.89 - ETA: 22:25 - loss: 0.2614 - acc: 0.89 - ETA: 22:23 - loss: 0.2614 - acc: 0.89 - ETA: 22:21 - loss: 0.2613 - acc: 0.89 - ETA: 22:18 - loss: 0.2613 - acc: 0.89 - ETA: 22:16 - loss: 0.2615 - acc: 0.89 - ETA: 22:13 - loss: 0.2617 - acc: 0.89 - ETA: 22:11 - loss: 0.2618 - acc: 0.89 - ETA: 22:12 - loss: 0.2620 - acc: 0.89 - ETA: 22:10 - loss: 0.2621 - acc: 0.89 - ETA: 22:08 - loss: 0.2616 - acc: 0.89 - ETA: 22:05 - loss: 0.2619 - acc: 0.89 - ETA: 22:03 - loss: 0.2616 - acc: 0.89 - ETA: 22:04 - loss: 0.2615 - acc: 0.89 - ETA: 22:04 - loss: 0.2615 - acc: 0.89 - ETA: 22:03 - loss: 0.2615 - acc: 0.89 - ETA: 22:02 - loss: 0.2614 - acc: 0.89 - ETA: 22:00 - loss: 0.2613 - acc: 0.89 - ETA: 22:00 - loss: 0.2615 - acc: 0.89 - ETA: 21:59 - loss: 0.2611 - acc: 0.89 - ETA: 21:57 - loss: 0.2613 - acc: 0.89 - ETA: 21:55 - loss: 0.2615 - acc: 0.89 - ETA: 21:52 - loss: 0.2615 - acc: 0.89 - ETA: 21:50 - loss: 0.2617 - acc: 0.89 - ETA: 21:48 - loss: 0.2616 - acc: 0.89 - ETA: 21:46 - loss: 0.2616 - acc: 0.89 - ETA: 21:44 - loss: 0.2617 - acc: 0.89 - ETA: 21:41 - loss: 0.2618 - acc: 0.89 - ETA: 21:39 - loss: 0.2618 - acc: 0.89 - ETA: 21:37 - loss: 0.2619 - acc: 0.89 - ETA: 21:38 - loss: 0.2619 - acc: 0.89 - ETA: 21:37 - loss: 0.2617 - acc: 0.89 - ETA: 21:34 - loss: 0.2616 - acc: 0.89 - ETA: 21:32 - loss: 0.2617 - acc: 0.89 - ETA: 21:30 - loss: 0.2618 - acc: 0.89 - ETA: 21:28 - loss: 0.2616 - acc: 0.89 - ETA: 21:26 - loss: 0.2614 - acc: 0.89 - ETA: 21:24 - loss: 0.2615 - acc: 0.89 - ETA: 21:21 - loss: 0.2616 - acc: 0.89 - ETA: 21:19 - loss: 0.2614 - acc: 0.89 - ETA: 21:17 - loss: 0.2610 - acc: 0.89 - ETA: 21:15 - loss: 0.2615 - acc: 0.89 - ETA: 21:16 - loss: 0.2618 - acc: 0.89 - ETA: 21:15 - loss: 0.2618 - acc: 0.89 - ETA: 21:13 - loss: 0.2616 - acc: 0.89 - ETA: 21:11 - loss: 0.2616 - acc: 0.89 - ETA: 21:10 - loss: 0.2612 - acc: 0.89 - ETA: 21:10 - loss: 0.2614 - acc: 0.89 - ETA: 21:17 - loss: 0.2616 - acc: 0.89 - ETA: 21:25 - loss: 0.2617 - acc: 0.89 - ETA: 21:31 - loss: 0.2616 - acc: 0.89 - ETA: 21:29 - loss: 0.2617 - acc: 0.89 - ETA: 21:27 - loss: 0.2620 - acc: 0.89 - ETA: 21:26 - loss: 0.2622 - acc: 0.89 - ETA: 21:24 - loss: 0.2620 - acc: 0.89 - ETA: 21:23 - loss: 0.2619 - acc: 0.89 - ETA: 21:21 - loss: 0.2621 - acc: 0.89 - ETA: 21:21 - loss: 0.2624 - acc: 0.89 - ETA: 21:21 - loss: 0.2622 - acc: 0.89 - ETA: 21:22 - loss: 0.2622 - acc: 0.89 - ETA: 21:20 - loss: 0.2625 - acc: 0.89 - ETA: 21:19 - loss: 0.2628 - acc: 0.89 - ETA: 21:19 - loss: 0.2625 - acc: 0.89 - ETA: 21:18 - loss: 0.2625 - acc: 0.89 - ETA: 21:19 - loss: 0.2624 - acc: 0.89 - ETA: 21:23 - loss: 0.2624 - acc: 0.89 - ETA: 21:25 - loss: 0.2627 - acc: 0.89 - ETA: 21:23 - loss: 0.2626 - acc: 0.89 - ETA: 21:25 - loss: 0.2622 - acc: 0.89 - ETA: 21:24 - loss: 0.2621 - acc: 0.89 - ETA: 21:21 - loss: 0.2622 - acc: 0.89 - ETA: 21:19 - loss: 0.2621 - acc: 0.89 - ETA: 21:22 - loss: 0.2621 - acc: 0.89 - ETA: 21:22 - loss: 0.2617 - acc: 0.89 - ETA: 21:22 - loss: 0.2617 - acc: 0.89 - ETA: 21:25 - loss: 0.2616 - acc: 0.89 - ETA: 21:23 - loss: 0.2617 - acc: 0.89 - ETA: 21:21 - loss: 0.2617 - acc: 0.89 - ETA: 21:19 - loss: 0.2618 - acc: 0.89 - ETA: 21:18 - loss: 0.2618 - acc: 0.89 - ETA: 21:16 - loss: 0.2616 - acc: 0.89 - ETA: 21:20 - loss: 0.2617 - acc: 0.89 - ETA: 21:18 - loss: 0.2617 - acc: 0.89 - ETA: 21:20 - loss: 0.2614 - acc: 0.89 - ETA: 21:21 - loss: 0.2613 - acc: 0.89 - ETA: 21:21 - loss: 0.2615 - acc: 0.89 - ETA: 21:19 - loss: 0.2617 - acc: 0.89 - ETA: 21:19 - loss: 0.2623 - acc: 0.89 - ETA: 21:19 - loss: 0.2625 - acc: 0.89 - ETA: 21:21 - loss: 0.2623 - acc: 0.89 - ETA: 21:18 - loss: 0.2621 - acc: 0.89 - ETA: 21:20 - loss: 0.2623 - acc: 0.89 - ETA: 21:22 - loss: 0.2620 - acc: 0.89 - ETA: 21:23 - loss: 0.2618 - acc: 0.89 - ETA: 21:26 - loss: 0.2618 - acc: 0.89 - ETA: 21:26 - loss: 0.2617 - acc: 0.89 - ETA: 21:26 - loss: 0.2615 - acc: 0.89 - ETA: 21:28 - loss: 0.2613 - acc: 0.89 - ETA: 21:26 - loss: 0.2612 - acc: 0.89 - ETA: 21:24 - loss: 0.2613 - acc: 0.89 - ETA: 21:22 - loss: 0.2613 - acc: 0.89 - ETA: 21:19 - loss: 0.2613 - acc: 0.89 - ETA: 21:20 - loss: 0.2612 - acc: 0.89 - ETA: 21:19 - loss: 0.2611 - acc: 0.89 - ETA: 21:17 - loss: 0.2611 - acc: 0.89 - ETA: 21:15 - loss: 0.2610 - acc: 0.89 - ETA: 21:12 - loss: 0.2611 - acc: 0.89 - ETA: 21:10 - loss: 0.2612 - acc: 0.89 - ETA: 21:09 - loss: 0.2612 - acc: 0.89 - ETA: 21:07 - loss: 0.2611 - acc: 0.89 - ETA: 21:08 - loss: 0.2610 - acc: 0.89 - ETA: 21:06 - loss: 0.2609 - acc: 0.89 - ETA: 21:05 - loss: 0.2608 - acc: 0.89 - ETA: 21:06 - loss: 0.2606 - acc: 0.89 - ETA: 21:06 - loss: 0.2608 - acc: 0.89 - ETA: 21:04 - loss: 0.2608 - acc: 0.89 - ETA: 21:04 - loss: 0.2609 - acc: 0.89 - ETA: 21:02 - loss: 0.2611 - acc: 0.89 - ETA: 21:00 - loss: 0.2613 - acc: 0.89 - ETA: 20:57 - loss: 0.2615 - acc: 0.89 - ETA: 20:55 - loss: 0.2614 - acc: 0.89 - ETA: 20:53 - loss: 0.2613 - acc: 0.89 - ETA: 20:53 - loss: 0.2613 - acc: 0.89 - ETA: 20:52 - loss: 0.2614 - acc: 0.89 - ETA: 20:54 - loss: 0.2612 - acc: 0.89 - ETA: 20:53 - loss: 0.2613 - acc: 0.89 - ETA: 20:52 - loss: 0.2613 - acc: 0.89 - ETA: 20:50 - loss: 0.2613 - acc: 0.89 - ETA: 20:50 - loss: 0.2612 - acc: 0.89 - ETA: 20:50 - loss: 0.2612 - acc: 0.89 - ETA: 20:49 - loss: 0.2611 - acc: 0.89 - ETA: 20:48 - loss: 0.2610 - acc: 0.89 - ETA: 20:50 - loss: 0.2612 - acc: 0.89 - ETA: 20:48 - loss: 0.2611 - acc: 0.89 - ETA: 20:46 - loss: 0.2616 - acc: 0.89 - ETA: 20:44 - loss: 0.2615 - acc: 0.89 - ETA: 20:44 - loss: 0.2613 - acc: 0.89 - ETA: 20:45 - loss: 0.2614 - acc: 0.89 - ETA: 20:44 - loss: 0.2614 - acc: 0.89 - ETA: 20:46 - loss: 0.2615 - acc: 0.89 - ETA: 20:44 - loss: 0.2615 - acc: 0.89 - ETA: 20:42 - loss: 0.2613 - acc: 0.89 - ETA: 20:40 - loss: 0.2614 - acc: 0.89 - ETA: 20:39 - loss: 0.2613 - acc: 0.89 - ETA: 20:40 - loss: 0.2614 - acc: 0.89 - ETA: 20:40 - loss: 0.2616 - acc: 0.89 - ETA: 20:38 - loss: 0.2614 - acc: 0.89 - ETA: 20:36 - loss: 0.2615 - acc: 0.89 - ETA: 20:36 - loss: 0.2617 - acc: 0.89 - ETA: 20:34 - loss: 0.2615 - acc: 0.89 - ETA: 20:32 - loss: 0.2616 - acc: 0.89 - ETA: 20:30 - loss: 0.2618 - acc: 0.89 - ETA: 20:28 - loss: 0.2617 - acc: 0.89 - ETA: 20:26 - loss: 0.2616 - acc: 0.89 - ETA: 20:26 - loss: 0.2618 - acc: 0.89 - ETA: 20:24 - loss: 0.2618 - acc: 0.89 - ETA: 20:24 - loss: 0.2616 - acc: 0.89 - ETA: 20:22 - loss: 0.2617 - acc: 0.89 - ETA: 20:20 - loss: 0.2617 - acc: 0.89 - ETA: 20:18 - loss: 0.2618 - acc: 0.89 - ETA: 20:16 - loss: 0.2619 - acc: 0.89 - ETA: 20:14 - loss: 0.2617 - acc: 0.89 - ETA: 20:12 - loss: 0.2619 - acc: 0.89 - ETA: 20:10 - loss: 0.2619 - acc: 0.89 - ETA: 20:10 - loss: 0.2623 - acc: 0.89 - ETA: 20:09 - loss: 0.2623 - acc: 0.89 - ETA: 20:08 - loss: 0.2622 - acc: 0.89 - ETA: 20:06 - loss: 0.2623 - acc: 0.89 - ETA: 20:04 - loss: 0.2623 - acc: 0.89 - ETA: 20:04 - loss: 0.2624 - acc: 0.89 - ETA: 20:02 - loss: 0.2624 - acc: 0.89 - ETA: 20:03 - loss: 0.2623 - acc: 0.89 - ETA: 20:03 - loss: 0.2623 - acc: 0.89 - ETA: 20:01 - loss: 0.2622 - acc: 0.89 - ETA: 20:00 - loss: 0.2620 - acc: 0.89 - ETA: 19:58 - loss: 0.2620 - acc: 0.89 - ETA: 19:56 - loss: 0.2623 - acc: 0.89 - ETA: 19:55 - loss: 0.2621 - acc: 0.89 - ETA: 19:54 - loss: 0.2622 - acc: 0.89 - ETA: 19:52 - loss: 0.2622 - acc: 0.89 - ETA: 19:50 - loss: 0.2624 - acc: 0.89 - ETA: 19:51 - loss: 0.2625 - acc: 0.89 - ETA: 19:51 - loss: 0.2625 - acc: 0.89 - ETA: 19:49 - loss: 0.2624 - acc: 0.89 - ETA: 19:47 - loss: 0.2625 - acc: 0.8914 61200/112907 [===============>..............] - ETA: 19:45 - loss: 0.2623 - acc: 0.89 - ETA: 19:43 - loss: 0.2621 - acc: 0.89 - ETA: 19:41 - loss: 0.2623 - acc: 0.89 - ETA: 19:42 - loss: 0.2621 - acc: 0.89 - ETA: 19:42 - loss: 0.2621 - acc: 0.89 - ETA: 19:41 - loss: 0.2622 - acc: 0.89 - ETA: 19:39 - loss: 0.2624 - acc: 0.89 - ETA: 19:38 - loss: 0.2624 - acc: 0.89 - ETA: 19:36 - loss: 0.2624 - acc: 0.89 - ETA: 19:34 - loss: 0.2622 - acc: 0.89 - ETA: 19:32 - loss: 0.2622 - acc: 0.89 - ETA: 19:30 - loss: 0.2623 - acc: 0.89 - ETA: 19:28 - loss: 0.2624 - acc: 0.89 - ETA: 19:27 - loss: 0.2626 - acc: 0.89 - ETA: 19:25 - loss: 0.2629 - acc: 0.89 - ETA: 19:23 - loss: 0.2629 - acc: 0.89 - ETA: 19:21 - loss: 0.2630 - acc: 0.89 - ETA: 19:19 - loss: 0.2630 - acc: 0.89 - ETA: 19:17 - loss: 0.2631 - acc: 0.89 - ETA: 19:15 - loss: 0.2631 - acc: 0.89 - ETA: 19:12 - loss: 0.2631 - acc: 0.89 - ETA: 19:10 - loss: 0.2630 - acc: 0.89 - ETA: 19:08 - loss: 0.2631 - acc: 0.89 - ETA: 19:06 - loss: 0.2631 - acc: 0.89 - ETA: 19:07 - loss: 0.2629 - acc: 0.89 - ETA: 19:05 - loss: 0.2629 - acc: 0.89 - ETA: 19:03 - loss: 0.2630 - acc: 0.89 - ETA: 19:01 - loss: 0.2628 - acc: 0.89 - ETA: 19:00 - loss: 0.2628 - acc: 0.89 - ETA: 18:59 - loss: 0.2627 - acc: 0.89 - ETA: 18:57 - loss: 0.2626 - acc: 0.89 - ETA: 18:56 - loss: 0.2625 - acc: 0.89 - ETA: 18:55 - loss: 0.2624 - acc: 0.89 - ETA: 18:54 - loss: 0.2626 - acc: 0.89 - ETA: 18:53 - loss: 0.2628 - acc: 0.89 - ETA: 18:52 - loss: 0.2627 - acc: 0.89 - ETA: 18:51 - loss: 0.2625 - acc: 0.89 - ETA: 18:49 - loss: 0.2627 - acc: 0.89 - ETA: 18:47 - loss: 0.2626 - acc: 0.89 - ETA: 18:45 - loss: 0.2625 - acc: 0.89 - ETA: 18:43 - loss: 0.2625 - acc: 0.89 - ETA: 18:42 - loss: 0.2627 - acc: 0.89 - ETA: 18:42 - loss: 0.2626 - acc: 0.89 - ETA: 18:40 - loss: 0.2626 - acc: 0.89 - ETA: 18:38 - loss: 0.2626 - acc: 0.89 - ETA: 18:36 - loss: 0.2627 - acc: 0.89 - ETA: 18:34 - loss: 0.2628 - acc: 0.89 - ETA: 18:32 - loss: 0.2626 - acc: 0.89 - ETA: 18:30 - loss: 0.2625 - acc: 0.89 - ETA: 18:29 - loss: 0.2624 - acc: 0.89 - ETA: 18:27 - loss: 0.2621 - acc: 0.89 - ETA: 18:27 - loss: 0.2620 - acc: 0.89 - ETA: 18:25 - loss: 0.2619 - acc: 0.89 - ETA: 18:23 - loss: 0.2620 - acc: 0.89 - ETA: 18:21 - loss: 0.2623 - acc: 0.89 - ETA: 18:19 - loss: 0.2622 - acc: 0.89 - ETA: 18:19 - loss: 0.2622 - acc: 0.89 - ETA: 18:18 - loss: 0.2621 - acc: 0.89 - ETA: 18:16 - loss: 0.2619 - acc: 0.89 - ETA: 18:15 - loss: 0.2621 - acc: 0.89 - ETA: 18:14 - loss: 0.2620 - acc: 0.89 - ETA: 18:12 - loss: 0.2621 - acc: 0.89 - ETA: 18:11 - loss: 0.2622 - acc: 0.89 - ETA: 18:10 - loss: 0.2621 - acc: 0.89 - ETA: 18:08 - loss: 0.2621 - acc: 0.89 - ETA: 18:07 - loss: 0.2619 - acc: 0.89 - ETA: 18:05 - loss: 0.2622 - acc: 0.89 - ETA: 18:04 - loss: 0.2622 - acc: 0.89 - ETA: 18:04 - loss: 0.2621 - acc: 0.89 - ETA: 18:02 - loss: 0.2621 - acc: 0.89 - ETA: 18:00 - loss: 0.2621 - acc: 0.89 - ETA: 18:00 - loss: 0.2620 - acc: 0.89 - ETA: 17:59 - loss: 0.2621 - acc: 0.89 - ETA: 17:59 - loss: 0.2622 - acc: 0.89 - ETA: 17:57 - loss: 0.2622 - acc: 0.89 - ETA: 17:55 - loss: 0.2622 - acc: 0.89 - ETA: 17:55 - loss: 0.2621 - acc: 0.89 - ETA: 17:55 - loss: 0.2621 - acc: 0.89 - ETA: 17:54 - loss: 0.2621 - acc: 0.89 - ETA: 17:52 - loss: 0.2621 - acc: 0.89 - ETA: 17:52 - loss: 0.2619 - acc: 0.89 - ETA: 17:50 - loss: 0.2619 - acc: 0.89 - ETA: 17:49 - loss: 0.2622 - acc: 0.89 - ETA: 17:50 - loss: 0.2621 - acc: 0.89 - ETA: 17:48 - loss: 0.2622 - acc: 0.89 - ETA: 17:47 - loss: 0.2621 - acc: 0.89 - ETA: 17:45 - loss: 0.2622 - acc: 0.89 - ETA: 17:43 - loss: 0.2623 - acc: 0.89 - ETA: 17:42 - loss: 0.2626 - acc: 0.89 - ETA: 17:40 - loss: 0.2627 - acc: 0.89 - ETA: 17:39 - loss: 0.2629 - acc: 0.89 - ETA: 17:38 - loss: 0.2630 - acc: 0.89 - ETA: 17:36 - loss: 0.2630 - acc: 0.89 - ETA: 17:34 - loss: 0.2631 - acc: 0.89 - ETA: 17:33 - loss: 0.2631 - acc: 0.89 - ETA: 17:32 - loss: 0.2630 - acc: 0.89 - ETA: 17:30 - loss: 0.2629 - acc: 0.89 - ETA: 17:28 - loss: 0.2632 - acc: 0.89 - ETA: 17:26 - loss: 0.2631 - acc: 0.89 - ETA: 17:24 - loss: 0.2630 - acc: 0.89 - ETA: 17:23 - loss: 0.2630 - acc: 0.89 - ETA: 17:21 - loss: 0.2630 - acc: 0.89 - ETA: 17:19 - loss: 0.2629 - acc: 0.89 - ETA: 17:17 - loss: 0.2629 - acc: 0.89 - ETA: 17:15 - loss: 0.2629 - acc: 0.89 - ETA: 17:13 - loss: 0.2629 - acc: 0.89 - ETA: 17:11 - loss: 0.2628 - acc: 0.89 - ETA: 17:09 - loss: 0.2629 - acc: 0.89 - ETA: 17:07 - loss: 0.2628 - acc: 0.89 - ETA: 17:05 - loss: 0.2628 - acc: 0.89 - ETA: 17:04 - loss: 0.2627 - acc: 0.89 - ETA: 17:03 - loss: 0.2627 - acc: 0.89 - ETA: 17:01 - loss: 0.2627 - acc: 0.89 - ETA: 16:59 - loss: 0.2627 - acc: 0.89 - ETA: 16:57 - loss: 0.2627 - acc: 0.89 - ETA: 16:55 - loss: 0.2626 - acc: 0.89 - ETA: 16:53 - loss: 0.2626 - acc: 0.89 - ETA: 16:51 - loss: 0.2629 - acc: 0.89 - ETA: 16:50 - loss: 0.2628 - acc: 0.89 - ETA: 16:48 - loss: 0.2629 - acc: 0.89 - ETA: 16:46 - loss: 0.2629 - acc: 0.89 - ETA: 16:45 - loss: 0.2628 - acc: 0.89 - ETA: 16:43 - loss: 0.2628 - acc: 0.89 - ETA: 16:41 - loss: 0.2627 - acc: 0.89 - ETA: 16:39 - loss: 0.2626 - acc: 0.89 - ETA: 16:37 - loss: 0.2628 - acc: 0.89 - ETA: 16:36 - loss: 0.2627 - acc: 0.89 - ETA: 16:34 - loss: 0.2627 - acc: 0.89 - ETA: 16:32 - loss: 0.2627 - acc: 0.89 - ETA: 16:30 - loss: 0.2626 - acc: 0.89 - ETA: 16:28 - loss: 0.2627 - acc: 0.89 - ETA: 16:27 - loss: 0.2627 - acc: 0.89 - ETA: 16:25 - loss: 0.2627 - acc: 0.89 - ETA: 16:23 - loss: 0.2627 - acc: 0.89 - ETA: 16:21 - loss: 0.2628 - acc: 0.89 - ETA: 16:20 - loss: 0.2626 - acc: 0.89 - ETA: 16:18 - loss: 0.2626 - acc: 0.89 - ETA: 16:16 - loss: 0.2625 - acc: 0.89 - ETA: 16:14 - loss: 0.2627 - acc: 0.89 - ETA: 16:12 - loss: 0.2627 - acc: 0.89 - ETA: 16:11 - loss: 0.2628 - acc: 0.89 - ETA: 16:09 - loss: 0.2627 - acc: 0.89 - ETA: 16:08 - loss: 0.2626 - acc: 0.89 - ETA: 16:06 - loss: 0.2626 - acc: 0.89 - ETA: 16:04 - loss: 0.2625 - acc: 0.89 - ETA: 16:02 - loss: 0.2624 - acc: 0.89 - ETA: 16:00 - loss: 0.2623 - acc: 0.89 - ETA: 15:59 - loss: 0.2623 - acc: 0.89 - ETA: 15:57 - loss: 0.2624 - acc: 0.89 - ETA: 15:55 - loss: 0.2623 - acc: 0.89 - ETA: 15:53 - loss: 0.2624 - acc: 0.89 - ETA: 15:52 - loss: 0.2624 - acc: 0.89 - ETA: 15:50 - loss: 0.2623 - acc: 0.89 - ETA: 15:49 - loss: 0.2626 - acc: 0.89 - ETA: 15:47 - loss: 0.2625 - acc: 0.89 - ETA: 15:45 - loss: 0.2626 - acc: 0.89 - ETA: 15:43 - loss: 0.2627 - acc: 0.89 - ETA: 15:42 - loss: 0.2626 - acc: 0.89 - ETA: 15:40 - loss: 0.2627 - acc: 0.89 - ETA: 15:38 - loss: 0.2626 - acc: 0.89 - ETA: 15:37 - loss: 0.2626 - acc: 0.89 - ETA: 15:36 - loss: 0.2624 - acc: 0.89 - ETA: 15:34 - loss: 0.2625 - acc: 0.89 - ETA: 15:33 - loss: 0.2625 - acc: 0.89 - ETA: 15:32 - loss: 0.2625 - acc: 0.89 - ETA: 15:30 - loss: 0.2624 - acc: 0.89 - ETA: 15:29 - loss: 0.2622 - acc: 0.89 - ETA: 15:27 - loss: 0.2623 - acc: 0.89 - ETA: 15:26 - loss: 0.2624 - acc: 0.89 - ETA: 15:25 - loss: 0.2623 - acc: 0.89 - ETA: 15:23 - loss: 0.2623 - acc: 0.89 - ETA: 15:21 - loss: 0.2623 - acc: 0.89 - ETA: 15:19 - loss: 0.2622 - acc: 0.89 - ETA: 15:17 - loss: 0.2624 - acc: 0.89 - ETA: 15:16 - loss: 0.2626 - acc: 0.89 - ETA: 15:14 - loss: 0.2625 - acc: 0.89 - ETA: 15:12 - loss: 0.2626 - acc: 0.89 - ETA: 15:10 - loss: 0.2624 - acc: 0.89 - ETA: 15:09 - loss: 0.2623 - acc: 0.89 - ETA: 15:08 - loss: 0.2623 - acc: 0.89 - ETA: 15:06 - loss: 0.2624 - acc: 0.89 - ETA: 15:04 - loss: 0.2624 - acc: 0.89 - ETA: 15:03 - loss: 0.2624 - acc: 0.89 - ETA: 15:01 - loss: 0.2625 - acc: 0.89 - ETA: 14:59 - loss: 0.2624 - acc: 0.89 - ETA: 14:57 - loss: 0.2625 - acc: 0.89 - ETA: 14:56 - loss: 0.2624 - acc: 0.89 - ETA: 14:54 - loss: 0.2624 - acc: 0.89 - ETA: 14:53 - loss: 0.2625 - acc: 0.89 - ETA: 14:51 - loss: 0.2625 - acc: 0.89 - ETA: 14:49 - loss: 0.2624 - acc: 0.89 - ETA: 14:48 - loss: 0.2624 - acc: 0.89 - ETA: 14:46 - loss: 0.2627 - acc: 0.89 - ETA: 14:44 - loss: 0.2627 - acc: 0.89 - ETA: 14:42 - loss: 0.2627 - acc: 0.89 - ETA: 14:41 - loss: 0.2626 - acc: 0.89 - ETA: 14:39 - loss: 0.2627 - acc: 0.89 - ETA: 14:38 - loss: 0.2627 - acc: 0.89 - ETA: 14:36 - loss: 0.2628 - acc: 0.89 - ETA: 14:34 - loss: 0.2628 - acc: 0.89 - ETA: 14:33 - loss: 0.2626 - acc: 0.89 - ETA: 14:31 - loss: 0.2627 - acc: 0.89 - ETA: 14:29 - loss: 0.2626 - acc: 0.89 - ETA: 14:28 - loss: 0.2626 - acc: 0.8912 81600/112907 [====================>.........] - ETA: 14:26 - loss: 0.2626 - acc: 0.89 - ETA: 14:24 - loss: 0.2626 - acc: 0.89 - ETA: 14:23 - loss: 0.2626 - acc: 0.89 - ETA: 14:21 - loss: 0.2626 - acc: 0.89 - ETA: 14:19 - loss: 0.2625 - acc: 0.89 - ETA: 14:18 - loss: 0.2626 - acc: 0.89 - ETA: 14:16 - loss: 0.2626 - acc: 0.89 - ETA: 14:14 - loss: 0.2625 - acc: 0.89 - ETA: 14:12 - loss: 0.2625 - acc: 0.89 - ETA: 14:11 - loss: 0.2625 - acc: 0.89 - ETA: 14:09 - loss: 0.2625 - acc: 0.89 - ETA: 14:08 - loss: 0.2626 - acc: 0.89 - ETA: 14:07 - loss: 0.2626 - acc: 0.89 - ETA: 14:05 - loss: 0.2626 - acc: 0.89 - ETA: 14:03 - loss: 0.2625 - acc: 0.89 - ETA: 14:01 - loss: 0.2626 - acc: 0.89 - ETA: 14:00 - loss: 0.2626 - acc: 0.89 - ETA: 13:58 - loss: 0.2624 - acc: 0.89 - ETA: 13:56 - loss: 0.2624 - acc: 0.89 - ETA: 13:55 - loss: 0.2624 - acc: 0.89 - ETA: 13:53 - loss: 0.2623 - acc: 0.89 - ETA: 13:52 - loss: 0.2623 - acc: 0.89 - ETA: 13:50 - loss: 0.2622 - acc: 0.89 - ETA: 13:49 - loss: 0.2621 - acc: 0.89 - ETA: 13:47 - loss: 0.2621 - acc: 0.89 - ETA: 13:45 - loss: 0.2620 - acc: 0.89 - ETA: 13:43 - loss: 0.2619 - acc: 0.89 - ETA: 13:42 - loss: 0.2619 - acc: 0.89 - ETA: 13:40 - loss: 0.2619 - acc: 0.89 - ETA: 13:38 - loss: 0.2621 - acc: 0.89 - ETA: 13:37 - loss: 0.2621 - acc: 0.89 - ETA: 13:36 - loss: 0.2622 - acc: 0.89 - ETA: 13:34 - loss: 0.2623 - acc: 0.89 - ETA: 13:32 - loss: 0.2623 - acc: 0.89 - ETA: 13:30 - loss: 0.2623 - acc: 0.89 - ETA: 13:29 - loss: 0.2624 - acc: 0.89 - ETA: 13:27 - loss: 0.2622 - acc: 0.89 - ETA: 13:25 - loss: 0.2623 - acc: 0.89 - ETA: 13:23 - loss: 0.2623 - acc: 0.89 - ETA: 13:22 - loss: 0.2623 - acc: 0.89 - ETA: 13:21 - loss: 0.2623 - acc: 0.89 - ETA: 13:20 - loss: 0.2623 - acc: 0.89 - ETA: 13:18 - loss: 0.2624 - acc: 0.89 - ETA: 13:16 - loss: 0.2623 - acc: 0.89 - ETA: 13:15 - loss: 0.2623 - acc: 0.89 - ETA: 13:13 - loss: 0.2623 - acc: 0.89 - ETA: 13:11 - loss: 0.2623 - acc: 0.89 - ETA: 13:09 - loss: 0.2623 - acc: 0.89 - ETA: 13:08 - loss: 0.2623 - acc: 0.89 - ETA: 13:06 - loss: 0.2625 - acc: 0.89 - ETA: 13:05 - loss: 0.2624 - acc: 0.89 - ETA: 13:03 - loss: 0.2624 - acc: 0.89 - ETA: 13:02 - loss: 0.2624 - acc: 0.89 - ETA: 13:00 - loss: 0.2624 - acc: 0.89 - ETA: 12:59 - loss: 0.2623 - acc: 0.89 - ETA: 12:57 - loss: 0.2622 - acc: 0.89 - ETA: 12:56 - loss: 0.2622 - acc: 0.89 - ETA: 12:54 - loss: 0.2624 - acc: 0.89 - ETA: 12:53 - loss: 0.2624 - acc: 0.89 - ETA: 12:51 - loss: 0.2625 - acc: 0.89 - ETA: 12:50 - loss: 0.2625 - acc: 0.89 - ETA: 12:48 - loss: 0.2624 - acc: 0.89 - ETA: 12:47 - loss: 0.2625 - acc: 0.89 - ETA: 12:45 - loss: 0.2624 - acc: 0.89 - ETA: 12:43 - loss: 0.2623 - acc: 0.89 - ETA: 12:42 - loss: 0.2623 - acc: 0.89 - ETA: 12:40 - loss: 0.2623 - acc: 0.89 - ETA: 12:39 - loss: 0.2623 - acc: 0.89 - ETA: 12:37 - loss: 0.2624 - acc: 0.89 - ETA: 12:35 - loss: 0.2623 - acc: 0.89 - ETA: 12:33 - loss: 0.2624 - acc: 0.89 - ETA: 12:32 - loss: 0.2624 - acc: 0.89 - ETA: 12:30 - loss: 0.2623 - acc: 0.89 - ETA: 12:28 - loss: 0.2624 - acc: 0.89 - ETA: 12:27 - loss: 0.2626 - acc: 0.89 - ETA: 12:25 - loss: 0.2626 - acc: 0.89 - ETA: 12:24 - loss: 0.2626 - acc: 0.89 - ETA: 12:22 - loss: 0.2626 - acc: 0.89 - ETA: 12:20 - loss: 0.2627 - acc: 0.89 - ETA: 12:18 - loss: 0.2626 - acc: 0.89 - ETA: 12:17 - loss: 0.2626 - acc: 0.89 - ETA: 12:15 - loss: 0.2626 - acc: 0.89 - ETA: 12:13 - loss: 0.2626 - acc: 0.89 - ETA: 12:12 - loss: 0.2626 - acc: 0.89 - ETA: 12:10 - loss: 0.2625 - acc: 0.89 - ETA: 12:09 - loss: 0.2625 - acc: 0.89 - ETA: 12:07 - loss: 0.2626 - acc: 0.89 - ETA: 12:06 - loss: 0.2625 - acc: 0.89 - ETA: 12:04 - loss: 0.2625 - acc: 0.89 - ETA: 12:02 - loss: 0.2625 - acc: 0.89 - ETA: 12:01 - loss: 0.2625 - acc: 0.89 - ETA: 11:59 - loss: 0.2626 - acc: 0.89 - ETA: 11:58 - loss: 0.2624 - acc: 0.89 - ETA: 11:57 - loss: 0.2624 - acc: 0.89 - ETA: 11:57 - loss: 0.2624 - acc: 0.89 - ETA: 11:56 - loss: 0.2624 - acc: 0.89 - ETA: 11:55 - loss: 0.2624 - acc: 0.89 - ETA: 11:54 - loss: 0.2625 - acc: 0.89 - ETA: 11:53 - loss: 0.2626 - acc: 0.89 - ETA: 11:51 - loss: 0.2626 - acc: 0.89 - ETA: 11:49 - loss: 0.2626 - acc: 0.89 - ETA: 11:48 - loss: 0.2626 - acc: 0.89 - ETA: 11:46 - loss: 0.2625 - acc: 0.89 - ETA: 11:45 - loss: 0.2626 - acc: 0.89 - ETA: 11:44 - loss: 0.2626 - acc: 0.89 - ETA: 11:42 - loss: 0.2625 - acc: 0.89 - ETA: 11:41 - loss: 0.2624 - acc: 0.89 - ETA: 11:39 - loss: 0.2625 - acc: 0.89 - ETA: 11:37 - loss: 0.2623 - acc: 0.89 - ETA: 11:36 - loss: 0.2624 - acc: 0.89 - ETA: 11:34 - loss: 0.2625 - acc: 0.89 - ETA: 11:32 - loss: 0.2625 - acc: 0.89 - ETA: 11:32 - loss: 0.2624 - acc: 0.89 - ETA: 11:30 - loss: 0.2625 - acc: 0.89 - ETA: 11:29 - loss: 0.2625 - acc: 0.89 - ETA: 11:27 - loss: 0.2624 - acc: 0.89 - ETA: 11:26 - loss: 0.2624 - acc: 0.89 - ETA: 11:25 - loss: 0.2623 - acc: 0.89 - ETA: 11:24 - loss: 0.2625 - acc: 0.89 - ETA: 11:22 - loss: 0.2625 - acc: 0.89 - ETA: 11:20 - loss: 0.2626 - acc: 0.89 - ETA: 11:19 - loss: 0.2625 - acc: 0.89 - ETA: 11:17 - loss: 0.2624 - acc: 0.89 - ETA: 11:16 - loss: 0.2624 - acc: 0.89 - ETA: 11:15 - loss: 0.2624 - acc: 0.89 - ETA: 11:13 - loss: 0.2624 - acc: 0.89 - ETA: 11:12 - loss: 0.2624 - acc: 0.89 - ETA: 11:11 - loss: 0.2625 - acc: 0.89 - ETA: 11:10 - loss: 0.2624 - acc: 0.89 - ETA: 11:08 - loss: 0.2623 - acc: 0.89 - ETA: 11:06 - loss: 0.2623 - acc: 0.89 - ETA: 11:05 - loss: 0.2622 - acc: 0.89 - ETA: 11:04 - loss: 0.2622 - acc: 0.89 - ETA: 11:02 - loss: 0.2621 - acc: 0.89 - ETA: 11:01 - loss: 0.2621 - acc: 0.89 - ETA: 10:59 - loss: 0.2620 - acc: 0.89 - ETA: 10:57 - loss: 0.2620 - acc: 0.89 - ETA: 10:55 - loss: 0.2620 - acc: 0.89 - ETA: 10:54 - loss: 0.2619 - acc: 0.89 - ETA: 10:52 - loss: 0.2621 - acc: 0.89 - ETA: 10:50 - loss: 0.2619 - acc: 0.89 - ETA: 10:49 - loss: 0.2620 - acc: 0.89 - ETA: 10:48 - loss: 0.2623 - acc: 0.89 - ETA: 10:47 - loss: 0.2624 - acc: 0.89 - ETA: 10:46 - loss: 0.2625 - acc: 0.89 - ETA: 10:44 - loss: 0.2624 - acc: 0.89 - ETA: 10:42 - loss: 0.2624 - acc: 0.89 - ETA: 10:41 - loss: 0.2624 - acc: 0.89 - ETA: 10:40 - loss: 0.2623 - acc: 0.89 - ETA: 10:38 - loss: 0.2623 - acc: 0.89 - ETA: 10:36 - loss: 0.2623 - acc: 0.89 - ETA: 10:34 - loss: 0.2623 - acc: 0.89 - ETA: 10:32 - loss: 0.2623 - acc: 0.89 - ETA: 10:31 - loss: 0.2621 - acc: 0.89 - ETA: 10:29 - loss: 0.2621 - acc: 0.89 - ETA: 10:27 - loss: 0.2621 - acc: 0.89 - ETA: 10:26 - loss: 0.2621 - acc: 0.89 - ETA: 10:24 - loss: 0.2620 - acc: 0.89 - ETA: 10:23 - loss: 0.2619 - acc: 0.89 - ETA: 10:21 - loss: 0.2619 - acc: 0.89 - ETA: 10:20 - loss: 0.2618 - acc: 0.89 - ETA: 10:18 - loss: 0.2618 - acc: 0.89 - ETA: 10:18 - loss: 0.2618 - acc: 0.89 - ETA: 10:16 - loss: 0.2619 - acc: 0.89 - ETA: 10:14 - loss: 0.2619 - acc: 0.89 - ETA: 10:13 - loss: 0.2618 - acc: 0.89 - ETA: 10:11 - loss: 0.2618 - acc: 0.89 - ETA: 10:11 - loss: 0.2618 - acc: 0.89 - ETA: 10:11 - loss: 0.2619 - acc: 0.89 - ETA: 10:10 - loss: 0.2618 - acc: 0.89 - ETA: 10:08 - loss: 0.2619 - acc: 0.89 - ETA: 10:06 - loss: 0.2618 - acc: 0.89 - ETA: 10:04 - loss: 0.2619 - acc: 0.89 - ETA: 10:03 - loss: 0.2619 - acc: 0.89 - ETA: 10:01 - loss: 0.2619 - acc: 0.89 - ETA: 10:00 - loss: 0.2619 - acc: 0.89 - ETA: 9:58 - loss: 0.2620 - acc: 0.8911 - ETA: 9:56 - loss: 0.2620 - acc: 0.891 - ETA: 9:55 - loss: 0.2620 - acc: 0.891 - ETA: 9:53 - loss: 0.2621 - acc: 0.891 - ETA: 9:51 - loss: 0.2621 - acc: 0.891 - ETA: 9:49 - loss: 0.2621 - acc: 0.891 - ETA: 9:48 - loss: 0.2621 - acc: 0.891 - ETA: 9:46 - loss: 0.2621 - acc: 0.891 - ETA: 9:45 - loss: 0.2621 - acc: 0.891 - ETA: 9:43 - loss: 0.2621 - acc: 0.891 - ETA: 9:41 - loss: 0.2621 - acc: 0.891 - ETA: 9:39 - loss: 0.2621 - acc: 0.891 - ETA: 9:38 - loss: 0.2620 - acc: 0.891 - ETA: 9:36 - loss: 0.2620 - acc: 0.891 - ETA: 9:34 - loss: 0.2620 - acc: 0.891 - ETA: 9:33 - loss: 0.2620 - acc: 0.891 - ETA: 9:31 - loss: 0.2620 - acc: 0.891 - ETA: 9:29 - loss: 0.2619 - acc: 0.891 - ETA: 9:28 - loss: 0.2619 - acc: 0.891 - ETA: 9:26 - loss: 0.2619 - acc: 0.891 - ETA: 9:24 - loss: 0.2618 - acc: 0.891 - ETA: 9:22 - loss: 0.2618 - acc: 0.891 - ETA: 9:21 - loss: 0.2618 - acc: 0.891 - ETA: 9:20 - loss: 0.2618 - acc: 0.891 - ETA: 9:18 - loss: 0.2617 - acc: 0.891 - ETA: 9:16 - loss: 0.2617 - acc: 0.891 - ETA: 9:15 - loss: 0.2619 - acc: 0.891 - ETA: 9:14 - loss: 0.2619 - acc: 0.8913102000/112907 [==========================>...] - ETA: 9:14 - loss: 0.2618 - acc: 0.891 - ETA: 9:13 - loss: 0.2618 - acc: 0.891 - ETA: 9:12 - loss: 0.2618 - acc: 0.891 - ETA: 9:10 - loss: 0.2618 - acc: 0.891 - ETA: 9:09 - loss: 0.2619 - acc: 0.891 - ETA: 9:07 - loss: 0.2620 - acc: 0.891 - ETA: 9:05 - loss: 0.2618 - acc: 0.891 - ETA: 9:04 - loss: 0.2617 - acc: 0.891 - ETA: 9:02 - loss: 0.2617 - acc: 0.891 - ETA: 9:00 - loss: 0.2617 - acc: 0.891 - ETA: 8:59 - loss: 0.2616 - acc: 0.891 - ETA: 8:57 - loss: 0.2617 - acc: 0.891 - ETA: 8:55 - loss: 0.2618 - acc: 0.891 - ETA: 8:54 - loss: 0.2617 - acc: 0.891 - ETA: 8:53 - loss: 0.2617 - acc: 0.891 - ETA: 8:51 - loss: 0.2618 - acc: 0.891 - ETA: 8:50 - loss: 0.2617 - acc: 0.891 - ETA: 8:48 - loss: 0.2617 - acc: 0.891 - ETA: 8:48 - loss: 0.2618 - acc: 0.891 - ETA: 8:47 - loss: 0.2619 - acc: 0.891 - ETA: 8:45 - loss: 0.2620 - acc: 0.891 - ETA: 8:43 - loss: 0.2620 - acc: 0.891 - ETA: 8:42 - loss: 0.2621 - acc: 0.891 - ETA: 8:40 - loss: 0.2621 - acc: 0.891 - ETA: 8:38 - loss: 0.2621 - acc: 0.891 - ETA: 8:37 - loss: 0.2621 - acc: 0.891 - ETA: 8:35 - loss: 0.2622 - acc: 0.891 - ETA: 8:33 - loss: 0.2622 - acc: 0.891 - ETA: 8:31 - loss: 0.2623 - acc: 0.891 - ETA: 8:29 - loss: 0.2622 - acc: 0.891 - ETA: 8:28 - loss: 0.2622 - acc: 0.891 - ETA: 8:26 - loss: 0.2621 - acc: 0.891 - ETA: 8:24 - loss: 0.2622 - acc: 0.891 - ETA: 8:23 - loss: 0.2621 - acc: 0.891 - ETA: 8:21 - loss: 0.2622 - acc: 0.891 - ETA: 8:19 - loss: 0.2622 - acc: 0.891 - ETA: 8:17 - loss: 0.2621 - acc: 0.891 - ETA: 8:15 - loss: 0.2620 - acc: 0.891 - ETA: 8:14 - loss: 0.2621 - acc: 0.891 - ETA: 8:12 - loss: 0.2621 - acc: 0.891 - ETA: 8:10 - loss: 0.2621 - acc: 0.891 - ETA: 8:09 - loss: 0.2620 - acc: 0.891 - ETA: 8:07 - loss: 0.2621 - acc: 0.891 - ETA: 8:05 - loss: 0.2620 - acc: 0.891 - ETA: 8:03 - loss: 0.2621 - acc: 0.890 - ETA: 8:01 - loss: 0.2622 - acc: 0.890 - ETA: 8:00 - loss: 0.2622 - acc: 0.890 - ETA: 7:58 - loss: 0.2622 - acc: 0.890 - ETA: 7:56 - loss: 0.2622 - acc: 0.890 - ETA: 7:54 - loss: 0.2623 - acc: 0.890 - ETA: 7:53 - loss: 0.2622 - acc: 0.890 - ETA: 7:51 - loss: 0.2622 - acc: 0.890 - ETA: 7:49 - loss: 0.2623 - acc: 0.890 - ETA: 7:47 - loss: 0.2623 - acc: 0.890 - ETA: 7:45 - loss: 0.2622 - acc: 0.890 - ETA: 7:44 - loss: 0.2621 - acc: 0.891 - ETA: 7:42 - loss: 0.2620 - acc: 0.891 - ETA: 7:40 - loss: 0.2620 - acc: 0.891 - ETA: 7:39 - loss: 0.2620 - acc: 0.891 - ETA: 7:37 - loss: 0.2619 - acc: 0.891 - ETA: 7:36 - loss: 0.2619 - acc: 0.891 - ETA: 7:34 - loss: 0.2618 - acc: 0.891 - ETA: 7:32 - loss: 0.2618 - acc: 0.891 - ETA: 7:31 - loss: 0.2617 - acc: 0.891 - ETA: 7:29 - loss: 0.2616 - acc: 0.891 - ETA: 7:28 - loss: 0.2616 - acc: 0.891 - ETA: 7:26 - loss: 0.2617 - acc: 0.891 - ETA: 7:24 - loss: 0.2615 - acc: 0.891 - ETA: 7:23 - loss: 0.2616 - acc: 0.891 - ETA: 7:21 - loss: 0.2615 - acc: 0.891 - ETA: 7:20 - loss: 0.2615 - acc: 0.891 - ETA: 7:18 - loss: 0.2616 - acc: 0.891 - ETA: 7:16 - loss: 0.2615 - acc: 0.891 - ETA: 7:15 - loss: 0.2614 - acc: 0.891 - ETA: 7:13 - loss: 0.2614 - acc: 0.891 - ETA: 7:12 - loss: 0.2614 - acc: 0.891 - ETA: 7:10 - loss: 0.2613 - acc: 0.891 - ETA: 7:09 - loss: 0.2613 - acc: 0.891 - ETA: 7:07 - loss: 0.2613 - acc: 0.891 - ETA: 7:05 - loss: 0.2612 - acc: 0.891 - ETA: 7:03 - loss: 0.2613 - acc: 0.891 - ETA: 7:01 - loss: 0.2612 - acc: 0.891 - ETA: 7:00 - loss: 0.2613 - acc: 0.891 - ETA: 6:58 - loss: 0.2613 - acc: 0.891 - ETA: 6:56 - loss: 0.2612 - acc: 0.891 - ETA: 6:55 - loss: 0.2612 - acc: 0.891 - ETA: 6:53 - loss: 0.2611 - acc: 0.891 - ETA: 6:51 - loss: 0.2611 - acc: 0.891 - ETA: 6:49 - loss: 0.2611 - acc: 0.891 - ETA: 6:48 - loss: 0.2611 - acc: 0.891 - ETA: 6:46 - loss: 0.2611 - acc: 0.891 - ETA: 6:44 - loss: 0.2610 - acc: 0.891 - ETA: 6:43 - loss: 0.2610 - acc: 0.891 - ETA: 6:42 - loss: 0.2610 - acc: 0.891 - ETA: 6:41 - loss: 0.2610 - acc: 0.891 - ETA: 6:39 - loss: 0.2611 - acc: 0.891 - ETA: 6:37 - loss: 0.2610 - acc: 0.891 - ETA: 6:35 - loss: 0.2609 - acc: 0.891 - ETA: 6:33 - loss: 0.2610 - acc: 0.891 - ETA: 6:31 - loss: 0.2610 - acc: 0.891 - ETA: 6:30 - loss: 0.2611 - acc: 0.891 - ETA: 6:28 - loss: 0.2611 - acc: 0.891 - ETA: 6:26 - loss: 0.2611 - acc: 0.891 - ETA: 6:24 - loss: 0.2612 - acc: 0.891 - ETA: 6:23 - loss: 0.2612 - acc: 0.891 - ETA: 6:21 - loss: 0.2612 - acc: 0.891 - ETA: 6:21 - loss: 0.2611 - acc: 0.891 - ETA: 6:19 - loss: 0.2611 - acc: 0.891 - ETA: 6:17 - loss: 0.2611 - acc: 0.891 - ETA: 6:15 - loss: 0.2612 - acc: 0.891 - ETA: 6:14 - loss: 0.2612 - acc: 0.891 - ETA: 6:12 - loss: 0.2611 - acc: 0.891 - ETA: 6:11 - loss: 0.2611 - acc: 0.891 - ETA: 6:09 - loss: 0.2610 - acc: 0.891 - ETA: 6:07 - loss: 0.2609 - acc: 0.891 - ETA: 6:05 - loss: 0.2608 - acc: 0.891 - ETA: 6:03 - loss: 0.2608 - acc: 0.891 - ETA: 6:01 - loss: 0.2608 - acc: 0.891 - ETA: 6:00 - loss: 0.2608 - acc: 0.891 - ETA: 5:58 - loss: 0.2608 - acc: 0.891 - ETA: 5:56 - loss: 0.2609 - acc: 0.891 - ETA: 5:54 - loss: 0.2608 - acc: 0.891 - ETA: 5:52 - loss: 0.2608 - acc: 0.891 - ETA: 5:50 - loss: 0.2608 - acc: 0.891 - ETA: 5:48 - loss: 0.2608 - acc: 0.891 - ETA: 5:47 - loss: 0.2607 - acc: 0.891 - ETA: 5:45 - loss: 0.2607 - acc: 0.891 - ETA: 5:43 - loss: 0.2608 - acc: 0.891 - ETA: 5:41 - loss: 0.2607 - acc: 0.891 - ETA: 5:39 - loss: 0.2607 - acc: 0.891 - ETA: 5:37 - loss: 0.2607 - acc: 0.891 - ETA: 5:35 - loss: 0.2608 - acc: 0.891 - ETA: 5:34 - loss: 0.2607 - acc: 0.891 - ETA: 5:32 - loss: 0.2607 - acc: 0.891 - ETA: 5:30 - loss: 0.2607 - acc: 0.891 - ETA: 5:28 - loss: 0.2606 - acc: 0.891 - ETA: 5:26 - loss: 0.2605 - acc: 0.891 - ETA: 5:25 - loss: 0.2606 - acc: 0.891 - ETA: 5:23 - loss: 0.2607 - acc: 0.891 - ETA: 5:21 - loss: 0.2606 - acc: 0.891 - ETA: 5:19 - loss: 0.2606 - acc: 0.891 - ETA: 5:17 - loss: 0.2607 - acc: 0.891 - ETA: 5:15 - loss: 0.2606 - acc: 0.891 - ETA: 5:14 - loss: 0.2607 - acc: 0.891 - ETA: 5:12 - loss: 0.2606 - acc: 0.891 - ETA: 5:10 - loss: 0.2606 - acc: 0.891 - ETA: 5:09 - loss: 0.2606 - acc: 0.891 - ETA: 5:07 - loss: 0.2605 - acc: 0.891 - ETA: 5:05 - loss: 0.2604 - acc: 0.891 - ETA: 5:03 - loss: 0.2604 - acc: 0.891 - ETA: 5:01 - loss: 0.2605 - acc: 0.891 - ETA: 4:59 - loss: 0.2604 - acc: 0.891 - ETA: 4:58 - loss: 0.2603 - acc: 0.891 - ETA: 4:56 - loss: 0.2603 - acc: 0.891 - ETA: 4:54 - loss: 0.2602 - acc: 0.891 - ETA: 4:52 - loss: 0.2602 - acc: 0.891 - ETA: 4:50 - loss: 0.2602 - acc: 0.891 - ETA: 4:48 - loss: 0.2601 - acc: 0.891 - ETA: 4:47 - loss: 0.2601 - acc: 0.892 - ETA: 4:45 - loss: 0.2601 - acc: 0.891 - ETA: 4:43 - loss: 0.2601 - acc: 0.891 - ETA: 4:41 - loss: 0.2601 - acc: 0.891 - ETA: 4:39 - loss: 0.2601 - acc: 0.891 - ETA: 4:37 - loss: 0.2601 - acc: 0.891 - ETA: 4:35 - loss: 0.2600 - acc: 0.891 - ETA: 4:34 - loss: 0.2600 - acc: 0.892 - ETA: 4:32 - loss: 0.2600 - acc: 0.892 - ETA: 4:31 - loss: 0.2599 - acc: 0.891 - ETA: 4:29 - loss: 0.2601 - acc: 0.891 - ETA: 4:28 - loss: 0.2601 - acc: 0.891 - ETA: 4:26 - loss: 0.2601 - acc: 0.891 - ETA: 4:24 - loss: 0.2601 - acc: 0.891 - ETA: 4:22 - loss: 0.2601 - acc: 0.891 - ETA: 4:20 - loss: 0.2601 - acc: 0.891 - ETA: 4:18 - loss: 0.2601 - acc: 0.891 - ETA: 4:17 - loss: 0.2600 - acc: 0.891 - ETA: 4:15 - loss: 0.2599 - acc: 0.892 - ETA: 4:13 - loss: 0.2600 - acc: 0.892 - ETA: 4:11 - loss: 0.2600 - acc: 0.892 - ETA: 4:09 - loss: 0.2600 - acc: 0.892 - ETA: 4:08 - loss: 0.2600 - acc: 0.892 - ETA: 4:06 - loss: 0.2600 - acc: 0.892 - ETA: 4:04 - loss: 0.2601 - acc: 0.891 - ETA: 4:02 - loss: 0.2600 - acc: 0.892 - ETA: 4:00 - loss: 0.2600 - acc: 0.891 - ETA: 3:58 - loss: 0.2600 - acc: 0.892 - ETA: 3:57 - loss: 0.2599 - acc: 0.892 - ETA: 3:55 - loss: 0.2599 - acc: 0.892 - ETA: 3:53 - loss: 0.2598 - acc: 0.892 - ETA: 3:51 - loss: 0.2599 - acc: 0.892 - ETA: 3:49 - loss: 0.2599 - acc: 0.892 - ETA: 3:47 - loss: 0.2601 - acc: 0.892 - ETA: 3:45 - loss: 0.2600 - acc: 0.892 - ETA: 3:43 - loss: 0.2600 - acc: 0.892 - ETA: 3:42 - loss: 0.2600 - acc: 0.892 - ETA: 3:40 - loss: 0.2600 - acc: 0.892 - ETA: 3:38 - loss: 0.2600 - acc: 0.892 - ETA: 3:36 - loss: 0.2599 - acc: 0.892 - ETA: 3:34 - loss: 0.2599 - acc: 0.892 - ETA: 3:32 - loss: 0.2599 - acc: 0.892 - ETA: 3:30 - loss: 0.2599 - acc: 0.892 - ETA: 3:29 - loss: 0.2600 - acc: 0.892 - ETA: 3:27 - loss: 0.2600 - acc: 0.892 - ETA: 3:25 - loss: 0.2600 - acc: 0.8920112907/112907 [==============================] - ETA: 3:23 - loss: 0.2599 - acc: 0.892 - ETA: 3:21 - loss: 0.2599 - acc: 0.892 - ETA: 3:19 - loss: 0.2600 - acc: 0.892 - ETA: 3:17 - loss: 0.2600 - acc: 0.892 - ETA: 3:15 - loss: 0.2601 - acc: 0.892 - ETA: 3:14 - loss: 0.2601 - acc: 0.892 - ETA: 3:12 - loss: 0.2601 - acc: 0.892 - ETA: 3:10 - loss: 0.2601 - acc: 0.892 - ETA: 3:08 - loss: 0.2602 - acc: 0.892 - ETA: 3:06 - loss: 0.2601 - acc: 0.892 - ETA: 3:04 - loss: 0.2601 - acc: 0.892 - ETA: 3:02 - loss: 0.2600 - acc: 0.892 - ETA: 3:01 - loss: 0.2600 - acc: 0.892 - ETA: 2:59 - loss: 0.2600 - acc: 0.892 - ETA: 2:57 - loss: 0.2600 - acc: 0.892 - ETA: 2:55 - loss: 0.2600 - acc: 0.892 - ETA: 2:53 - loss: 0.2599 - acc: 0.892 - ETA: 2:51 - loss: 0.2599 - acc: 0.892 - ETA: 2:49 - loss: 0.2599 - acc: 0.892 - ETA: 2:47 - loss: 0.2598 - acc: 0.892 - ETA: 2:46 - loss: 0.2597 - acc: 0.892 - ETA: 2:44 - loss: 0.2597 - acc: 0.892 - ETA: 2:42 - loss: 0.2596 - acc: 0.892 - ETA: 2:40 - loss: 0.2597 - acc: 0.892 - ETA: 2:38 - loss: 0.2598 - acc: 0.892 - ETA: 2:36 - loss: 0.2598 - acc: 0.892 - ETA: 2:34 - loss: 0.2598 - acc: 0.892 - ETA: 2:33 - loss: 0.2598 - acc: 0.892 - ETA: 2:31 - loss: 0.2598 - acc: 0.892 - ETA: 2:29 - loss: 0.2598 - acc: 0.892 - ETA: 2:27 - loss: 0.2597 - acc: 0.892 - ETA: 2:26 - loss: 0.2597 - acc: 0.892 - ETA: 2:24 - loss: 0.2598 - acc: 0.892 - ETA: 2:22 - loss: 0.2597 - acc: 0.892 - ETA: 2:20 - loss: 0.2597 - acc: 0.892 - ETA: 2:18 - loss: 0.2597 - acc: 0.892 - ETA: 2:16 - loss: 0.2598 - acc: 0.892 - ETA: 2:14 - loss: 0.2597 - acc: 0.892 - ETA: 2:12 - loss: 0.2598 - acc: 0.892 - ETA: 2:11 - loss: 0.2598 - acc: 0.892 - ETA: 2:09 - loss: 0.2598 - acc: 0.892 - ETA: 2:07 - loss: 0.2598 - acc: 0.892 - ETA: 2:05 - loss: 0.2598 - acc: 0.892 - ETA: 2:03 - loss: 0.2597 - acc: 0.892 - ETA: 2:01 - loss: 0.2596 - acc: 0.892 - ETA: 1:59 - loss: 0.2596 - acc: 0.892 - ETA: 1:58 - loss: 0.2597 - acc: 0.892 - ETA: 1:56 - loss: 0.2596 - acc: 0.892 - ETA: 1:54 - loss: 0.2597 - acc: 0.892 - ETA: 1:52 - loss: 0.2597 - acc: 0.892 - ETA: 1:50 - loss: 0.2597 - acc: 0.892 - ETA: 1:48 - loss: 0.2597 - acc: 0.892 - ETA: 1:46 - loss: 0.2597 - acc: 0.892 - ETA: 1:44 - loss: 0.2597 - acc: 0.892 - ETA: 1:42 - loss: 0.2597 - acc: 0.892 - ETA: 1:41 - loss: 0.2597 - acc: 0.892 - ETA: 1:39 - loss: 0.2596 - acc: 0.892 - ETA: 1:37 - loss: 0.2596 - acc: 0.892 - ETA: 1:35 - loss: 0.2596 - acc: 0.892 - ETA: 1:33 - loss: 0.2596 - acc: 0.892 - ETA: 1:31 - loss: 0.2596 - acc: 0.892 - ETA: 1:29 - loss: 0.2596 - acc: 0.892 - ETA: 1:27 - loss: 0.2596 - acc: 0.892 - ETA: 1:25 - loss: 0.2596 - acc: 0.892 - ETA: 1:23 - loss: 0.2595 - acc: 0.892 - ETA: 1:22 - loss: 0.2596 - acc: 0.892 - ETA: 1:20 - loss: 0.2595 - acc: 0.892 - ETA: 1:18 - loss: 0.2596 - acc: 0.892 - ETA: 1:16 - loss: 0.2595 - acc: 0.892 - ETA: 1:14 - loss: 0.2596 - acc: 0.892 - ETA: 1:12 - loss: 0.2597 - acc: 0.892 - ETA: 1:10 - loss: 0.2597 - acc: 0.892 - ETA: 1:08 - loss: 0.2597 - acc: 0.892 - ETA: 1:06 - loss: 0.2597 - acc: 0.892 - ETA: 1:05 - loss: 0.2597 - acc: 0.892 - ETA: 1:03 - loss: 0.2597 - acc: 0.892 - ETA: 1:01 - loss: 0.2597 - acc: 0.892 - ETA: 59s - loss: 0.2597 - acc: 0.892 - ETA: 57s - loss: 0.2597 - acc: 0.89 - ETA: 55s - loss: 0.2597 - acc: 0.89 - ETA: 53s - loss: 0.2598 - acc: 0.89 - ETA: 51s - loss: 0.2599 - acc: 0.89 - ETA: 49s - loss: 0.2598 - acc: 0.89 - ETA: 48s - loss: 0.2598 - acc: 0.89 - ETA: 46s - loss: 0.2599 - acc: 0.89 - ETA: 44s - loss: 0.2597 - acc: 0.89 - ETA: 42s - loss: 0.2598 - acc: 0.89 - ETA: 40s - loss: 0.2597 - acc: 0.89 - ETA: 38s - loss: 0.2598 - acc: 0.89 - ETA: 36s - loss: 0.2596 - acc: 0.89 - ETA: 34s - loss: 0.2596 - acc: 0.89 - ETA: 32s - loss: 0.2596 - acc: 0.89 - ETA: 30s - loss: 0.2596 - acc: 0.89 - ETA: 29s - loss: 0.2596 - acc: 0.89 - ETA: 27s - loss: 0.2596 - acc: 0.89 - ETA: 25s - loss: 0.2596 - acc: 0.89 - ETA: 23s - loss: 0.2595 - acc: 0.89 - ETA: 21s - loss: 0.2596 - acc: 0.89 - ETA: 19s - loss: 0.2596 - acc: 0.89 - ETA: 17s - loss: 0.2596 - acc: 0.89 - ETA: 15s - loss: 0.2596 - acc: 0.89 - ETA: 13s - loss: 0.2596 - acc: 0.89 - ETA: 11s - loss: 0.2597 - acc: 0.89 - ETA: 9s - loss: 0.2596 - acc: 0.8922 - ETA: 7s - loss: 0.2596 - acc: 0.892 - ETA: 5s - loss: 0.2595 - acc: 0.892 - ETA: 4s - loss: 0.2595 - acc: 0.892 - ETA: 2s - loss: 0.2595 - acc: 0.892 - ETA: 0s - loss: 0.2595 - acc: 0.892 - 2554s 23ms/step - loss: 0.2595 - acc: 0.8923 - val_loss: 0.3015 - val_acc: 0.8744\n",
      "Epoch 3/3\n",
      " 20400/112907 [====>.........................] - ETA: 1:16:48 - loss: 0.1924 - acc: 0.93 - ETA: 1:10:04 - loss: 0.2062 - acc: 0.93 - ETA: 1:02:09 - loss: 0.2187 - acc: 0.91 - ETA: 56:36 - loss: 0.2002 - acc: 0.9325 - ETA: 54:26 - loss: 0.1925 - acc: 0.93 - ETA: 52:30 - loss: 0.1941 - acc: 0.92 - ETA: 50:09 - loss: 0.1987 - acc: 0.92 - ETA: 48:35 - loss: 0.1957 - acc: 0.92 - ETA: 47:28 - loss: 0.1902 - acc: 0.92 - ETA: 46:13 - loss: 0.1892 - acc: 0.92 - ETA: 45:41 - loss: 0.1845 - acc: 0.92 - ETA: 44:50 - loss: 0.1882 - acc: 0.92 - ETA: 46:14 - loss: 0.1885 - acc: 0.93 - ETA: 46:07 - loss: 0.1828 - acc: 0.93 - ETA: 46:02 - loss: 0.1792 - acc: 0.93 - ETA: 45:33 - loss: 0.1820 - acc: 0.92 - ETA: 45:06 - loss: 0.1792 - acc: 0.93 - ETA: 44:44 - loss: 0.1758 - acc: 0.93 - ETA: 44:26 - loss: 0.1715 - acc: 0.93 - ETA: 44:35 - loss: 0.1681 - acc: 0.93 - ETA: 44:08 - loss: 0.1681 - acc: 0.93 - ETA: 44:50 - loss: 0.1679 - acc: 0.93 - ETA: 44:25 - loss: 0.1654 - acc: 0.93 - ETA: 44:01 - loss: 0.1678 - acc: 0.93 - ETA: 43:39 - loss: 0.1745 - acc: 0.93 - ETA: 43:17 - loss: 0.1730 - acc: 0.93 - ETA: 43:29 - loss: 0.1733 - acc: 0.93 - ETA: 43:23 - loss: 0.1769 - acc: 0.93 - ETA: 43:09 - loss: 0.1747 - acc: 0.93 - ETA: 43:15 - loss: 0.1771 - acc: 0.93 - ETA: 43:00 - loss: 0.1770 - acc: 0.93 - ETA: 42:46 - loss: 0.1767 - acc: 0.93 - ETA: 42:29 - loss: 0.1750 - acc: 0.93 - ETA: 43:04 - loss: 0.1775 - acc: 0.93 - ETA: 42:53 - loss: 0.1780 - acc: 0.93 - ETA: 42:39 - loss: 0.1796 - acc: 0.93 - ETA: 42:22 - loss: 0.1805 - acc: 0.92 - ETA: 42:11 - loss: 0.1794 - acc: 0.92 - ETA: 41:57 - loss: 0.1806 - acc: 0.92 - ETA: 41:45 - loss: 0.1791 - acc: 0.93 - ETA: 41:44 - loss: 0.1767 - acc: 0.93 - ETA: 41:43 - loss: 0.1765 - acc: 0.93 - ETA: 41:35 - loss: 0.1751 - acc: 0.93 - ETA: 41:25 - loss: 0.1734 - acc: 0.93 - ETA: 41:17 - loss: 0.1724 - acc: 0.93 - ETA: 41:07 - loss: 0.1721 - acc: 0.93 - ETA: 40:59 - loss: 0.1721 - acc: 0.93 - ETA: 40:51 - loss: 0.1707 - acc: 0.93 - ETA: 40:59 - loss: 0.1712 - acc: 0.93 - ETA: 40:49 - loss: 0.1701 - acc: 0.93 - ETA: 40:43 - loss: 0.1697 - acc: 0.93 - ETA: 40:41 - loss: 0.1700 - acc: 0.93 - ETA: 40:33 - loss: 0.1689 - acc: 0.93 - ETA: 40:28 - loss: 0.1685 - acc: 0.93 - ETA: 40:21 - loss: 0.1696 - acc: 0.93 - ETA: 40:24 - loss: 0.1689 - acc: 0.93 - ETA: 40:21 - loss: 0.1681 - acc: 0.93 - ETA: 40:14 - loss: 0.1692 - acc: 0.93 - ETA: 40:17 - loss: 0.1698 - acc: 0.93 - ETA: 40:46 - loss: 0.1718 - acc: 0.93 - ETA: 40:49 - loss: 0.1730 - acc: 0.93 - ETA: 40:50 - loss: 0.1727 - acc: 0.93 - ETA: 40:55 - loss: 0.1725 - acc: 0.93 - ETA: 40:47 - loss: 0.1719 - acc: 0.93 - ETA: 40:53 - loss: 0.1713 - acc: 0.93 - ETA: 40:56 - loss: 0.1716 - acc: 0.93 - ETA: 40:48 - loss: 0.1709 - acc: 0.93 - ETA: 40:50 - loss: 0.1700 - acc: 0.93 - ETA: 41:10 - loss: 0.1707 - acc: 0.93 - ETA: 41:27 - loss: 0.1718 - acc: 0.93 - ETA: 41:23 - loss: 0.1718 - acc: 0.93 - ETA: 41:28 - loss: 0.1712 - acc: 0.93 - ETA: 41:37 - loss: 0.1711 - acc: 0.93 - ETA: 41:47 - loss: 0.1712 - acc: 0.93 - ETA: 41:38 - loss: 0.1726 - acc: 0.93 - ETA: 41:30 - loss: 0.1721 - acc: 0.93 - ETA: 41:24 - loss: 0.1728 - acc: 0.93 - ETA: 41:16 - loss: 0.1723 - acc: 0.93 - ETA: 41:08 - loss: 0.1728 - acc: 0.93 - ETA: 41:01 - loss: 0.1726 - acc: 0.93 - ETA: 40:55 - loss: 0.1725 - acc: 0.93 - ETA: 40:57 - loss: 0.1727 - acc: 0.93 - ETA: 40:50 - loss: 0.1731 - acc: 0.93 - ETA: 40:43 - loss: 0.1732 - acc: 0.93 - ETA: 40:46 - loss: 0.1734 - acc: 0.93 - ETA: 40:42 - loss: 0.1726 - acc: 0.93 - ETA: 40:39 - loss: 0.1725 - acc: 0.93 - ETA: 40:34 - loss: 0.1725 - acc: 0.93 - ETA: 40:36 - loss: 0.1719 - acc: 0.93 - ETA: 40:35 - loss: 0.1720 - acc: 0.93 - ETA: 40:31 - loss: 0.1719 - acc: 0.93 - ETA: 40:27 - loss: 0.1720 - acc: 0.93 - ETA: 40:23 - loss: 0.1725 - acc: 0.93 - ETA: 40:19 - loss: 0.1729 - acc: 0.93 - ETA: 40:21 - loss: 0.1725 - acc: 0.93 - ETA: 40:20 - loss: 0.1733 - acc: 0.93 - ETA: 40:21 - loss: 0.1733 - acc: 0.93 - ETA: 40:15 - loss: 0.1739 - acc: 0.93 - ETA: 40:09 - loss: 0.1734 - acc: 0.93 - ETA: 40:06 - loss: 0.1732 - acc: 0.93 - ETA: 40:02 - loss: 0.1727 - acc: 0.93 - ETA: 40:01 - loss: 0.1729 - acc: 0.93 - ETA: 40:02 - loss: 0.1727 - acc: 0.93 - ETA: 40:01 - loss: 0.1726 - acc: 0.93 - ETA: 39:57 - loss: 0.1717 - acc: 0.93 - ETA: 39:55 - loss: 0.1718 - acc: 0.93 - ETA: 39:50 - loss: 0.1715 - acc: 0.93 - ETA: 39:45 - loss: 0.1708 - acc: 0.93 - ETA: 39:46 - loss: 0.1704 - acc: 0.93 - ETA: 39:43 - loss: 0.1696 - acc: 0.93 - ETA: 39:38 - loss: 0.1695 - acc: 0.93 - ETA: 39:33 - loss: 0.1698 - acc: 0.93 - ETA: 39:29 - loss: 0.1711 - acc: 0.93 - ETA: 39:24 - loss: 0.1708 - acc: 0.93 - ETA: 39:20 - loss: 0.1705 - acc: 0.93 - ETA: 39:20 - loss: 0.1698 - acc: 0.93 - ETA: 39:28 - loss: 0.1702 - acc: 0.93 - ETA: 39:24 - loss: 0.1702 - acc: 0.93 - ETA: 39:26 - loss: 0.1711 - acc: 0.93 - ETA: 39:25 - loss: 0.1713 - acc: 0.93 - ETA: 39:26 - loss: 0.1715 - acc: 0.93 - ETA: 39:27 - loss: 0.1712 - acc: 0.93 - ETA: 39:28 - loss: 0.1710 - acc: 0.93 - ETA: 39:24 - loss: 0.1706 - acc: 0.93 - ETA: 39:21 - loss: 0.1712 - acc: 0.93 - ETA: 39:17 - loss: 0.1714 - acc: 0.93 - ETA: 39:15 - loss: 0.1725 - acc: 0.93 - ETA: 39:11 - loss: 0.1722 - acc: 0.93 - ETA: 39:15 - loss: 0.1717 - acc: 0.93 - ETA: 39:12 - loss: 0.1712 - acc: 0.93 - ETA: 39:08 - loss: 0.1706 - acc: 0.93 - ETA: 39:04 - loss: 0.1702 - acc: 0.93 - ETA: 38:59 - loss: 0.1703 - acc: 0.93 - ETA: 38:54 - loss: 0.1702 - acc: 0.93 - ETA: 38:56 - loss: 0.1701 - acc: 0.93 - ETA: 39:01 - loss: 0.1697 - acc: 0.93 - ETA: 38:58 - loss: 0.1694 - acc: 0.93 - ETA: 38:54 - loss: 0.1695 - acc: 0.93 - ETA: 38:51 - loss: 0.1693 - acc: 0.93 - ETA: 38:46 - loss: 0.1692 - acc: 0.93 - ETA: 38:42 - loss: 0.1687 - acc: 0.93 - ETA: 38:40 - loss: 0.1690 - acc: 0.93 - ETA: 38:42 - loss: 0.1692 - acc: 0.93 - ETA: 38:39 - loss: 0.1695 - acc: 0.93 - ETA: 38:35 - loss: 0.1694 - acc: 0.93 - ETA: 38:31 - loss: 0.1692 - acc: 0.93 - ETA: 38:26 - loss: 0.1690 - acc: 0.93 - ETA: 38:22 - loss: 0.1693 - acc: 0.93 - ETA: 38:18 - loss: 0.1696 - acc: 0.93 - ETA: 38:28 - loss: 0.1700 - acc: 0.93 - ETA: 38:26 - loss: 0.1701 - acc: 0.93 - ETA: 38:23 - loss: 0.1700 - acc: 0.93 - ETA: 38:18 - loss: 0.1693 - acc: 0.93 - ETA: 38:14 - loss: 0.1697 - acc: 0.93 - ETA: 38:10 - loss: 0.1695 - acc: 0.93 - ETA: 38:14 - loss: 0.1698 - acc: 0.93 - ETA: 38:10 - loss: 0.1693 - acc: 0.93 - ETA: 38:06 - loss: 0.1698 - acc: 0.93 - ETA: 38:02 - loss: 0.1695 - acc: 0.93 - ETA: 37:58 - loss: 0.1697 - acc: 0.93 - ETA: 37:55 - loss: 0.1702 - acc: 0.93 - ETA: 37:51 - loss: 0.1701 - acc: 0.93 - ETA: 37:54 - loss: 0.1703 - acc: 0.93 - ETA: 37:50 - loss: 0.1702 - acc: 0.93 - ETA: 37:46 - loss: 0.1701 - acc: 0.93 - ETA: 37:42 - loss: 0.1701 - acc: 0.93 - ETA: 37:38 - loss: 0.1701 - acc: 0.93 - ETA: 37:35 - loss: 0.1704 - acc: 0.93 - ETA: 37:31 - loss: 0.1706 - acc: 0.93 - ETA: 37:32 - loss: 0.1705 - acc: 0.93 - ETA: 37:28 - loss: 0.1711 - acc: 0.93 - ETA: 37:24 - loss: 0.1719 - acc: 0.93 - ETA: 37:21 - loss: 0.1717 - acc: 0.93 - ETA: 37:17 - loss: 0.1717 - acc: 0.93 - ETA: 37:14 - loss: 0.1716 - acc: 0.93 - ETA: 37:11 - loss: 0.1714 - acc: 0.93 - ETA: 37:09 - loss: 0.1714 - acc: 0.93 - ETA: 37:06 - loss: 0.1715 - acc: 0.93 - ETA: 37:02 - loss: 0.1716 - acc: 0.93 - ETA: 36:58 - loss: 0.1713 - acc: 0.93 - ETA: 36:55 - loss: 0.1711 - acc: 0.93 - ETA: 36:52 - loss: 0.1709 - acc: 0.93 - ETA: 36:48 - loss: 0.1708 - acc: 0.93 - ETA: 36:44 - loss: 0.1706 - acc: 0.93 - ETA: 36:44 - loss: 0.1707 - acc: 0.93 - ETA: 36:41 - loss: 0.1704 - acc: 0.93 - ETA: 36:38 - loss: 0.1708 - acc: 0.93 - ETA: 36:35 - loss: 0.1710 - acc: 0.93 - ETA: 36:31 - loss: 0.1714 - acc: 0.93 - ETA: 36:28 - loss: 0.1712 - acc: 0.93 - ETA: 36:25 - loss: 0.1709 - acc: 0.93 - ETA: 36:26 - loss: 0.1707 - acc: 0.93 - ETA: 36:22 - loss: 0.1713 - acc: 0.93 - ETA: 36:18 - loss: 0.1716 - acc: 0.93 - ETA: 36:15 - loss: 0.1712 - acc: 0.93 - ETA: 36:11 - loss: 0.1710 - acc: 0.93 - ETA: 36:08 - loss: 0.1711 - acc: 0.93 - ETA: 36:04 - loss: 0.1709 - acc: 0.93 - ETA: 36:03 - loss: 0.1705 - acc: 0.93 - ETA: 36:00 - loss: 0.1703 - acc: 0.93 - ETA: 35:57 - loss: 0.1700 - acc: 0.93 - ETA: 35:54 - loss: 0.1697 - acc: 0.93 - ETA: 35:51 - loss: 0.1696 - acc: 0.93 - ETA: 35:48 - loss: 0.1695 - acc: 0.9331 40800/112907 [=========>....................] - ETA: 35:45 - loss: 0.1692 - acc: 0.93 - ETA: 35:44 - loss: 0.1688 - acc: 0.93 - ETA: 35:42 - loss: 0.1686 - acc: 0.93 - ETA: 35:38 - loss: 0.1691 - acc: 0.93 - ETA: 35:34 - loss: 0.1690 - acc: 0.93 - ETA: 35:31 - loss: 0.1688 - acc: 0.93 - ETA: 35:28 - loss: 0.1689 - acc: 0.93 - ETA: 35:25 - loss: 0.1690 - acc: 0.93 - ETA: 35:22 - loss: 0.1690 - acc: 0.93 - ETA: 35:25 - loss: 0.1685 - acc: 0.93 - ETA: 35:22 - loss: 0.1684 - acc: 0.93 - ETA: 35:20 - loss: 0.1684 - acc: 0.93 - ETA: 35:16 - loss: 0.1683 - acc: 0.93 - ETA: 35:14 - loss: 0.1682 - acc: 0.93 - ETA: 35:10 - loss: 0.1694 - acc: 0.93 - ETA: 35:07 - loss: 0.1693 - acc: 0.93 - ETA: 35:08 - loss: 0.1690 - acc: 0.93 - ETA: 35:05 - loss: 0.1690 - acc: 0.93 - ETA: 35:02 - loss: 0.1689 - acc: 0.93 - ETA: 34:59 - loss: 0.1691 - acc: 0.93 - ETA: 34:57 - loss: 0.1693 - acc: 0.93 - ETA: 34:53 - loss: 0.1694 - acc: 0.93 - ETA: 34:53 - loss: 0.1695 - acc: 0.93 - ETA: 34:50 - loss: 0.1694 - acc: 0.93 - ETA: 34:46 - loss: 0.1696 - acc: 0.93 - ETA: 34:44 - loss: 0.1694 - acc: 0.93 - ETA: 34:41 - loss: 0.1697 - acc: 0.93 - ETA: 34:37 - loss: 0.1698 - acc: 0.93 - ETA: 34:34 - loss: 0.1698 - acc: 0.93 - ETA: 34:31 - loss: 0.1696 - acc: 0.93 - ETA: 34:29 - loss: 0.1696 - acc: 0.93 - ETA: 34:26 - loss: 0.1694 - acc: 0.93 - ETA: 34:24 - loss: 0.1691 - acc: 0.93 - ETA: 34:21 - loss: 0.1689 - acc: 0.93 - ETA: 34:18 - loss: 0.1691 - acc: 0.93 - ETA: 34:15 - loss: 0.1692 - acc: 0.93 - ETA: 34:12 - loss: 0.1692 - acc: 0.93 - ETA: 34:13 - loss: 0.1696 - acc: 0.93 - ETA: 34:10 - loss: 0.1695 - acc: 0.93 - ETA: 34:07 - loss: 0.1692 - acc: 0.93 - ETA: 34:05 - loss: 0.1692 - acc: 0.93 - ETA: 34:02 - loss: 0.1691 - acc: 0.93 - ETA: 33:58 - loss: 0.1691 - acc: 0.93 - ETA: 33:55 - loss: 0.1690 - acc: 0.93 - ETA: 33:55 - loss: 0.1691 - acc: 0.93 - ETA: 33:52 - loss: 0.1689 - acc: 0.93 - ETA: 33:50 - loss: 0.1688 - acc: 0.93 - ETA: 33:47 - loss: 0.1692 - acc: 0.93 - ETA: 33:44 - loss: 0.1690 - acc: 0.93 - ETA: 33:41 - loss: 0.1690 - acc: 0.93 - ETA: 33:39 - loss: 0.1690 - acc: 0.93 - ETA: 33:38 - loss: 0.1690 - acc: 0.93 - ETA: 33:35 - loss: 0.1691 - acc: 0.93 - ETA: 33:33 - loss: 0.1689 - acc: 0.93 - ETA: 33:32 - loss: 0.1687 - acc: 0.93 - ETA: 33:30 - loss: 0.1688 - acc: 0.93 - ETA: 33:28 - loss: 0.1688 - acc: 0.93 - ETA: 33:27 - loss: 0.1688 - acc: 0.93 - ETA: 33:25 - loss: 0.1687 - acc: 0.93 - ETA: 33:23 - loss: 0.1689 - acc: 0.93 - ETA: 33:20 - loss: 0.1687 - acc: 0.93 - ETA: 33:17 - loss: 0.1686 - acc: 0.93 - ETA: 33:14 - loss: 0.1684 - acc: 0.93 - ETA: 33:12 - loss: 0.1683 - acc: 0.93 - ETA: 33:10 - loss: 0.1682 - acc: 0.93 - ETA: 33:08 - loss: 0.1682 - acc: 0.93 - ETA: 33:05 - loss: 0.1680 - acc: 0.93 - ETA: 33:03 - loss: 0.1679 - acc: 0.93 - ETA: 33:00 - loss: 0.1678 - acc: 0.93 - ETA: 32:58 - loss: 0.1678 - acc: 0.93 - ETA: 32:55 - loss: 0.1678 - acc: 0.93 - ETA: 32:54 - loss: 0.1679 - acc: 0.93 - ETA: 32:52 - loss: 0.1683 - acc: 0.93 - ETA: 32:52 - loss: 0.1688 - acc: 0.93 - ETA: 32:50 - loss: 0.1690 - acc: 0.93 - ETA: 32:47 - loss: 0.1691 - acc: 0.93 - ETA: 32:45 - loss: 0.1692 - acc: 0.93 - ETA: 32:44 - loss: 0.1694 - acc: 0.93 - ETA: 32:43 - loss: 0.1694 - acc: 0.93 - ETA: 32:40 - loss: 0.1694 - acc: 0.93 - ETA: 32:37 - loss: 0.1694 - acc: 0.93 - ETA: 32:35 - loss: 0.1694 - acc: 0.93 - ETA: 32:32 - loss: 0.1695 - acc: 0.93 - ETA: 32:29 - loss: 0.1695 - acc: 0.93 - ETA: 32:27 - loss: 0.1694 - acc: 0.93 - ETA: 32:26 - loss: 0.1694 - acc: 0.93 - ETA: 32:23 - loss: 0.1694 - acc: 0.93 - ETA: 32:21 - loss: 0.1696 - acc: 0.93 - ETA: 32:18 - loss: 0.1698 - acc: 0.93 - ETA: 32:15 - loss: 0.1696 - acc: 0.93 - ETA: 32:13 - loss: 0.1697 - acc: 0.93 - ETA: 32:11 - loss: 0.1697 - acc: 0.93 - ETA: 32:09 - loss: 0.1695 - acc: 0.93 - ETA: 32:07 - loss: 0.1697 - acc: 0.93 - ETA: 32:05 - loss: 0.1696 - acc: 0.93 - ETA: 32:02 - loss: 0.1696 - acc: 0.93 - ETA: 31:59 - loss: 0.1697 - acc: 0.93 - ETA: 31:56 - loss: 0.1694 - acc: 0.93 - ETA: 31:55 - loss: 0.1696 - acc: 0.93 - ETA: 31:53 - loss: 0.1699 - acc: 0.93 - ETA: 31:50 - loss: 0.1698 - acc: 0.93 - ETA: 31:48 - loss: 0.1698 - acc: 0.93 - ETA: 31:45 - loss: 0.1695 - acc: 0.93 - ETA: 31:42 - loss: 0.1693 - acc: 0.93 - ETA: 31:40 - loss: 0.1692 - acc: 0.93 - ETA: 31:41 - loss: 0.1692 - acc: 0.93 - ETA: 31:39 - loss: 0.1692 - acc: 0.93 - ETA: 31:36 - loss: 0.1693 - acc: 0.93 - ETA: 31:33 - loss: 0.1695 - acc: 0.93 - ETA: 31:31 - loss: 0.1696 - acc: 0.93 - ETA: 31:28 - loss: 0.1695 - acc: 0.93 - ETA: 31:25 - loss: 0.1693 - acc: 0.93 - ETA: 31:25 - loss: 0.1695 - acc: 0.93 - ETA: 31:23 - loss: 0.1696 - acc: 0.93 - ETA: 31:20 - loss: 0.1695 - acc: 0.93 - ETA: 31:18 - loss: 0.1694 - acc: 0.93 - ETA: 31:15 - loss: 0.1693 - acc: 0.93 - ETA: 31:12 - loss: 0.1691 - acc: 0.93 - ETA: 31:10 - loss: 0.1691 - acc: 0.93 - ETA: 31:09 - loss: 0.1692 - acc: 0.93 - ETA: 31:07 - loss: 0.1692 - acc: 0.93 - ETA: 31:04 - loss: 0.1690 - acc: 0.93 - ETA: 31:01 - loss: 0.1696 - acc: 0.93 - ETA: 30:59 - loss: 0.1695 - acc: 0.93 - ETA: 30:56 - loss: 0.1694 - acc: 0.93 - ETA: 30:53 - loss: 0.1694 - acc: 0.93 - ETA: 30:52 - loss: 0.1694 - acc: 0.93 - ETA: 30:50 - loss: 0.1692 - acc: 0.93 - ETA: 30:48 - loss: 0.1695 - acc: 0.93 - ETA: 30:45 - loss: 0.1696 - acc: 0.93 - ETA: 30:43 - loss: 0.1696 - acc: 0.93 - ETA: 30:40 - loss: 0.1697 - acc: 0.93 - ETA: 30:39 - loss: 0.1695 - acc: 0.93 - ETA: 30:37 - loss: 0.1693 - acc: 0.93 - ETA: 30:34 - loss: 0.1694 - acc: 0.93 - ETA: 30:32 - loss: 0.1695 - acc: 0.93 - ETA: 30:29 - loss: 0.1698 - acc: 0.93 - ETA: 30:27 - loss: 0.1698 - acc: 0.93 - ETA: 30:24 - loss: 0.1697 - acc: 0.93 - ETA: 30:23 - loss: 0.1697 - acc: 0.93 - ETA: 30:21 - loss: 0.1695 - acc: 0.93 - ETA: 30:18 - loss: 0.1693 - acc: 0.93 - ETA: 30:16 - loss: 0.1693 - acc: 0.93 - ETA: 30:13 - loss: 0.1696 - acc: 0.93 - ETA: 30:10 - loss: 0.1694 - acc: 0.93 - ETA: 30:08 - loss: 0.1694 - acc: 0.93 - ETA: 30:07 - loss: 0.1692 - acc: 0.93 - ETA: 30:04 - loss: 0.1691 - acc: 0.93 - ETA: 30:02 - loss: 0.1691 - acc: 0.93 - ETA: 30:00 - loss: 0.1692 - acc: 0.93 - ETA: 29:57 - loss: 0.1691 - acc: 0.93 - ETA: 29:55 - loss: 0.1690 - acc: 0.93 - ETA: 29:52 - loss: 0.1690 - acc: 0.93 - ETA: 29:51 - loss: 0.1690 - acc: 0.93 - ETA: 29:49 - loss: 0.1690 - acc: 0.93 - ETA: 29:47 - loss: 0.1690 - acc: 0.93 - ETA: 29:44 - loss: 0.1692 - acc: 0.93 - ETA: 29:41 - loss: 0.1691 - acc: 0.93 - ETA: 29:39 - loss: 0.1691 - acc: 0.93 - ETA: 29:36 - loss: 0.1694 - acc: 0.93 - ETA: 29:35 - loss: 0.1692 - acc: 0.93 - ETA: 29:32 - loss: 0.1692 - acc: 0.93 - ETA: 29:30 - loss: 0.1696 - acc: 0.93 - ETA: 29:27 - loss: 0.1697 - acc: 0.93 - ETA: 29:24 - loss: 0.1698 - acc: 0.93 - ETA: 29:22 - loss: 0.1701 - acc: 0.93 - ETA: 29:20 - loss: 0.1700 - acc: 0.93 - ETA: 29:18 - loss: 0.1699 - acc: 0.93 - ETA: 29:16 - loss: 0.1699 - acc: 0.93 - ETA: 29:13 - loss: 0.1699 - acc: 0.93 - ETA: 29:11 - loss: 0.1700 - acc: 0.93 - ETA: 29:08 - loss: 0.1701 - acc: 0.93 - ETA: 29:06 - loss: 0.1703 - acc: 0.93 - ETA: 29:03 - loss: 0.1701 - acc: 0.93 - ETA: 29:02 - loss: 0.1699 - acc: 0.93 - ETA: 29:00 - loss: 0.1698 - acc: 0.93 - ETA: 28:58 - loss: 0.1698 - acc: 0.93 - ETA: 28:55 - loss: 0.1697 - acc: 0.93 - ETA: 28:53 - loss: 0.1699 - acc: 0.93 - ETA: 28:50 - loss: 0.1697 - acc: 0.93 - ETA: 28:49 - loss: 0.1698 - acc: 0.93 - ETA: 28:47 - loss: 0.1698 - acc: 0.93 - ETA: 28:45 - loss: 0.1702 - acc: 0.93 - ETA: 28:42 - loss: 0.1701 - acc: 0.93 - ETA: 28:40 - loss: 0.1701 - acc: 0.93 - ETA: 28:38 - loss: 0.1700 - acc: 0.93 - ETA: 28:36 - loss: 0.1699 - acc: 0.93 - ETA: 28:35 - loss: 0.1700 - acc: 0.93 - ETA: 28:32 - loss: 0.1698 - acc: 0.93 - ETA: 28:30 - loss: 0.1699 - acc: 0.93 - ETA: 28:27 - loss: 0.1699 - acc: 0.93 - ETA: 28:25 - loss: 0.1698 - acc: 0.93 - ETA: 28:22 - loss: 0.1696 - acc: 0.93 - ETA: 28:20 - loss: 0.1696 - acc: 0.93 - ETA: 28:19 - loss: 0.1696 - acc: 0.93 - ETA: 28:17 - loss: 0.1697 - acc: 0.93 - ETA: 28:14 - loss: 0.1696 - acc: 0.93 - ETA: 28:12 - loss: 0.1699 - acc: 0.93 - ETA: 28:09 - loss: 0.1700 - acc: 0.93 - ETA: 28:07 - loss: 0.1700 - acc: 0.93 - ETA: 28:06 - loss: 0.1700 - acc: 0.93 - ETA: 28:04 - loss: 0.1699 - acc: 0.93 - ETA: 28:02 - loss: 0.1702 - acc: 0.93 - ETA: 28:00 - loss: 0.1704 - acc: 0.9336 61200/112907 [===============>..............] - ETA: 27:58 - loss: 0.1702 - acc: 0.93 - ETA: 27:57 - loss: 0.1705 - acc: 0.93 - ETA: 27:57 - loss: 0.1706 - acc: 0.93 - ETA: 27:54 - loss: 0.1705 - acc: 0.93 - ETA: 27:52 - loss: 0.1704 - acc: 0.93 - ETA: 27:50 - loss: 0.1706 - acc: 0.93 - ETA: 27:47 - loss: 0.1705 - acc: 0.93 - ETA: 27:45 - loss: 0.1704 - acc: 0.93 - ETA: 27:43 - loss: 0.1703 - acc: 0.93 - ETA: 27:41 - loss: 0.1704 - acc: 0.93 - ETA: 27:39 - loss: 0.1703 - acc: 0.93 - ETA: 27:36 - loss: 0.1703 - acc: 0.93 - ETA: 27:34 - loss: 0.1704 - acc: 0.93 - ETA: 27:31 - loss: 0.1705 - acc: 0.93 - ETA: 27:29 - loss: 0.1703 - acc: 0.93 - ETA: 27:27 - loss: 0.1702 - acc: 0.93 - ETA: 27:25 - loss: 0.1702 - acc: 0.93 - ETA: 27:23 - loss: 0.1704 - acc: 0.93 - ETA: 27:20 - loss: 0.1703 - acc: 0.93 - ETA: 27:18 - loss: 0.1703 - acc: 0.93 - ETA: 27:16 - loss: 0.1703 - acc: 0.93 - ETA: 27:14 - loss: 0.1702 - acc: 0.93 - ETA: 27:13 - loss: 0.1701 - acc: 0.93 - ETA: 27:11 - loss: 0.1700 - acc: 0.93 - ETA: 27:08 - loss: 0.1700 - acc: 0.93 - ETA: 27:06 - loss: 0.1700 - acc: 0.93 - ETA: 27:04 - loss: 0.1700 - acc: 0.93 - ETA: 27:01 - loss: 0.1703 - acc: 0.93 - ETA: 27:00 - loss: 0.1707 - acc: 0.93 - ETA: 26:58 - loss: 0.1708 - acc: 0.93 - ETA: 26:56 - loss: 0.1707 - acc: 0.93 - ETA: 26:53 - loss: 0.1706 - acc: 0.93 - ETA: 26:51 - loss: 0.1705 - acc: 0.93 - ETA: 26:49 - loss: 0.1706 - acc: 0.93 - ETA: 26:46 - loss: 0.1707 - acc: 0.93 - ETA: 26:45 - loss: 0.1707 - acc: 0.93 - ETA: 26:43 - loss: 0.1708 - acc: 0.93 - ETA: 26:40 - loss: 0.1710 - acc: 0.93 - ETA: 26:38 - loss: 0.1709 - acc: 0.93 - ETA: 26:36 - loss: 0.1710 - acc: 0.93 - ETA: 26:33 - loss: 0.1710 - acc: 0.93 - ETA: 26:32 - loss: 0.1709 - acc: 0.93 - ETA: 26:30 - loss: 0.1711 - acc: 0.93 - ETA: 26:27 - loss: 0.1709 - acc: 0.93 - ETA: 26:25 - loss: 0.1710 - acc: 0.93 - ETA: 26:23 - loss: 0.1710 - acc: 0.93 - ETA: 26:20 - loss: 0.1711 - acc: 0.93 - ETA: 26:18 - loss: 0.1711 - acc: 0.93 - ETA: 26:16 - loss: 0.1711 - acc: 0.93 - ETA: 26:14 - loss: 0.1710 - acc: 0.93 - ETA: 26:12 - loss: 0.1709 - acc: 0.93 - ETA: 26:09 - loss: 0.1710 - acc: 0.93 - ETA: 26:07 - loss: 0.1711 - acc: 0.93 - ETA: 26:05 - loss: 0.1711 - acc: 0.93 - ETA: 26:03 - loss: 0.1710 - acc: 0.93 - ETA: 26:01 - loss: 0.1710 - acc: 0.93 - ETA: 25:59 - loss: 0.1712 - acc: 0.93 - ETA: 25:56 - loss: 0.1712 - acc: 0.93 - ETA: 25:54 - loss: 0.1713 - acc: 0.93 - ETA: 25:51 - loss: 0.1711 - acc: 0.93 - ETA: 25:49 - loss: 0.1711 - acc: 0.93 - ETA: 25:48 - loss: 0.1710 - acc: 0.93 - ETA: 25:45 - loss: 0.1709 - acc: 0.93 - ETA: 25:43 - loss: 0.1709 - acc: 0.93 - ETA: 25:41 - loss: 0.1709 - acc: 0.93 - ETA: 25:38 - loss: 0.1708 - acc: 0.93 - ETA: 25:36 - loss: 0.1709 - acc: 0.93 - ETA: 25:34 - loss: 0.1710 - acc: 0.93 - ETA: 25:32 - loss: 0.1711 - acc: 0.93 - ETA: 25:30 - loss: 0.1711 - acc: 0.93 - ETA: 25:27 - loss: 0.1710 - acc: 0.93 - ETA: 25:25 - loss: 0.1710 - acc: 0.93 - ETA: 25:23 - loss: 0.1709 - acc: 0.93 - ETA: 25:21 - loss: 0.1709 - acc: 0.93 - ETA: 25:19 - loss: 0.1709 - acc: 0.93 - ETA: 25:17 - loss: 0.1708 - acc: 0.93 - ETA: 25:14 - loss: 0.1707 - acc: 0.93 - ETA: 25:12 - loss: 0.1707 - acc: 0.93 - ETA: 25:10 - loss: 0.1706 - acc: 0.93 - ETA: 25:07 - loss: 0.1708 - acc: 0.93 - ETA: 25:06 - loss: 0.1710 - acc: 0.93 - ETA: 25:03 - loss: 0.1712 - acc: 0.93 - ETA: 25:01 - loss: 0.1712 - acc: 0.93 - ETA: 24:59 - loss: 0.1712 - acc: 0.93 - ETA: 24:57 - loss: 0.1711 - acc: 0.93 - ETA: 24:54 - loss: 0.1711 - acc: 0.93 - ETA: 24:52 - loss: 0.1713 - acc: 0.93 - ETA: 24:50 - loss: 0.1713 - acc: 0.93 - ETA: 24:48 - loss: 0.1712 - acc: 0.93 - ETA: 24:46 - loss: 0.1711 - acc: 0.93 - ETA: 24:44 - loss: 0.1712 - acc: 0.93 - ETA: 24:42 - loss: 0.1711 - acc: 0.93 - ETA: 24:39 - loss: 0.1712 - acc: 0.93 - ETA: 24:38 - loss: 0.1710 - acc: 0.93 - ETA: 24:35 - loss: 0.1711 - acc: 0.93 - ETA: 24:33 - loss: 0.1711 - acc: 0.93 - ETA: 24:31 - loss: 0.1711 - acc: 0.93 - ETA: 24:29 - loss: 0.1710 - acc: 0.93 - ETA: 24:26 - loss: 0.1709 - acc: 0.93 - ETA: 24:24 - loss: 0.1709 - acc: 0.93 - ETA: 24:23 - loss: 0.1711 - acc: 0.93 - ETA: 24:20 - loss: 0.1710 - acc: 0.93 - ETA: 24:18 - loss: 0.1711 - acc: 0.93 - ETA: 24:16 - loss: 0.1711 - acc: 0.93 - ETA: 24:14 - loss: 0.1710 - acc: 0.93 - ETA: 24:11 - loss: 0.1709 - acc: 0.93 - ETA: 24:10 - loss: 0.1708 - acc: 0.93 - ETA: 24:07 - loss: 0.1709 - acc: 0.93 - ETA: 24:05 - loss: 0.1709 - acc: 0.93 - ETA: 24:03 - loss: 0.1710 - acc: 0.93 - ETA: 24:01 - loss: 0.1709 - acc: 0.93 - ETA: 23:58 - loss: 0.1709 - acc: 0.93 - ETA: 23:57 - loss: 0.1707 - acc: 0.93 - ETA: 23:55 - loss: 0.1708 - acc: 0.93 - ETA: 23:53 - loss: 0.1708 - acc: 0.93 - ETA: 23:50 - loss: 0.1706 - acc: 0.93 - ETA: 23:48 - loss: 0.1707 - acc: 0.93 - ETA: 23:45 - loss: 0.1706 - acc: 0.93 - ETA: 23:43 - loss: 0.1709 - acc: 0.93 - ETA: 23:41 - loss: 0.1709 - acc: 0.93 - ETA: 23:39 - loss: 0.1708 - acc: 0.93 - ETA: 23:37 - loss: 0.1709 - acc: 0.93 - ETA: 23:34 - loss: 0.1709 - acc: 0.93 - ETA: 23:32 - loss: 0.1707 - acc: 0.93 - ETA: 23:30 - loss: 0.1708 - acc: 0.93 - ETA: 23:28 - loss: 0.1707 - acc: 0.93 - ETA: 23:26 - loss: 0.1708 - acc: 0.93 - ETA: 23:24 - loss: 0.1711 - acc: 0.93 - ETA: 23:21 - loss: 0.1711 - acc: 0.93 - ETA: 23:19 - loss: 0.1711 - acc: 0.93 - ETA: 23:17 - loss: 0.1713 - acc: 0.93 - ETA: 23:16 - loss: 0.1713 - acc: 0.93 - ETA: 23:13 - loss: 0.1712 - acc: 0.93 - ETA: 23:11 - loss: 0.1714 - acc: 0.93 - ETA: 23:08 - loss: 0.1714 - acc: 0.93 - ETA: 23:06 - loss: 0.1713 - acc: 0.93 - ETA: 23:04 - loss: 0.1713 - acc: 0.93 - ETA: 23:02 - loss: 0.1712 - acc: 0.93 - ETA: 22:59 - loss: 0.1711 - acc: 0.93 - ETA: 22:57 - loss: 0.1710 - acc: 0.93 - ETA: 22:55 - loss: 0.1709 - acc: 0.93 - ETA: 22:52 - loss: 0.1708 - acc: 0.93 - ETA: 22:50 - loss: 0.1708 - acc: 0.93 - ETA: 22:48 - loss: 0.1707 - acc: 0.93 - ETA: 22:46 - loss: 0.1706 - acc: 0.93 - ETA: 22:44 - loss: 0.1706 - acc: 0.93 - ETA: 22:42 - loss: 0.1706 - acc: 0.93 - ETA: 22:40 - loss: 0.1707 - acc: 0.93 - ETA: 22:37 - loss: 0.1707 - acc: 0.93 - ETA: 22:35 - loss: 0.1705 - acc: 0.93 - ETA: 22:34 - loss: 0.1705 - acc: 0.93 - ETA: 22:31 - loss: 0.1704 - acc: 0.93 - ETA: 22:29 - loss: 0.1705 - acc: 0.93 - ETA: 22:27 - loss: 0.1704 - acc: 0.93 - ETA: 22:24 - loss: 0.1704 - acc: 0.93 - ETA: 22:22 - loss: 0.1708 - acc: 0.93 - ETA: 22:20 - loss: 0.1707 - acc: 0.93 - ETA: 22:18 - loss: 0.1707 - acc: 0.93 - ETA: 22:16 - loss: 0.1706 - acc: 0.93 - ETA: 22:13 - loss: 0.1706 - acc: 0.93 - ETA: 22:11 - loss: 0.1706 - acc: 0.93 - ETA: 22:09 - loss: 0.1706 - acc: 0.93 - ETA: 22:06 - loss: 0.1706 - acc: 0.93 - ETA: 22:05 - loss: 0.1706 - acc: 0.93 - ETA: 22:03 - loss: 0.1706 - acc: 0.93 - ETA: 22:00 - loss: 0.1704 - acc: 0.93 - ETA: 21:58 - loss: 0.1704 - acc: 0.93 - ETA: 21:56 - loss: 0.1703 - acc: 0.93 - ETA: 21:53 - loss: 0.1703 - acc: 0.93 - ETA: 21:52 - loss: 0.1702 - acc: 0.93 - ETA: 21:49 - loss: 0.1702 - acc: 0.93 - ETA: 21:47 - loss: 0.1701 - acc: 0.93 - ETA: 21:45 - loss: 0.1702 - acc: 0.93 - ETA: 21:42 - loss: 0.1702 - acc: 0.93 - ETA: 21:40 - loss: 0.1701 - acc: 0.93 - ETA: 21:39 - loss: 0.1700 - acc: 0.93 - ETA: 21:36 - loss: 0.1699 - acc: 0.93 - ETA: 21:34 - loss: 0.1700 - acc: 0.93 - ETA: 21:32 - loss: 0.1700 - acc: 0.93 - ETA: 21:29 - loss: 0.1700 - acc: 0.93 - ETA: 21:27 - loss: 0.1700 - acc: 0.93 - ETA: 21:25 - loss: 0.1702 - acc: 0.93 - ETA: 21:23 - loss: 0.1701 - acc: 0.93 - ETA: 21:20 - loss: 0.1700 - acc: 0.93 - ETA: 21:18 - loss: 0.1700 - acc: 0.93 - ETA: 21:16 - loss: 0.1700 - acc: 0.93 - ETA: 21:13 - loss: 0.1699 - acc: 0.93 - ETA: 21:11 - loss: 0.1700 - acc: 0.93 - ETA: 21:09 - loss: 0.1699 - acc: 0.93 - ETA: 21:07 - loss: 0.1700 - acc: 0.93 - ETA: 21:05 - loss: 0.1700 - acc: 0.93 - ETA: 21:02 - loss: 0.1701 - acc: 0.93 - ETA: 21:02 - loss: 0.1701 - acc: 0.93 - ETA: 21:03 - loss: 0.1702 - acc: 0.93 - ETA: 21:04 - loss: 0.1702 - acc: 0.93 - ETA: 21:04 - loss: 0.1702 - acc: 0.93 - ETA: 21:04 - loss: 0.1702 - acc: 0.93 - ETA: 21:02 - loss: 0.1703 - acc: 0.93 - ETA: 20:59 - loss: 0.1704 - acc: 0.93 - ETA: 20:57 - loss: 0.1705 - acc: 0.93 - ETA: 20:54 - loss: 0.1705 - acc: 0.93 - ETA: 20:53 - loss: 0.1706 - acc: 0.93 - ETA: 20:50 - loss: 0.1706 - acc: 0.93 - ETA: 20:48 - loss: 0.1707 - acc: 0.9338 81600/112907 [====================>.........] - ETA: 20:46 - loss: 0.1708 - acc: 0.93 - ETA: 20:43 - loss: 0.1708 - acc: 0.93 - ETA: 20:41 - loss: 0.1709 - acc: 0.93 - ETA: 20:39 - loss: 0.1709 - acc: 0.93 - ETA: 20:37 - loss: 0.1708 - acc: 0.93 - ETA: 20:35 - loss: 0.1709 - acc: 0.93 - ETA: 20:32 - loss: 0.1710 - acc: 0.93 - ETA: 20:30 - loss: 0.1710 - acc: 0.93 - ETA: 20:29 - loss: 0.1710 - acc: 0.93 - ETA: 20:27 - loss: 0.1710 - acc: 0.93 - ETA: 20:24 - loss: 0.1710 - acc: 0.93 - ETA: 20:22 - loss: 0.1710 - acc: 0.93 - ETA: 20:20 - loss: 0.1710 - acc: 0.93 - ETA: 20:17 - loss: 0.1709 - acc: 0.93 - ETA: 20:15 - loss: 0.1708 - acc: 0.93 - ETA: 20:13 - loss: 0.1708 - acc: 0.93 - ETA: 20:11 - loss: 0.1707 - acc: 0.93 - ETA: 20:08 - loss: 0.1708 - acc: 0.93 - ETA: 20:06 - loss: 0.1708 - acc: 0.93 - ETA: 20:04 - loss: 0.1708 - acc: 0.93 - ETA: 20:02 - loss: 0.1709 - acc: 0.93 - ETA: 20:00 - loss: 0.1711 - acc: 0.93 - ETA: 19:57 - loss: 0.1711 - acc: 0.93 - ETA: 19:55 - loss: 0.1712 - acc: 0.93 - ETA: 19:52 - loss: 0.1712 - acc: 0.93 - ETA: 19:50 - loss: 0.1711 - acc: 0.93 - ETA: 19:49 - loss: 0.1711 - acc: 0.93 - ETA: 19:47 - loss: 0.1712 - acc: 0.93 - ETA: 19:45 - loss: 0.1713 - acc: 0.93 - ETA: 19:42 - loss: 0.1712 - acc: 0.93 - ETA: 19:40 - loss: 0.1712 - acc: 0.93 - ETA: 19:37 - loss: 0.1712 - acc: 0.93 - ETA: 19:35 - loss: 0.1713 - acc: 0.93 - ETA: 19:33 - loss: 0.1713 - acc: 0.93 - ETA: 19:31 - loss: 0.1713 - acc: 0.93 - ETA: 19:28 - loss: 0.1713 - acc: 0.93 - ETA: 19:26 - loss: 0.1713 - acc: 0.93 - ETA: 19:23 - loss: 0.1713 - acc: 0.93 - ETA: 19:21 - loss: 0.1713 - acc: 0.93 - ETA: 19:19 - loss: 0.1713 - acc: 0.93 - ETA: 19:17 - loss: 0.1713 - acc: 0.93 - ETA: 19:15 - loss: 0.1713 - acc: 0.93 - ETA: 19:12 - loss: 0.1713 - acc: 0.93 - ETA: 19:10 - loss: 0.1714 - acc: 0.93 - ETA: 19:07 - loss: 0.1714 - acc: 0.93 - ETA: 19:05 - loss: 0.1715 - acc: 0.93 - ETA: 19:03 - loss: 0.1714 - acc: 0.93 - ETA: 19:00 - loss: 0.1715 - acc: 0.93 - ETA: 18:58 - loss: 0.1715 - acc: 0.93 - ETA: 18:56 - loss: 0.1715 - acc: 0.93 - ETA: 18:53 - loss: 0.1715 - acc: 0.93 - ETA: 18:51 - loss: 0.1716 - acc: 0.93 - ETA: 18:49 - loss: 0.1718 - acc: 0.93 - ETA: 18:47 - loss: 0.1718 - acc: 0.93 - ETA: 18:45 - loss: 0.1717 - acc: 0.93 - ETA: 18:42 - loss: 0.1718 - acc: 0.93 - ETA: 18:40 - loss: 0.1719 - acc: 0.93 - ETA: 18:38 - loss: 0.1720 - acc: 0.93 - ETA: 18:35 - loss: 0.1721 - acc: 0.93 - ETA: 18:33 - loss: 0.1721 - acc: 0.93 - ETA: 18:31 - loss: 0.1721 - acc: 0.93 - ETA: 18:28 - loss: 0.1722 - acc: 0.93 - ETA: 18:26 - loss: 0.1721 - acc: 0.93 - ETA: 18:24 - loss: 0.1722 - acc: 0.93 - ETA: 18:22 - loss: 0.1722 - acc: 0.93 - ETA: 18:19 - loss: 0.1722 - acc: 0.93 - ETA: 18:17 - loss: 0.1721 - acc: 0.93 - ETA: 18:14 - loss: 0.1721 - acc: 0.93 - ETA: 18:12 - loss: 0.1720 - acc: 0.93 - ETA: 18:10 - loss: 0.1719 - acc: 0.93 - ETA: 18:08 - loss: 0.1719 - acc: 0.93 - ETA: 18:06 - loss: 0.1719 - acc: 0.93 - ETA: 18:03 - loss: 0.1719 - acc: 0.93 - ETA: 18:01 - loss: 0.1719 - acc: 0.93 - ETA: 17:58 - loss: 0.1718 - acc: 0.93 - ETA: 17:57 - loss: 0.1718 - acc: 0.93 - ETA: 17:54 - loss: 0.1718 - acc: 0.93 - ETA: 17:52 - loss: 0.1718 - acc: 0.93 - ETA: 17:49 - loss: 0.1718 - acc: 0.93 - ETA: 17:47 - loss: 0.1717 - acc: 0.93 - ETA: 17:45 - loss: 0.1717 - acc: 0.93 - ETA: 17:43 - loss: 0.1716 - acc: 0.93 - ETA: 17:41 - loss: 0.1716 - acc: 0.93 - ETA: 17:38 - loss: 0.1715 - acc: 0.93 - ETA: 17:36 - loss: 0.1716 - acc: 0.93 - ETA: 17:33 - loss: 0.1717 - acc: 0.93 - ETA: 17:31 - loss: 0.1716 - acc: 0.93 - ETA: 17:29 - loss: 0.1717 - acc: 0.93 - ETA: 17:27 - loss: 0.1718 - acc: 0.93 - ETA: 17:24 - loss: 0.1718 - acc: 0.93 - ETA: 17:22 - loss: 0.1718 - acc: 0.93 - ETA: 17:19 - loss: 0.1718 - acc: 0.93 - ETA: 17:17 - loss: 0.1717 - acc: 0.93 - ETA: 17:15 - loss: 0.1717 - acc: 0.93 - ETA: 17:13 - loss: 0.1717 - acc: 0.93 - ETA: 17:11 - loss: 0.1717 - acc: 0.93 - ETA: 17:08 - loss: 0.1718 - acc: 0.93 - ETA: 17:06 - loss: 0.1717 - acc: 0.93 - ETA: 17:04 - loss: 0.1718 - acc: 0.93 - ETA: 17:02 - loss: 0.1719 - acc: 0.93 - ETA: 16:59 - loss: 0.1719 - acc: 0.93 - ETA: 16:57 - loss: 0.1719 - acc: 0.93 - ETA: 16:54 - loss: 0.1719 - acc: 0.93 - ETA: 16:52 - loss: 0.1720 - acc: 0.93 - ETA: 16:50 - loss: 0.1719 - acc: 0.93 - ETA: 16:48 - loss: 0.1720 - acc: 0.93 - ETA: 16:45 - loss: 0.1720 - acc: 0.93 - ETA: 16:43 - loss: 0.1719 - acc: 0.93 - ETA: 16:40 - loss: 0.1720 - acc: 0.93 - ETA: 16:38 - loss: 0.1719 - acc: 0.93 - ETA: 16:36 - loss: 0.1720 - acc: 0.93 - ETA: 16:34 - loss: 0.1720 - acc: 0.93 - ETA: 16:31 - loss: 0.1720 - acc: 0.93 - ETA: 16:29 - loss: 0.1721 - acc: 0.93 - ETA: 16:27 - loss: 0.1720 - acc: 0.93 - ETA: 16:24 - loss: 0.1720 - acc: 0.93 - ETA: 16:22 - loss: 0.1720 - acc: 0.93 - ETA: 16:20 - loss: 0.1719 - acc: 0.93 - ETA: 16:18 - loss: 0.1719 - acc: 0.93 - ETA: 16:15 - loss: 0.1719 - acc: 0.93 - ETA: 16:13 - loss: 0.1718 - acc: 0.93 - ETA: 16:10 - loss: 0.1718 - acc: 0.93 - ETA: 16:09 - loss: 0.1717 - acc: 0.93 - ETA: 16:06 - loss: 0.1717 - acc: 0.93 - ETA: 16:04 - loss: 0.1718 - acc: 0.93 - ETA: 16:02 - loss: 0.1720 - acc: 0.93 - ETA: 15:59 - loss: 0.1720 - acc: 0.93 - ETA: 15:57 - loss: 0.1719 - acc: 0.93 - ETA: 15:55 - loss: 0.1719 - acc: 0.93 - ETA: 15:53 - loss: 0.1719 - acc: 0.93 - ETA: 15:50 - loss: 0.1721 - acc: 0.93 - ETA: 15:48 - loss: 0.1720 - acc: 0.93 - ETA: 15:45 - loss: 0.1722 - acc: 0.93 - ETA: 15:43 - loss: 0.1721 - acc: 0.93 - ETA: 15:41 - loss: 0.1721 - acc: 0.93 - ETA: 15:39 - loss: 0.1721 - acc: 0.93 - ETA: 15:36 - loss: 0.1721 - acc: 0.93 - ETA: 15:34 - loss: 0.1721 - acc: 0.93 - ETA: 15:31 - loss: 0.1721 - acc: 0.93 - ETA: 15:29 - loss: 0.1722 - acc: 0.93 - ETA: 15:27 - loss: 0.1722 - acc: 0.93 - ETA: 15:25 - loss: 0.1721 - acc: 0.93 - ETA: 15:22 - loss: 0.1721 - acc: 0.93 - ETA: 15:20 - loss: 0.1721 - acc: 0.93 - ETA: 15:17 - loss: 0.1721 - acc: 0.93 - ETA: 15:15 - loss: 0.1720 - acc: 0.93 - ETA: 15:13 - loss: 0.1720 - acc: 0.93 - ETA: 15:10 - loss: 0.1720 - acc: 0.93 - ETA: 15:08 - loss: 0.1720 - acc: 0.93 - ETA: 15:06 - loss: 0.1720 - acc: 0.93 - ETA: 15:03 - loss: 0.1720 - acc: 0.93 - ETA: 15:01 - loss: 0.1720 - acc: 0.93 - ETA: 14:59 - loss: 0.1720 - acc: 0.93 - ETA: 14:57 - loss: 0.1720 - acc: 0.93 - ETA: 14:54 - loss: 0.1720 - acc: 0.93 - ETA: 14:52 - loss: 0.1721 - acc: 0.93 - ETA: 14:49 - loss: 0.1720 - acc: 0.93 - ETA: 14:47 - loss: 0.1720 - acc: 0.93 - ETA: 14:45 - loss: 0.1721 - acc: 0.93 - ETA: 14:43 - loss: 0.1720 - acc: 0.93 - ETA: 14:40 - loss: 0.1720 - acc: 0.93 - ETA: 14:38 - loss: 0.1720 - acc: 0.93 - ETA: 14:35 - loss: 0.1720 - acc: 0.93 - ETA: 14:33 - loss: 0.1720 - acc: 0.93 - ETA: 14:31 - loss: 0.1719 - acc: 0.93 - ETA: 14:28 - loss: 0.1718 - acc: 0.93 - ETA: 14:26 - loss: 0.1719 - acc: 0.93 - ETA: 14:23 - loss: 0.1719 - acc: 0.93 - ETA: 14:21 - loss: 0.1719 - acc: 0.93 - ETA: 14:19 - loss: 0.1720 - acc: 0.93 - ETA: 14:17 - loss: 0.1720 - acc: 0.93 - ETA: 14:14 - loss: 0.1720 - acc: 0.93 - ETA: 14:12 - loss: 0.1721 - acc: 0.93 - ETA: 14:09 - loss: 0.1720 - acc: 0.93 - ETA: 14:07 - loss: 0.1720 - acc: 0.93 - ETA: 14:05 - loss: 0.1720 - acc: 0.93 - ETA: 14:02 - loss: 0.1720 - acc: 0.93 - ETA: 14:00 - loss: 0.1719 - acc: 0.93 - ETA: 13:57 - loss: 0.1719 - acc: 0.93 - ETA: 13:55 - loss: 0.1718 - acc: 0.93 - ETA: 13:52 - loss: 0.1718 - acc: 0.93 - ETA: 13:50 - loss: 0.1718 - acc: 0.93 - ETA: 13:48 - loss: 0.1718 - acc: 0.93 - ETA: 13:45 - loss: 0.1717 - acc: 0.93 - ETA: 13:43 - loss: 0.1719 - acc: 0.93 - ETA: 13:41 - loss: 0.1719 - acc: 0.93 - ETA: 13:38 - loss: 0.1718 - acc: 0.93 - ETA: 13:36 - loss: 0.1718 - acc: 0.93 - ETA: 13:34 - loss: 0.1718 - acc: 0.93 - ETA: 13:31 - loss: 0.1718 - acc: 0.93 - ETA: 13:29 - loss: 0.1718 - acc: 0.93 - ETA: 13:26 - loss: 0.1719 - acc: 0.93 - ETA: 13:24 - loss: 0.1718 - acc: 0.93 - ETA: 13:22 - loss: 0.1717 - acc: 0.93 - ETA: 13:19 - loss: 0.1717 - acc: 0.93 - ETA: 13:17 - loss: 0.1717 - acc: 0.93 - ETA: 13:14 - loss: 0.1717 - acc: 0.93 - ETA: 13:12 - loss: 0.1716 - acc: 0.93 - ETA: 13:09 - loss: 0.1717 - acc: 0.93 - ETA: 13:07 - loss: 0.1716 - acc: 0.93 - ETA: 13:05 - loss: 0.1716 - acc: 0.93 - ETA: 13:02 - loss: 0.1716 - acc: 0.93 - ETA: 13:00 - loss: 0.1716 - acc: 0.93 - ETA: 12:57 - loss: 0.1716 - acc: 0.9333102000/112907 [==========================>...] - ETA: 12:55 - loss: 0.1717 - acc: 0.93 - ETA: 12:53 - loss: 0.1718 - acc: 0.93 - ETA: 12:50 - loss: 0.1718 - acc: 0.93 - ETA: 12:48 - loss: 0.1718 - acc: 0.93 - ETA: 12:46 - loss: 0.1718 - acc: 0.93 - ETA: 12:43 - loss: 0.1720 - acc: 0.93 - ETA: 12:41 - loss: 0.1721 - acc: 0.93 - ETA: 12:39 - loss: 0.1720 - acc: 0.93 - ETA: 12:36 - loss: 0.1720 - acc: 0.93 - ETA: 12:34 - loss: 0.1720 - acc: 0.93 - ETA: 12:31 - loss: 0.1721 - acc: 0.93 - ETA: 12:29 - loss: 0.1721 - acc: 0.93 - ETA: 12:27 - loss: 0.1721 - acc: 0.93 - ETA: 12:24 - loss: 0.1722 - acc: 0.93 - ETA: 12:22 - loss: 0.1721 - acc: 0.93 - ETA: 12:19 - loss: 0.1722 - acc: 0.93 - ETA: 12:17 - loss: 0.1723 - acc: 0.93 - ETA: 12:15 - loss: 0.1723 - acc: 0.93 - ETA: 12:12 - loss: 0.1723 - acc: 0.93 - ETA: 12:10 - loss: 0.1722 - acc: 0.93 - ETA: 12:07 - loss: 0.1722 - acc: 0.93 - ETA: 12:05 - loss: 0.1722 - acc: 0.93 - ETA: 12:03 - loss: 0.1722 - acc: 0.93 - ETA: 12:00 - loss: 0.1721 - acc: 0.93 - ETA: 11:58 - loss: 0.1721 - acc: 0.93 - ETA: 11:55 - loss: 0.1722 - acc: 0.93 - ETA: 11:53 - loss: 0.1722 - acc: 0.93 - ETA: 11:51 - loss: 0.1721 - acc: 0.93 - ETA: 11:48 - loss: 0.1722 - acc: 0.93 - ETA: 11:46 - loss: 0.1721 - acc: 0.93 - ETA: 11:44 - loss: 0.1721 - acc: 0.93 - ETA: 11:41 - loss: 0.1723 - acc: 0.93 - ETA: 11:39 - loss: 0.1722 - acc: 0.93 - ETA: 11:36 - loss: 0.1723 - acc: 0.93 - ETA: 11:34 - loss: 0.1723 - acc: 0.93 - ETA: 11:32 - loss: 0.1723 - acc: 0.93 - ETA: 11:29 - loss: 0.1723 - acc: 0.93 - ETA: 11:27 - loss: 0.1724 - acc: 0.93 - ETA: 11:24 - loss: 0.1724 - acc: 0.93 - ETA: 11:22 - loss: 0.1724 - acc: 0.93 - ETA: 11:19 - loss: 0.1724 - acc: 0.93 - ETA: 11:17 - loss: 0.1724 - acc: 0.93 - ETA: 11:15 - loss: 0.1725 - acc: 0.93 - ETA: 11:12 - loss: 0.1727 - acc: 0.93 - ETA: 11:10 - loss: 0.1727 - acc: 0.93 - ETA: 11:07 - loss: 0.1727 - acc: 0.93 - ETA: 11:05 - loss: 0.1728 - acc: 0.93 - ETA: 11:03 - loss: 0.1727 - acc: 0.93 - ETA: 11:00 - loss: 0.1727 - acc: 0.93 - ETA: 10:58 - loss: 0.1727 - acc: 0.93 - ETA: 10:56 - loss: 0.1727 - acc: 0.93 - ETA: 10:53 - loss: 0.1728 - acc: 0.93 - ETA: 10:51 - loss: 0.1728 - acc: 0.93 - ETA: 10:49 - loss: 0.1728 - acc: 0.93 - ETA: 10:47 - loss: 0.1728 - acc: 0.93 - ETA: 10:44 - loss: 0.1728 - acc: 0.93 - ETA: 10:42 - loss: 0.1727 - acc: 0.93 - ETA: 10:39 - loss: 0.1727 - acc: 0.93 - ETA: 10:37 - loss: 0.1726 - acc: 0.93 - ETA: 10:35 - loss: 0.1727 - acc: 0.93 - ETA: 10:32 - loss: 0.1727 - acc: 0.93 - ETA: 10:30 - loss: 0.1728 - acc: 0.93 - ETA: 10:27 - loss: 0.1729 - acc: 0.93 - ETA: 10:25 - loss: 0.1728 - acc: 0.93 - ETA: 10:22 - loss: 0.1728 - acc: 0.93 - ETA: 10:20 - loss: 0.1727 - acc: 0.93 - ETA: 10:17 - loss: 0.1727 - acc: 0.93 - ETA: 10:15 - loss: 0.1727 - acc: 0.93 - ETA: 10:13 - loss: 0.1726 - acc: 0.93 - ETA: 10:10 - loss: 0.1726 - acc: 0.93 - ETA: 10:08 - loss: 0.1726 - acc: 0.93 - ETA: 10:05 - loss: 0.1726 - acc: 0.93 - ETA: 10:03 - loss: 0.1726 - acc: 0.93 - ETA: 10:00 - loss: 0.1726 - acc: 0.93 - ETA: 9:58 - loss: 0.1726 - acc: 0.9330 - ETA: 9:55 - loss: 0.1726 - acc: 0.933 - ETA: 9:53 - loss: 0.1726 - acc: 0.933 - ETA: 9:51 - loss: 0.1727 - acc: 0.933 - ETA: 9:48 - loss: 0.1727 - acc: 0.932 - ETA: 9:46 - loss: 0.1727 - acc: 0.932 - ETA: 9:43 - loss: 0.1728 - acc: 0.932 - ETA: 9:41 - loss: 0.1729 - acc: 0.932 - ETA: 9:38 - loss: 0.1729 - acc: 0.932 - ETA: 9:36 - loss: 0.1729 - acc: 0.932 - ETA: 9:33 - loss: 0.1729 - acc: 0.932 - ETA: 9:31 - loss: 0.1729 - acc: 0.932 - ETA: 9:29 - loss: 0.1729 - acc: 0.932 - ETA: 9:26 - loss: 0.1730 - acc: 0.932 - ETA: 9:24 - loss: 0.1731 - acc: 0.932 - ETA: 9:21 - loss: 0.1731 - acc: 0.932 - ETA: 9:19 - loss: 0.1731 - acc: 0.932 - ETA: 9:17 - loss: 0.1731 - acc: 0.932 - ETA: 9:14 - loss: 0.1731 - acc: 0.932 - ETA: 9:12 - loss: 0.1733 - acc: 0.932 - ETA: 9:09 - loss: 0.1733 - acc: 0.932 - ETA: 9:07 - loss: 0.1735 - acc: 0.932 - ETA: 9:04 - loss: 0.1735 - acc: 0.932 - ETA: 9:02 - loss: 0.1735 - acc: 0.932 - ETA: 8:59 - loss: 0.1736 - acc: 0.932 - ETA: 8:57 - loss: 0.1736 - acc: 0.932 - ETA: 8:54 - loss: 0.1735 - acc: 0.932 - ETA: 8:52 - loss: 0.1736 - acc: 0.932 - ETA: 8:49 - loss: 0.1736 - acc: 0.932 - ETA: 8:47 - loss: 0.1736 - acc: 0.932 - ETA: 8:45 - loss: 0.1737 - acc: 0.932 - ETA: 8:42 - loss: 0.1737 - acc: 0.932 - ETA: 8:40 - loss: 0.1737 - acc: 0.932 - ETA: 8:37 - loss: 0.1737 - acc: 0.932 - ETA: 8:35 - loss: 0.1736 - acc: 0.932 - ETA: 8:32 - loss: 0.1737 - acc: 0.932 - ETA: 8:30 - loss: 0.1738 - acc: 0.932 - ETA: 8:27 - loss: 0.1738 - acc: 0.932 - ETA: 8:25 - loss: 0.1738 - acc: 0.932 - ETA: 8:22 - loss: 0.1738 - acc: 0.932 - ETA: 8:20 - loss: 0.1738 - acc: 0.932 - ETA: 8:18 - loss: 0.1737 - acc: 0.932 - ETA: 8:15 - loss: 0.1738 - acc: 0.932 - ETA: 8:13 - loss: 0.1738 - acc: 0.932 - ETA: 8:10 - loss: 0.1739 - acc: 0.932 - ETA: 8:08 - loss: 0.1739 - acc: 0.932 - ETA: 8:05 - loss: 0.1741 - acc: 0.932 - ETA: 8:03 - loss: 0.1741 - acc: 0.932 - ETA: 8:00 - loss: 0.1740 - acc: 0.932 - ETA: 7:58 - loss: 0.1740 - acc: 0.932 - ETA: 7:55 - loss: 0.1740 - acc: 0.932 - ETA: 7:53 - loss: 0.1740 - acc: 0.932 - ETA: 7:50 - loss: 0.1740 - acc: 0.932 - ETA: 7:48 - loss: 0.1740 - acc: 0.932 - ETA: 7:45 - loss: 0.1739 - acc: 0.932 - ETA: 7:43 - loss: 0.1740 - acc: 0.932 - ETA: 7:40 - loss: 0.1739 - acc: 0.932 - ETA: 7:38 - loss: 0.1739 - acc: 0.932 - ETA: 7:36 - loss: 0.1739 - acc: 0.932 - ETA: 7:33 - loss: 0.1739 - acc: 0.932 - ETA: 7:31 - loss: 0.1739 - acc: 0.932 - ETA: 7:28 - loss: 0.1739 - acc: 0.932 - ETA: 7:26 - loss: 0.1738 - acc: 0.932 - ETA: 7:23 - loss: 0.1738 - acc: 0.932 - ETA: 7:21 - loss: 0.1738 - acc: 0.932 - ETA: 7:18 - loss: 0.1738 - acc: 0.932 - ETA: 7:16 - loss: 0.1738 - acc: 0.932 - ETA: 7:13 - loss: 0.1739 - acc: 0.932 - ETA: 7:11 - loss: 0.1739 - acc: 0.932 - ETA: 7:08 - loss: 0.1740 - acc: 0.932 - ETA: 7:06 - loss: 0.1739 - acc: 0.932 - ETA: 7:03 - loss: 0.1740 - acc: 0.932 - ETA: 7:01 - loss: 0.1740 - acc: 0.932 - ETA: 6:59 - loss: 0.1740 - acc: 0.932 - ETA: 6:56 - loss: 0.1741 - acc: 0.932 - ETA: 6:54 - loss: 0.1741 - acc: 0.932 - ETA: 6:51 - loss: 0.1741 - acc: 0.932 - ETA: 6:49 - loss: 0.1741 - acc: 0.932 - ETA: 6:46 - loss: 0.1741 - acc: 0.932 - ETA: 6:44 - loss: 0.1740 - acc: 0.932 - ETA: 6:41 - loss: 0.1740 - acc: 0.932 - ETA: 6:39 - loss: 0.1740 - acc: 0.932 - ETA: 6:37 - loss: 0.1740 - acc: 0.932 - ETA: 6:34 - loss: 0.1741 - acc: 0.932 - ETA: 6:32 - loss: 0.1741 - acc: 0.932 - ETA: 6:29 - loss: 0.1741 - acc: 0.932 - ETA: 6:27 - loss: 0.1741 - acc: 0.932 - ETA: 6:24 - loss: 0.1741 - acc: 0.932 - ETA: 6:22 - loss: 0.1741 - acc: 0.932 - ETA: 6:19 - loss: 0.1743 - acc: 0.932 - ETA: 6:17 - loss: 0.1743 - acc: 0.932 - ETA: 6:14 - loss: 0.1743 - acc: 0.932 - ETA: 6:12 - loss: 0.1743 - acc: 0.932 - ETA: 6:09 - loss: 0.1743 - acc: 0.932 - ETA: 6:07 - loss: 0.1744 - acc: 0.932 - ETA: 6:04 - loss: 0.1744 - acc: 0.932 - ETA: 6:02 - loss: 0.1744 - acc: 0.932 - ETA: 5:59 - loss: 0.1744 - acc: 0.932 - ETA: 5:57 - loss: 0.1745 - acc: 0.932 - ETA: 5:54 - loss: 0.1745 - acc: 0.932 - ETA: 5:52 - loss: 0.1745 - acc: 0.932 - ETA: 5:49 - loss: 0.1744 - acc: 0.932 - ETA: 5:47 - loss: 0.1744 - acc: 0.932 - ETA: 5:44 - loss: 0.1744 - acc: 0.932 - ETA: 5:42 - loss: 0.1744 - acc: 0.932 - ETA: 5:39 - loss: 0.1745 - acc: 0.932 - ETA: 5:37 - loss: 0.1745 - acc: 0.932 - ETA: 5:34 - loss: 0.1744 - acc: 0.932 - ETA: 5:32 - loss: 0.1744 - acc: 0.932 - ETA: 5:29 - loss: 0.1744 - acc: 0.932 - ETA: 5:27 - loss: 0.1745 - acc: 0.932 - ETA: 5:24 - loss: 0.1744 - acc: 0.932 - ETA: 5:22 - loss: 0.1743 - acc: 0.932 - ETA: 5:19 - loss: 0.1743 - acc: 0.932 - ETA: 5:17 - loss: 0.1744 - acc: 0.932 - ETA: 5:14 - loss: 0.1744 - acc: 0.932 - ETA: 5:12 - loss: 0.1744 - acc: 0.932 - ETA: 5:09 - loss: 0.1744 - acc: 0.932 - ETA: 5:07 - loss: 0.1744 - acc: 0.932 - ETA: 5:04 - loss: 0.1743 - acc: 0.932 - ETA: 5:02 - loss: 0.1743 - acc: 0.932 - ETA: 4:59 - loss: 0.1743 - acc: 0.932 - ETA: 4:57 - loss: 0.1743 - acc: 0.932 - ETA: 4:54 - loss: 0.1743 - acc: 0.932 - ETA: 4:52 - loss: 0.1744 - acc: 0.932 - ETA: 4:49 - loss: 0.1745 - acc: 0.932 - ETA: 4:46 - loss: 0.1744 - acc: 0.932 - ETA: 4:44 - loss: 0.1745 - acc: 0.932 - ETA: 4:41 - loss: 0.1744 - acc: 0.932 - ETA: 4:39 - loss: 0.1744 - acc: 0.9322112907/112907 [==============================] - ETA: 4:36 - loss: 0.1744 - acc: 0.932 - ETA: 4:34 - loss: 0.1744 - acc: 0.932 - ETA: 4:31 - loss: 0.1744 - acc: 0.932 - ETA: 4:29 - loss: 0.1744 - acc: 0.932 - ETA: 4:26 - loss: 0.1744 - acc: 0.932 - ETA: 4:24 - loss: 0.1744 - acc: 0.932 - ETA: 4:21 - loss: 0.1743 - acc: 0.932 - ETA: 4:19 - loss: 0.1743 - acc: 0.932 - ETA: 4:16 - loss: 0.1743 - acc: 0.932 - ETA: 4:14 - loss: 0.1744 - acc: 0.932 - ETA: 4:11 - loss: 0.1744 - acc: 0.932 - ETA: 4:09 - loss: 0.1744 - acc: 0.932 - ETA: 4:06 - loss: 0.1744 - acc: 0.932 - ETA: 4:04 - loss: 0.1744 - acc: 0.932 - ETA: 4:01 - loss: 0.1743 - acc: 0.932 - ETA: 3:59 - loss: 0.1743 - acc: 0.932 - ETA: 3:56 - loss: 0.1744 - acc: 0.932 - ETA: 3:53 - loss: 0.1744 - acc: 0.932 - ETA: 3:51 - loss: 0.1743 - acc: 0.932 - ETA: 3:48 - loss: 0.1744 - acc: 0.932 - ETA: 3:46 - loss: 0.1744 - acc: 0.932 - ETA: 3:43 - loss: 0.1744 - acc: 0.932 - ETA: 3:41 - loss: 0.1744 - acc: 0.932 - ETA: 3:38 - loss: 0.1744 - acc: 0.932 - ETA: 3:36 - loss: 0.1745 - acc: 0.932 - ETA: 3:33 - loss: 0.1745 - acc: 0.932 - ETA: 3:31 - loss: 0.1745 - acc: 0.932 - ETA: 3:28 - loss: 0.1745 - acc: 0.932 - ETA: 3:26 - loss: 0.1745 - acc: 0.932 - ETA: 3:23 - loss: 0.1745 - acc: 0.932 - ETA: 3:20 - loss: 0.1745 - acc: 0.932 - ETA: 3:18 - loss: 0.1746 - acc: 0.932 - ETA: 3:15 - loss: 0.1745 - acc: 0.932 - ETA: 3:13 - loss: 0.1745 - acc: 0.932 - ETA: 3:10 - loss: 0.1745 - acc: 0.932 - ETA: 3:08 - loss: 0.1745 - acc: 0.932 - ETA: 3:05 - loss: 0.1744 - acc: 0.932 - ETA: 3:03 - loss: 0.1744 - acc: 0.932 - ETA: 3:00 - loss: 0.1744 - acc: 0.932 - ETA: 2:58 - loss: 0.1744 - acc: 0.932 - ETA: 2:55 - loss: 0.1744 - acc: 0.932 - ETA: 2:52 - loss: 0.1744 - acc: 0.932 - ETA: 2:50 - loss: 0.1744 - acc: 0.932 - ETA: 2:47 - loss: 0.1745 - acc: 0.932 - ETA: 2:45 - loss: 0.1745 - acc: 0.932 - ETA: 2:42 - loss: 0.1745 - acc: 0.932 - ETA: 2:40 - loss: 0.1745 - acc: 0.932 - ETA: 2:37 - loss: 0.1746 - acc: 0.932 - ETA: 2:35 - loss: 0.1745 - acc: 0.932 - ETA: 2:32 - loss: 0.1745 - acc: 0.932 - ETA: 2:29 - loss: 0.1746 - acc: 0.932 - ETA: 2:27 - loss: 0.1745 - acc: 0.932 - ETA: 2:24 - loss: 0.1746 - acc: 0.932 - ETA: 2:22 - loss: 0.1745 - acc: 0.932 - ETA: 2:19 - loss: 0.1745 - acc: 0.932 - ETA: 2:17 - loss: 0.1745 - acc: 0.932 - ETA: 2:14 - loss: 0.1745 - acc: 0.932 - ETA: 2:12 - loss: 0.1745 - acc: 0.932 - ETA: 2:09 - loss: 0.1746 - acc: 0.932 - ETA: 2:06 - loss: 0.1745 - acc: 0.932 - ETA: 2:04 - loss: 0.1746 - acc: 0.932 - ETA: 2:01 - loss: 0.1745 - acc: 0.932 - ETA: 1:59 - loss: 0.1745 - acc: 0.932 - ETA: 1:56 - loss: 0.1744 - acc: 0.932 - ETA: 1:54 - loss: 0.1744 - acc: 0.932 - ETA: 1:51 - loss: 0.1744 - acc: 0.932 - ETA: 1:48 - loss: 0.1744 - acc: 0.932 - ETA: 1:46 - loss: 0.1744 - acc: 0.932 - ETA: 1:43 - loss: 0.1743 - acc: 0.932 - ETA: 1:41 - loss: 0.1743 - acc: 0.932 - ETA: 1:38 - loss: 0.1743 - acc: 0.932 - ETA: 1:36 - loss: 0.1743 - acc: 0.932 - ETA: 1:33 - loss: 0.1743 - acc: 0.932 - ETA: 1:30 - loss: 0.1743 - acc: 0.932 - ETA: 1:28 - loss: 0.1743 - acc: 0.932 - ETA: 1:25 - loss: 0.1743 - acc: 0.932 - ETA: 1:23 - loss: 0.1743 - acc: 0.932 - ETA: 1:20 - loss: 0.1743 - acc: 0.932 - ETA: 1:17 - loss: 0.1744 - acc: 0.932 - ETA: 1:15 - loss: 0.1743 - acc: 0.932 - ETA: 1:12 - loss: 0.1743 - acc: 0.932 - ETA: 1:10 - loss: 0.1742 - acc: 0.932 - ETA: 1:07 - loss: 0.1741 - acc: 0.932 - ETA: 1:05 - loss: 0.1742 - acc: 0.932 - ETA: 1:02 - loss: 0.1743 - acc: 0.932 - ETA: 59s - loss: 0.1742 - acc: 0.932 - ETA: 57s - loss: 0.1741 - acc: 0.93 - ETA: 54s - loss: 0.1742 - acc: 0.93 - ETA: 52s - loss: 0.1741 - acc: 0.93 - ETA: 49s - loss: 0.1741 - acc: 0.93 - ETA: 46s - loss: 0.1741 - acc: 0.93 - ETA: 44s - loss: 0.1741 - acc: 0.93 - ETA: 41s - loss: 0.1742 - acc: 0.93 - ETA: 39s - loss: 0.1744 - acc: 0.93 - ETA: 36s - loss: 0.1744 - acc: 0.93 - ETA: 33s - loss: 0.1744 - acc: 0.93 - ETA: 31s - loss: 0.1744 - acc: 0.93 - ETA: 28s - loss: 0.1744 - acc: 0.93 - ETA: 26s - loss: 0.1744 - acc: 0.93 - ETA: 23s - loss: 0.1744 - acc: 0.93 - ETA: 20s - loss: 0.1744 - acc: 0.93 - ETA: 18s - loss: 0.1744 - acc: 0.93 - ETA: 15s - loss: 0.1744 - acc: 0.93 - ETA: 13s - loss: 0.1744 - acc: 0.93 - ETA: 10s - loss: 0.1744 - acc: 0.93 - ETA: 7s - loss: 0.1744 - acc: 0.9323 - ETA: 5s - loss: 0.1744 - acc: 0.932 - ETA: 2s - loss: 0.1744 - acc: 0.932 - ETA: 0s - loss: 0.1745 - acc: 0.932 - 3412s 30ms/step - loss: 0.1745 - acc: 0.9323 - val_loss: 0.2862 - val_acc: 0.8921\n"
     ]
    }
   ],
   "source": [
    "# Training the model \n",
    "#set early stopping monitor so the model stops training when it won't improve anymore\n",
    "early_stopping_monitor = EarlyStopping(patience=3)\n",
    "model_conv = create_conv_model()\n",
    "history1 = model_conv.fit(data_train, np.array(train_labels), batch_size=100, validation_split=0.3, epochs = 3,callbacks=[early_stopping_monitor],verbose=1)"
   ]
  },
  {
   "cell_type": "code",
   "execution_count": 38,
   "metadata": {},
   "outputs": [
    {
     "data": {
      "image/png": "[encoded data removed]",
      "text/plain": [
       "<Figure size 432x288 with 1 Axes>"
      ]
     },
     "metadata": {
      "needs_background": "light"
     },
     "output_type": "display_data"
    }
   ],
   "source": [
    "plt.plot(history1.history['loss'],label='train')\n",
    "plt.plot(history1.history['val_loss'],label='validation')\n",
    "plt.legend()\n",
    "plt.title('model loss')\n",
    "plt.ylabel(\"loss\")\n",
    "plt.xlabel(\"epoch\")\n",
    "plt.savefig('LSTM_model_loss.png')"
   ]
  },
  {
   "cell_type": "code",
   "execution_count": 41,
   "metadata": {},
   "outputs": [
    {
     "data": {
      "image/png": "[encoded data removed]",
      "text/plain": [
       "<Figure size 432x288 with 1 Axes>"
      ]
     },
     "metadata": {
      "needs_background": "light"
     },
     "output_type": "display_data"
    }
   ],
   "source": [
    "\n",
    "plt.plot(history1.history['acc'],label='train')\n",
    "plt.plot(history1.history['val_acc'],label='validation')\n",
    "plt.title('model accuracy')\n",
    "plt.legend()\n",
    "plt.ylabel('accuracy')\n",
    "plt.xlabel('epoch')\n",
    "plt.savefig('LSTM_model_accuracy.png')"
   ]
  },
  {
   "cell_type": "code",
   "execution_count": null,
   "metadata": {},
   "outputs": [],
   "source": []
  }
 ],
 "metadata": {
  "kernelspec": {
   "display_name": "Python 3",
   "language": "python",
   "name": "python3"
  },
  "language_info": {
   "codemirror_mode": {
    "name": "ipython",
    "version": 3
   },
   "file_extension": ".py",
   "mimetype": "text/x-python",
   "name": "python",
   "nbconvert_exporter": "python",
   "pygments_lexer": "ipython3",
   "version": "3.7.4"
  }
 },
 "nbformat": 4,
 "nbformat_minor": 2
}
